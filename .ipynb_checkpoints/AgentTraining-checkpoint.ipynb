{
 "cells": [
  {
   "cell_type": "code",
   "execution_count": 1,
   "metadata": {},
   "outputs": [],
   "source": [
    "import torch\n",
    "import matplotlib.pyplot as plt\n",
    "import numpy as np\n",
    "import time \n",
    "import pandas as pd\n",
    "\n",
    "\n",
    "import progressbar\n",
    "from progressbar import FormatLabel, Percentage, Bar, ETA\n",
    "\n",
    "\n",
    "from data_loader import DataLoader\n",
    "#import viewer functions\n",
    "from dataViewer import plotTraj, animatePreview, animateLoc, animateTraj\n",
    "\n",
    "\n",
    "%matplotlib notebook\n",
    "%load_ext autoreload\n",
    "%autoreload 2"
   ]
  },
  {
   "cell_type": "code",
   "execution_count": null,
   "metadata": {},
   "outputs": [],
   "source": []
  },
  {
   "cell_type": "code",
   "execution_count": 61,
   "metadata": {},
   "outputs": [],
   "source": [
    "dtype = torch.float\n",
    "#device = torch.device(\"cpu\")\n",
    "device = torch.device(\"cuda:0\") # Uncomment this to run on GPU\n",
    "\n",
    "\n",
    "number_nei = 6\n",
    "\n",
    "\n",
    "# N is batch size (number of datasets); D_in is input dimension;\n",
    "# H is hidden dimension; D_out is output dimension.\n",
    "D_in, H, D_out =  (number_nei+1)*4, 1550, 2\n",
    "\n",
    "l_o = D_in\n",
    "\n",
    "\n",
    "learning_rate = 0.5e-4\n",
    "\n",
    "iterations = 5000\n",
    "\n",
    "mode = 100000#\"wrap\"\n",
    "\n"
   ]
  },
  {
   "cell_type": "code",
   "execution_count": 62,
   "metadata": {},
   "outputs": [
    {
     "name": "stdout",
     "output_type": "stream",
     "text": [
      "loaded 38 persons\n",
      "Persons:  38\n",
      "Frame maximum : 784\n",
      "loaded 38 trajectories\n",
      "with augmentation 76 trajectories\n",
      "extracted 5912 steps\n"
     ]
    }
   ],
   "source": [
    "FPS = 16\n",
    "\n",
    "BG = \"Datasets/UG/ug.png\"\n",
    "\n",
    "PATH_1 = \"Datasets/UG/UG-roh_nachkorrigiert/ug-100-015.txt\"\n",
    "\n",
    "#PATH_1 = \"test.hd5\"\n",
    "#PATH_1 = \"test.csv\"\n",
    "\n",
    "ds = DataLoader(PATH_1)\n",
    "ds.load()\n",
    "\n",
    "print(\"Persons: \", ds.data.p.max())\n",
    "print(\"Frame maximum :\", ds.data.f.max() )\n",
    "\n",
    "f_x = ds.flip_x\n",
    "train, val, test = ds.get_train_data(number_nei, augmentation=[f_x], shuffle=True, mode=mode)\n"
   ]
  },
  {
   "cell_type": "code",
   "execution_count": 63,
   "metadata": {},
   "outputs": [],
   "source": [
    "t_input, t_truth = train"
   ]
  },
  {
   "cell_type": "code",
   "execution_count": 64,
   "metadata": {},
   "outputs": [],
   "source": [
    "t_i = torch.from_numpy(t_input).to(device)\n",
    "t_t = torch.from_numpy(t_truth).to(device)\n",
    "\n",
    "\n",
    "# A batch is in shape [batches, sequences, sequence length, features]  \n",
    "x=torch.Size([128, 30, 12, 45])\n",
    "y=torch.Size([128, 30, 1, 1])\n",
    "\n",
    "#t_i = t_i.view(1, -1, 1 , D_in)\n",
    "#t_t = t_t.view(1, -1, 1, D_out)"
   ]
  },
  {
   "cell_type": "code",
   "execution_count": 65,
   "metadata": {},
   "outputs": [],
   "source": [
    "#x_batches, x_seqs, x_seq_len, x_features = t_i.shape"
   ]
  },
  {
   "cell_type": "markdown",
   "metadata": {},
   "source": [
    "# Define Model"
   ]
  },
  {
   "cell_type": "code",
   "execution_count": 66,
   "metadata": {},
   "outputs": [],
   "source": [
    "\n",
    "#define network\n",
    "model = torch.nn.Sequential(\n",
    "    \n",
    "    torch.nn.Linear(D_in, H), \n",
    "    torch.nn.ReLU(),\n",
    "    torch.nn.Linear(H, H),\n",
    "    \n",
    "    torch.nn.ReLU(),\n",
    "    torch.nn.Linear(H, H),\n",
    "    torch.nn.ReLU(),\n",
    "    \n",
    "    #torch.nn.Dropout(p=0.2),\n",
    "    \n",
    "    torch.nn.Linear(H, H),\n",
    "    \n",
    "    torch.nn.ReLU(),\n",
    "    \n",
    "    torch.nn.Linear(H, H),\n",
    "    torch.nn.ReLU(),\n",
    "    \n",
    "    torch.nn.Linear(H, D_out)\n",
    "    \n",
    "    \n",
    "    \n",
    ")\n",
    "\n",
    "\n",
    "\n",
    "\n",
    "#model = Model()\n",
    "\n",
    "if device.type.startswith(\"cuda\"):\n",
    "    model.cuda()"
   ]
  },
  {
   "cell_type": "code",
   "execution_count": 67,
   "metadata": {},
   "outputs": [],
   "source": [
    "#choose loss function - can be played around with\n",
    "loss_fn = torch.nn.MSELoss(reduction='sum')\n",
    "\n",
    "\n",
    "optimizer = torch.optim.Adam(model.parameters(), lr=learning_rate)\n",
    "\n"
   ]
  },
  {
   "cell_type": "code",
   "execution_count": 68,
   "metadata": {},
   "outputs": [
    {
     "name": "stderr",
     "output_type": "stream",
     "text": [
      "loss: 6.02e+06 100% |##########################################| Time:  0:02:31\n"
     ]
    }
   ],
   "source": [
    "\n",
    "\n",
    "\n",
    "\n",
    "pbar = progressbar.ProgressBar(max_value=iterations)\n",
    "\n",
    "widgets = [FormatLabel(''), ' ', Percentage(), ' ', Bar(), ' ', ETA()]\n",
    "pbar = progressbar.ProgressBar(widgets=widgets, maxval=iterations)\n",
    "pbar.start()\n",
    "\n",
    "for t in range(iterations):\n",
    "    # Forward pass: compute predicted y using operations on Tensors; these\n",
    "    # are exactly the same operations we used to compute the forward pass using\n",
    "    # Tensors, but we do not need to keep references to intermediate values since\n",
    "    # we are not implementing the backward pass by hand.\n",
    "    y_pred = model(t_i)\n",
    "\n",
    "    # Compute and print loss using operations on Tensors.\n",
    "    # Now loss is a Tensor of shape (1,)\n",
    "    # loss.item() gets the scalar value held in the loss.\n",
    "    loss = loss_fn(y_pred, t_t)\n",
    "    if t % 10 == 9:\n",
    "        widgets[0] = FormatLabel('loss: {:.4}'.format(loss.item()))\n",
    "        #print(t, loss.item())\n",
    "\n",
    "\n",
    "    model.zero_grad()\n",
    "    # Use autograd to compute the backward pass. This call will compute the\n",
    "    # gradient of loss with respect to all Tensors with requires_grad=True.\n",
    "    # After this call w1.grad and w2.grad will be Tensors holding the gradient\n",
    "    # of the loss with respect to w1 and w2 respectively.\n",
    "    loss.backward()\n",
    "\n",
    "    # Calling the step function on an Optimizer makes an update to its\n",
    "    # parameters\n",
    "    optimizer.step()\n",
    "    pbar.update(t)\n",
    "\n",
    "pbar.finish()\n",
    "\n",
    "\n",
    "\n",
    "\n"
   ]
  },
  {
   "cell_type": "code",
   "execution_count": 69,
   "metadata": {},
   "outputs": [
    {
     "name": "stdout",
     "output_type": "stream",
     "text": [
      "38\n"
     ]
    }
   ],
   "source": [
    "\n",
    "frame, traj = ds.person(1)\n",
    "\n",
    "da = DataLoader(None)\n",
    "\n",
    "da.copy(ds)\n",
    "\n",
    "print(da.persons)\n",
    "\n",
    "#for i in range(3, da.persons+1):\n",
    "#    da.remove_person(i)\n"
   ]
  },
  {
   "cell_type": "code",
   "execution_count": null,
   "metadata": {},
   "outputs": [],
   "source": []
  },
  {
   "cell_type": "code",
   "execution_count": 70,
   "metadata": {
    "code_folding": []
   },
   "outputs": [],
   "source": [
    "class Agent():\n",
    "    def __init__(self, model, pos_vel_0, id=100, frame_0=0, T=1/16, device=\"cpu\"):\n",
    "        \n",
    "        \n",
    "        self.id = id\n",
    "        \n",
    "        self.model = model\n",
    "        self.device = device\n",
    "        \n",
    "        if self.device.type.startswith(\"cuda\"):\n",
    "            self.model.cuda()\n",
    "        \n",
    "        self.pos_vel_0 = pos_vel_0\n",
    "        self.frame_c = frame_0\n",
    "        \n",
    "        self.T = T\n",
    "        \n",
    "        # position and velocity data\n",
    "        self.frames = [frame_0]\n",
    "        self.traj = [pos_vel_0]\n",
    "        \n",
    "    @property \n",
    "    def pos(self):\n",
    "        return traj[-1, :2]\n",
    "    \n",
    "    @property\n",
    "    def vel(self):\n",
    "        return traj[-1, 4:]\n",
    "        \n",
    "    def step(self, neighbors):\n",
    "        \n",
    "        x_sim = torch.from_numpy(neighbors).to(self.device)\n",
    "\n",
    "        y_sim = model(x_sim.float())\n",
    "\n",
    "        v_sim = (y_sim[:2]-x_sim[:2])/self.T\n",
    "        \n",
    "        self.traj.append( np.concatenate( (y_sim.cpu().detach().numpy(), [0], v_sim.cpu().detach().numpy()) ) )\n",
    "        self.frame_c +=1\n",
    "        self.frames.append(self.frame_c)\n",
    "        \n",
    "        return self.traj[-1]\n",
    "        "
   ]
  },
  {
   "cell_type": "code",
   "execution_count": 71,
   "metadata": {
    "code_folding": [
     1
    ]
   },
   "outputs": [],
   "source": [
    "class Engine():\n",
    "    def __init__(self, ds, agents=[], nn=10, mode=\"wraps\", exportpath=\"sim.csv\"):\n",
    "        \n",
    "        self.ds = DataLoader(exportpath)\n",
    "        self.ds.copy(ds)\n",
    "        \n",
    "        self.agents = agents\n",
    "        \n",
    "        self.nn = nn\n",
    "        self.mode = mode\n",
    "        \n",
    "        self.cur_f = 0\n",
    "        \n",
    "    def step(self, ):\n",
    "        \n",
    "        for a in self.agents:\n",
    "            _, pos_vel = self.ds.frame_nn(self.cur_f, a.id, nn=self.nn, use_roi=False, mode=self.mode)\n",
    "            n_pos_vel = a.step(pos_vel.ravel())\n",
    "            \n",
    "            n_pos_vel [[0, 1]] = n_pos_vel [[1, 0]]\n",
    "           \n",
    "            \n",
    "            # TODO write to ds\n",
    "            entry = np.concatenate( ([a.id], [self.cur_f+1], n_pos_vel ) )\n",
    "            \n",
    "            if len(self.ds.data[(self.ds.data[\"p\"]==a.id) & (self.ds.data[\"f\"]==self.cur_f+1)]):\n",
    "                self.ds.data[(self.ds.data[\"p\"]==a.id) & (self.ds.data[\"f\"]==self.cur_f+1)] = entry\n",
    "            else:\n",
    "                self.ds.data = self.ds.data.append(pd.DataFrame([entry],\n",
    "                                                                columns=list(self.ds.data)),\n",
    "                                                               ignore_index=True)           \n",
    "        \n",
    "        self.cur_f += 1\n",
    "    \n",
    "    def run(self, start_f, stop_f, ):\n",
    "        self.cur_f = start_f\n",
    "        \n",
    "        widgets = [FormatLabel(''), ' ', Percentage(), ' ', Bar(), ' ', ETA()]\n",
    "        pbar = progressbar.ProgressBar(widgets=widgets, maxval=iterations)\n",
    "        pbar.start()\n",
    "        \n",
    "        for  a in self.agents:\n",
    "            \n",
    "            entry = np.concatenate( ([a.id],  [a.frame_c],  a.pos_vel_0[1::-1], [0],  a.pos_vel_0[2:]) )\n",
    "            if len(self.ds.data[(self.ds.data[\"p\"]==a.id) & (self.ds.data[\"f\"]==a.frame_c)]):\n",
    "                self.ds.data[(self.ds.data[\"p\"]==a.id) & (self.ds.data[\"f\"]==a.frame_c)] = entry\n",
    "            else:\n",
    "                self.ds.data = self.ds.data.append(pd.DataFrame([entry],\n",
    "                                                                columns=list(self.ds.data)),\n",
    "                                                               ignore_index=True)\n",
    "        \n",
    "        \n",
    "        while self.cur_f < stop_f:\n",
    "            self.step()\n",
    "            widgets[0] = FormatLabel('frame: {:4}'.format(self.cur_f))\n",
    "            pbar.update()\n",
    "        \n",
    "        pbar.finish()\n",
    "\n",
    "\n",
    "    \n",
    "    def save(self, ):\n",
    "        pass\n",
    "        "
   ]
  },
  {
   "cell_type": "code",
   "execution_count": 82,
   "metadata": {
    "scrolled": false
   },
   "outputs": [
    {
     "name": "stderr",
     "output_type": "stream",
     "text": [
      "frame:   67 N/A% |                                             | ETA:  --:--:--"
     ]
    },
    {
     "name": "stdout",
     "output_type": "stream",
     "text": [
      "(68, 4)\n",
      "102\n"
     ]
    },
    {
     "name": "stderr",
     "output_type": "stream",
     "text": [
      "frame:  108 100% |#############################################| Time:  0:00:00\n"
     ]
    },
    {
     "data": {
      "text/plain": [
       "39"
      ]
     },
     "execution_count": 82,
     "metadata": {},
     "output_type": "execute_result"
    }
   ],
   "source": [
    "\n",
    "test_person = 2\n",
    "\n",
    "da = DataLoader(None)\n",
    "\n",
    "da.copy(ds)\n",
    "\n",
    "frames_o, pos_vel_o = da.person(test_person, )\n",
    "\n",
    "frames, pos_vel = ds.grab_roi(frames_o, pos_vel_o, x_pad=50)\n",
    "\n",
    "da.remove_person(test_person)\n",
    "\n",
    "print(pos_vel.shape)\n",
    "\n",
    "agent = Agent(model, pos_vel_0=pos_vel[0], frame_0=frames[0], device=device, id=100+test_person )\n",
    "\n",
    "\n",
    "print(agent.id )\n",
    "\n",
    "sim = Engine(da, agents=[agent], nn=number_nei, mode=mode, )\n",
    "\n",
    "sim.run(frames[0], frames[-1], )\n",
    "\n",
    "dp.persons"
   ]
  },
  {
   "cell_type": "code",
   "execution_count": 85,
   "metadata": {},
   "outputs": [
    {
     "data": {
      "application/javascript": [
       "/* Put everything inside the global mpl namespace */\n",
       "window.mpl = {};\n",
       "\n",
       "\n",
       "mpl.get_websocket_type = function() {\n",
       "    if (typeof(WebSocket) !== 'undefined') {\n",
       "        return WebSocket;\n",
       "    } else if (typeof(MozWebSocket) !== 'undefined') {\n",
       "        return MozWebSocket;\n",
       "    } else {\n",
       "        alert('Your browser does not have WebSocket support. ' +\n",
       "              'Please try Chrome, Safari or Firefox ≥ 6. ' +\n",
       "              'Firefox 4 and 5 are also supported but you ' +\n",
       "              'have to enable WebSockets in about:config.');\n",
       "    };\n",
       "}\n",
       "\n",
       "mpl.figure = function(figure_id, websocket, ondownload, parent_element) {\n",
       "    this.id = figure_id;\n",
       "\n",
       "    this.ws = websocket;\n",
       "\n",
       "    this.supports_binary = (this.ws.binaryType != undefined);\n",
       "\n",
       "    if (!this.supports_binary) {\n",
       "        var warnings = document.getElementById(\"mpl-warnings\");\n",
       "        if (warnings) {\n",
       "            warnings.style.display = 'block';\n",
       "            warnings.textContent = (\n",
       "                \"This browser does not support binary websocket messages. \" +\n",
       "                    \"Performance may be slow.\");\n",
       "        }\n",
       "    }\n",
       "\n",
       "    this.imageObj = new Image();\n",
       "\n",
       "    this.context = undefined;\n",
       "    this.message = undefined;\n",
       "    this.canvas = undefined;\n",
       "    this.rubberband_canvas = undefined;\n",
       "    this.rubberband_context = undefined;\n",
       "    this.format_dropdown = undefined;\n",
       "\n",
       "    this.image_mode = 'full';\n",
       "\n",
       "    this.root = $('<div/>');\n",
       "    this._root_extra_style(this.root)\n",
       "    this.root.attr('style', 'display: inline-block');\n",
       "\n",
       "    $(parent_element).append(this.root);\n",
       "\n",
       "    this._init_header(this);\n",
       "    this._init_canvas(this);\n",
       "    this._init_toolbar(this);\n",
       "\n",
       "    var fig = this;\n",
       "\n",
       "    this.waiting = false;\n",
       "\n",
       "    this.ws.onopen =  function () {\n",
       "            fig.send_message(\"supports_binary\", {value: fig.supports_binary});\n",
       "            fig.send_message(\"send_image_mode\", {});\n",
       "            if (mpl.ratio != 1) {\n",
       "                fig.send_message(\"set_dpi_ratio\", {'dpi_ratio': mpl.ratio});\n",
       "            }\n",
       "            fig.send_message(\"refresh\", {});\n",
       "        }\n",
       "\n",
       "    this.imageObj.onload = function() {\n",
       "            if (fig.image_mode == 'full') {\n",
       "                // Full images could contain transparency (where diff images\n",
       "                // almost always do), so we need to clear the canvas so that\n",
       "                // there is no ghosting.\n",
       "                fig.context.clearRect(0, 0, fig.canvas.width, fig.canvas.height);\n",
       "            }\n",
       "            fig.context.drawImage(fig.imageObj, 0, 0);\n",
       "        };\n",
       "\n",
       "    this.imageObj.onunload = function() {\n",
       "        fig.ws.close();\n",
       "    }\n",
       "\n",
       "    this.ws.onmessage = this._make_on_message_function(this);\n",
       "\n",
       "    this.ondownload = ondownload;\n",
       "}\n",
       "\n",
       "mpl.figure.prototype._init_header = function() {\n",
       "    var titlebar = $(\n",
       "        '<div class=\"ui-dialog-titlebar ui-widget-header ui-corner-all ' +\n",
       "        'ui-helper-clearfix\"/>');\n",
       "    var titletext = $(\n",
       "        '<div class=\"ui-dialog-title\" style=\"width: 100%; ' +\n",
       "        'text-align: center; padding: 3px;\"/>');\n",
       "    titlebar.append(titletext)\n",
       "    this.root.append(titlebar);\n",
       "    this.header = titletext[0];\n",
       "}\n",
       "\n",
       "\n",
       "\n",
       "mpl.figure.prototype._canvas_extra_style = function(canvas_div) {\n",
       "\n",
       "}\n",
       "\n",
       "\n",
       "mpl.figure.prototype._root_extra_style = function(canvas_div) {\n",
       "\n",
       "}\n",
       "\n",
       "mpl.figure.prototype._init_canvas = function() {\n",
       "    var fig = this;\n",
       "\n",
       "    var canvas_div = $('<div/>');\n",
       "\n",
       "    canvas_div.attr('style', 'position: relative; clear: both; outline: 0');\n",
       "\n",
       "    function canvas_keyboard_event(event) {\n",
       "        return fig.key_event(event, event['data']);\n",
       "    }\n",
       "\n",
       "    canvas_div.keydown('key_press', canvas_keyboard_event);\n",
       "    canvas_div.keyup('key_release', canvas_keyboard_event);\n",
       "    this.canvas_div = canvas_div\n",
       "    this._canvas_extra_style(canvas_div)\n",
       "    this.root.append(canvas_div);\n",
       "\n",
       "    var canvas = $('<canvas/>');\n",
       "    canvas.addClass('mpl-canvas');\n",
       "    canvas.attr('style', \"left: 0; top: 0; z-index: 0; outline: 0\")\n",
       "\n",
       "    this.canvas = canvas[0];\n",
       "    this.context = canvas[0].getContext(\"2d\");\n",
       "\n",
       "    var backingStore = this.context.backingStorePixelRatio ||\n",
       "\tthis.context.webkitBackingStorePixelRatio ||\n",
       "\tthis.context.mozBackingStorePixelRatio ||\n",
       "\tthis.context.msBackingStorePixelRatio ||\n",
       "\tthis.context.oBackingStorePixelRatio ||\n",
       "\tthis.context.backingStorePixelRatio || 1;\n",
       "\n",
       "    mpl.ratio = (window.devicePixelRatio || 1) / backingStore;\n",
       "\n",
       "    var rubberband = $('<canvas/>');\n",
       "    rubberband.attr('style', \"position: absolute; left: 0; top: 0; z-index: 1;\")\n",
       "\n",
       "    var pass_mouse_events = true;\n",
       "\n",
       "    canvas_div.resizable({\n",
       "        start: function(event, ui) {\n",
       "            pass_mouse_events = false;\n",
       "        },\n",
       "        resize: function(event, ui) {\n",
       "            fig.request_resize(ui.size.width, ui.size.height);\n",
       "        },\n",
       "        stop: function(event, ui) {\n",
       "            pass_mouse_events = true;\n",
       "            fig.request_resize(ui.size.width, ui.size.height);\n",
       "        },\n",
       "    });\n",
       "\n",
       "    function mouse_event_fn(event) {\n",
       "        if (pass_mouse_events)\n",
       "            return fig.mouse_event(event, event['data']);\n",
       "    }\n",
       "\n",
       "    rubberband.mousedown('button_press', mouse_event_fn);\n",
       "    rubberband.mouseup('button_release', mouse_event_fn);\n",
       "    // Throttle sequential mouse events to 1 every 20ms.\n",
       "    rubberband.mousemove('motion_notify', mouse_event_fn);\n",
       "\n",
       "    rubberband.mouseenter('figure_enter', mouse_event_fn);\n",
       "    rubberband.mouseleave('figure_leave', mouse_event_fn);\n",
       "\n",
       "    canvas_div.on(\"wheel\", function (event) {\n",
       "        event = event.originalEvent;\n",
       "        event['data'] = 'scroll'\n",
       "        if (event.deltaY < 0) {\n",
       "            event.step = 1;\n",
       "        } else {\n",
       "            event.step = -1;\n",
       "        }\n",
       "        mouse_event_fn(event);\n",
       "    });\n",
       "\n",
       "    canvas_div.append(canvas);\n",
       "    canvas_div.append(rubberband);\n",
       "\n",
       "    this.rubberband = rubberband;\n",
       "    this.rubberband_canvas = rubberband[0];\n",
       "    this.rubberband_context = rubberband[0].getContext(\"2d\");\n",
       "    this.rubberband_context.strokeStyle = \"#000000\";\n",
       "\n",
       "    this._resize_canvas = function(width, height) {\n",
       "        // Keep the size of the canvas, canvas container, and rubber band\n",
       "        // canvas in synch.\n",
       "        canvas_div.css('width', width)\n",
       "        canvas_div.css('height', height)\n",
       "\n",
       "        canvas.attr('width', width * mpl.ratio);\n",
       "        canvas.attr('height', height * mpl.ratio);\n",
       "        canvas.attr('style', 'width: ' + width + 'px; height: ' + height + 'px;');\n",
       "\n",
       "        rubberband.attr('width', width);\n",
       "        rubberband.attr('height', height);\n",
       "    }\n",
       "\n",
       "    // Set the figure to an initial 600x600px, this will subsequently be updated\n",
       "    // upon first draw.\n",
       "    this._resize_canvas(600, 600);\n",
       "\n",
       "    // Disable right mouse context menu.\n",
       "    $(this.rubberband_canvas).bind(\"contextmenu\",function(e){\n",
       "        return false;\n",
       "    });\n",
       "\n",
       "    function set_focus () {\n",
       "        canvas.focus();\n",
       "        canvas_div.focus();\n",
       "    }\n",
       "\n",
       "    window.setTimeout(set_focus, 100);\n",
       "}\n",
       "\n",
       "mpl.figure.prototype._init_toolbar = function() {\n",
       "    var fig = this;\n",
       "\n",
       "    var nav_element = $('<div/>');\n",
       "    nav_element.attr('style', 'width: 100%');\n",
       "    this.root.append(nav_element);\n",
       "\n",
       "    // Define a callback function for later on.\n",
       "    function toolbar_event(event) {\n",
       "        return fig.toolbar_button_onclick(event['data']);\n",
       "    }\n",
       "    function toolbar_mouse_event(event) {\n",
       "        return fig.toolbar_button_onmouseover(event['data']);\n",
       "    }\n",
       "\n",
       "    for(var toolbar_ind in mpl.toolbar_items) {\n",
       "        var name = mpl.toolbar_items[toolbar_ind][0];\n",
       "        var tooltip = mpl.toolbar_items[toolbar_ind][1];\n",
       "        var image = mpl.toolbar_items[toolbar_ind][2];\n",
       "        var method_name = mpl.toolbar_items[toolbar_ind][3];\n",
       "\n",
       "        if (!name) {\n",
       "            // put a spacer in here.\n",
       "            continue;\n",
       "        }\n",
       "        var button = $('<button/>');\n",
       "        button.addClass('ui-button ui-widget ui-state-default ui-corner-all ' +\n",
       "                        'ui-button-icon-only');\n",
       "        button.attr('role', 'button');\n",
       "        button.attr('aria-disabled', 'false');\n",
       "        button.click(method_name, toolbar_event);\n",
       "        button.mouseover(tooltip, toolbar_mouse_event);\n",
       "\n",
       "        var icon_img = $('<span/>');\n",
       "        icon_img.addClass('ui-button-icon-primary ui-icon');\n",
       "        icon_img.addClass(image);\n",
       "        icon_img.addClass('ui-corner-all');\n",
       "\n",
       "        var tooltip_span = $('<span/>');\n",
       "        tooltip_span.addClass('ui-button-text');\n",
       "        tooltip_span.html(tooltip);\n",
       "\n",
       "        button.append(icon_img);\n",
       "        button.append(tooltip_span);\n",
       "\n",
       "        nav_element.append(button);\n",
       "    }\n",
       "\n",
       "    var fmt_picker_span = $('<span/>');\n",
       "\n",
       "    var fmt_picker = $('<select/>');\n",
       "    fmt_picker.addClass('mpl-toolbar-option ui-widget ui-widget-content');\n",
       "    fmt_picker_span.append(fmt_picker);\n",
       "    nav_element.append(fmt_picker_span);\n",
       "    this.format_dropdown = fmt_picker[0];\n",
       "\n",
       "    for (var ind in mpl.extensions) {\n",
       "        var fmt = mpl.extensions[ind];\n",
       "        var option = $(\n",
       "            '<option/>', {selected: fmt === mpl.default_extension}).html(fmt);\n",
       "        fmt_picker.append(option);\n",
       "    }\n",
       "\n",
       "    // Add hover states to the ui-buttons\n",
       "    $( \".ui-button\" ).hover(\n",
       "        function() { $(this).addClass(\"ui-state-hover\");},\n",
       "        function() { $(this).removeClass(\"ui-state-hover\");}\n",
       "    );\n",
       "\n",
       "    var status_bar = $('<span class=\"mpl-message\"/>');\n",
       "    nav_element.append(status_bar);\n",
       "    this.message = status_bar[0];\n",
       "}\n",
       "\n",
       "mpl.figure.prototype.request_resize = function(x_pixels, y_pixels) {\n",
       "    // Request matplotlib to resize the figure. Matplotlib will then trigger a resize in the client,\n",
       "    // which will in turn request a refresh of the image.\n",
       "    this.send_message('resize', {'width': x_pixels, 'height': y_pixels});\n",
       "}\n",
       "\n",
       "mpl.figure.prototype.send_message = function(type, properties) {\n",
       "    properties['type'] = type;\n",
       "    properties['figure_id'] = this.id;\n",
       "    this.ws.send(JSON.stringify(properties));\n",
       "}\n",
       "\n",
       "mpl.figure.prototype.send_draw_message = function() {\n",
       "    if (!this.waiting) {\n",
       "        this.waiting = true;\n",
       "        this.ws.send(JSON.stringify({type: \"draw\", figure_id: this.id}));\n",
       "    }\n",
       "}\n",
       "\n",
       "\n",
       "mpl.figure.prototype.handle_save = function(fig, msg) {\n",
       "    var format_dropdown = fig.format_dropdown;\n",
       "    var format = format_dropdown.options[format_dropdown.selectedIndex].value;\n",
       "    fig.ondownload(fig, format);\n",
       "}\n",
       "\n",
       "\n",
       "mpl.figure.prototype.handle_resize = function(fig, msg) {\n",
       "    var size = msg['size'];\n",
       "    if (size[0] != fig.canvas.width || size[1] != fig.canvas.height) {\n",
       "        fig._resize_canvas(size[0], size[1]);\n",
       "        fig.send_message(\"refresh\", {});\n",
       "    };\n",
       "}\n",
       "\n",
       "mpl.figure.prototype.handle_rubberband = function(fig, msg) {\n",
       "    var x0 = msg['x0'] / mpl.ratio;\n",
       "    var y0 = (fig.canvas.height - msg['y0']) / mpl.ratio;\n",
       "    var x1 = msg['x1'] / mpl.ratio;\n",
       "    var y1 = (fig.canvas.height - msg['y1']) / mpl.ratio;\n",
       "    x0 = Math.floor(x0) + 0.5;\n",
       "    y0 = Math.floor(y0) + 0.5;\n",
       "    x1 = Math.floor(x1) + 0.5;\n",
       "    y1 = Math.floor(y1) + 0.5;\n",
       "    var min_x = Math.min(x0, x1);\n",
       "    var min_y = Math.min(y0, y1);\n",
       "    var width = Math.abs(x1 - x0);\n",
       "    var height = Math.abs(y1 - y0);\n",
       "\n",
       "    fig.rubberband_context.clearRect(\n",
       "        0, 0, fig.canvas.width / mpl.ratio, fig.canvas.height / mpl.ratio);\n",
       "\n",
       "    fig.rubberband_context.strokeRect(min_x, min_y, width, height);\n",
       "}\n",
       "\n",
       "mpl.figure.prototype.handle_figure_label = function(fig, msg) {\n",
       "    // Updates the figure title.\n",
       "    fig.header.textContent = msg['label'];\n",
       "}\n",
       "\n",
       "mpl.figure.prototype.handle_cursor = function(fig, msg) {\n",
       "    var cursor = msg['cursor'];\n",
       "    switch(cursor)\n",
       "    {\n",
       "    case 0:\n",
       "        cursor = 'pointer';\n",
       "        break;\n",
       "    case 1:\n",
       "        cursor = 'default';\n",
       "        break;\n",
       "    case 2:\n",
       "        cursor = 'crosshair';\n",
       "        break;\n",
       "    case 3:\n",
       "        cursor = 'move';\n",
       "        break;\n",
       "    }\n",
       "    fig.rubberband_canvas.style.cursor = cursor;\n",
       "}\n",
       "\n",
       "mpl.figure.prototype.handle_message = function(fig, msg) {\n",
       "    fig.message.textContent = msg['message'];\n",
       "}\n",
       "\n",
       "mpl.figure.prototype.handle_draw = function(fig, msg) {\n",
       "    // Request the server to send over a new figure.\n",
       "    fig.send_draw_message();\n",
       "}\n",
       "\n",
       "mpl.figure.prototype.handle_image_mode = function(fig, msg) {\n",
       "    fig.image_mode = msg['mode'];\n",
       "}\n",
       "\n",
       "mpl.figure.prototype.updated_canvas_event = function() {\n",
       "    // Called whenever the canvas gets updated.\n",
       "    this.send_message(\"ack\", {});\n",
       "}\n",
       "\n",
       "// A function to construct a web socket function for onmessage handling.\n",
       "// Called in the figure constructor.\n",
       "mpl.figure.prototype._make_on_message_function = function(fig) {\n",
       "    return function socket_on_message(evt) {\n",
       "        if (evt.data instanceof Blob) {\n",
       "            /* FIXME: We get \"Resource interpreted as Image but\n",
       "             * transferred with MIME type text/plain:\" errors on\n",
       "             * Chrome.  But how to set the MIME type?  It doesn't seem\n",
       "             * to be part of the websocket stream */\n",
       "            evt.data.type = \"image/png\";\n",
       "\n",
       "            /* Free the memory for the previous frames */\n",
       "            if (fig.imageObj.src) {\n",
       "                (window.URL || window.webkitURL).revokeObjectURL(\n",
       "                    fig.imageObj.src);\n",
       "            }\n",
       "\n",
       "            fig.imageObj.src = (window.URL || window.webkitURL).createObjectURL(\n",
       "                evt.data);\n",
       "            fig.updated_canvas_event();\n",
       "            fig.waiting = false;\n",
       "            return;\n",
       "        }\n",
       "        else if (typeof evt.data === 'string' && evt.data.slice(0, 21) == \"data:image/png;base64\") {\n",
       "            fig.imageObj.src = evt.data;\n",
       "            fig.updated_canvas_event();\n",
       "            fig.waiting = false;\n",
       "            return;\n",
       "        }\n",
       "\n",
       "        var msg = JSON.parse(evt.data);\n",
       "        var msg_type = msg['type'];\n",
       "\n",
       "        // Call the  \"handle_{type}\" callback, which takes\n",
       "        // the figure and JSON message as its only arguments.\n",
       "        try {\n",
       "            var callback = fig[\"handle_\" + msg_type];\n",
       "        } catch (e) {\n",
       "            console.log(\"No handler for the '\" + msg_type + \"' message type: \", msg);\n",
       "            return;\n",
       "        }\n",
       "\n",
       "        if (callback) {\n",
       "            try {\n",
       "                // console.log(\"Handling '\" + msg_type + \"' message: \", msg);\n",
       "                callback(fig, msg);\n",
       "            } catch (e) {\n",
       "                console.log(\"Exception inside the 'handler_\" + msg_type + \"' callback:\", e, e.stack, msg);\n",
       "            }\n",
       "        }\n",
       "    };\n",
       "}\n",
       "\n",
       "// from http://stackoverflow.com/questions/1114465/getting-mouse-location-in-canvas\n",
       "mpl.findpos = function(e) {\n",
       "    //this section is from http://www.quirksmode.org/js/events_properties.html\n",
       "    var targ;\n",
       "    if (!e)\n",
       "        e = window.event;\n",
       "    if (e.target)\n",
       "        targ = e.target;\n",
       "    else if (e.srcElement)\n",
       "        targ = e.srcElement;\n",
       "    if (targ.nodeType == 3) // defeat Safari bug\n",
       "        targ = targ.parentNode;\n",
       "\n",
       "    // jQuery normalizes the pageX and pageY\n",
       "    // pageX,Y are the mouse positions relative to the document\n",
       "    // offset() returns the position of the element relative to the document\n",
       "    var x = e.pageX - $(targ).offset().left;\n",
       "    var y = e.pageY - $(targ).offset().top;\n",
       "\n",
       "    return {\"x\": x, \"y\": y};\n",
       "};\n",
       "\n",
       "/*\n",
       " * return a copy of an object with only non-object keys\n",
       " * we need this to avoid circular references\n",
       " * http://stackoverflow.com/a/24161582/3208463\n",
       " */\n",
       "function simpleKeys (original) {\n",
       "  return Object.keys(original).reduce(function (obj, key) {\n",
       "    if (typeof original[key] !== 'object')\n",
       "        obj[key] = original[key]\n",
       "    return obj;\n",
       "  }, {});\n",
       "}\n",
       "\n",
       "mpl.figure.prototype.mouse_event = function(event, name) {\n",
       "    var canvas_pos = mpl.findpos(event)\n",
       "\n",
       "    if (name === 'button_press')\n",
       "    {\n",
       "        this.canvas.focus();\n",
       "        this.canvas_div.focus();\n",
       "    }\n",
       "\n",
       "    var x = canvas_pos.x * mpl.ratio;\n",
       "    var y = canvas_pos.y * mpl.ratio;\n",
       "\n",
       "    this.send_message(name, {x: x, y: y, button: event.button,\n",
       "                             step: event.step,\n",
       "                             guiEvent: simpleKeys(event)});\n",
       "\n",
       "    /* This prevents the web browser from automatically changing to\n",
       "     * the text insertion cursor when the button is pressed.  We want\n",
       "     * to control all of the cursor setting manually through the\n",
       "     * 'cursor' event from matplotlib */\n",
       "    event.preventDefault();\n",
       "    return false;\n",
       "}\n",
       "\n",
       "mpl.figure.prototype._key_event_extra = function(event, name) {\n",
       "    // Handle any extra behaviour associated with a key event\n",
       "}\n",
       "\n",
       "mpl.figure.prototype.key_event = function(event, name) {\n",
       "\n",
       "    // Prevent repeat events\n",
       "    if (name == 'key_press')\n",
       "    {\n",
       "        if (event.which === this._key)\n",
       "            return;\n",
       "        else\n",
       "            this._key = event.which;\n",
       "    }\n",
       "    if (name == 'key_release')\n",
       "        this._key = null;\n",
       "\n",
       "    var value = '';\n",
       "    if (event.ctrlKey && event.which != 17)\n",
       "        value += \"ctrl+\";\n",
       "    if (event.altKey && event.which != 18)\n",
       "        value += \"alt+\";\n",
       "    if (event.shiftKey && event.which != 16)\n",
       "        value += \"shift+\";\n",
       "\n",
       "    value += 'k';\n",
       "    value += event.which.toString();\n",
       "\n",
       "    this._key_event_extra(event, name);\n",
       "\n",
       "    this.send_message(name, {key: value,\n",
       "                             guiEvent: simpleKeys(event)});\n",
       "    return false;\n",
       "}\n",
       "\n",
       "mpl.figure.prototype.toolbar_button_onclick = function(name) {\n",
       "    if (name == 'download') {\n",
       "        this.handle_save(this, null);\n",
       "    } else {\n",
       "        this.send_message(\"toolbar_button\", {name: name});\n",
       "    }\n",
       "};\n",
       "\n",
       "mpl.figure.prototype.toolbar_button_onmouseover = function(tooltip) {\n",
       "    this.message.textContent = tooltip;\n",
       "};\n",
       "mpl.toolbar_items = [[\"Home\", \"Reset original view\", \"fa fa-home icon-home\", \"home\"], [\"Back\", \"Back to previous view\", \"fa fa-arrow-left icon-arrow-left\", \"back\"], [\"Forward\", \"Forward to next view\", \"fa fa-arrow-right icon-arrow-right\", \"forward\"], [\"\", \"\", \"\", \"\"], [\"Pan\", \"Pan axes with left mouse, zoom with right\", \"fa fa-arrows icon-move\", \"pan\"], [\"Zoom\", \"Zoom to rectangle\", \"fa fa-square-o icon-check-empty\", \"zoom\"], [\"\", \"\", \"\", \"\"], [\"Download\", \"Download plot\", \"fa fa-floppy-o icon-save\", \"download\"]];\n",
       "\n",
       "mpl.extensions = [\"eps\", \"jpeg\", \"pdf\", \"png\", \"ps\", \"raw\", \"svg\", \"tif\"];\n",
       "\n",
       "mpl.default_extension = \"png\";var comm_websocket_adapter = function(comm) {\n",
       "    // Create a \"websocket\"-like object which calls the given IPython comm\n",
       "    // object with the appropriate methods. Currently this is a non binary\n",
       "    // socket, so there is still some room for performance tuning.\n",
       "    var ws = {};\n",
       "\n",
       "    ws.close = function() {\n",
       "        comm.close()\n",
       "    };\n",
       "    ws.send = function(m) {\n",
       "        //console.log('sending', m);\n",
       "        comm.send(m);\n",
       "    };\n",
       "    // Register the callback with on_msg.\n",
       "    comm.on_msg(function(msg) {\n",
       "        //console.log('receiving', msg['content']['data'], msg);\n",
       "        // Pass the mpl event to the overridden (by mpl) onmessage function.\n",
       "        ws.onmessage(msg['content']['data'])\n",
       "    });\n",
       "    return ws;\n",
       "}\n",
       "\n",
       "mpl.mpl_figure_comm = function(comm, msg) {\n",
       "    // This is the function which gets called when the mpl process\n",
       "    // starts-up an IPython Comm through the \"matplotlib\" channel.\n",
       "\n",
       "    var id = msg.content.data.id;\n",
       "    // Get hold of the div created by the display call when the Comm\n",
       "    // socket was opened in Python.\n",
       "    var element = $(\"#\" + id);\n",
       "    var ws_proxy = comm_websocket_adapter(comm)\n",
       "\n",
       "    function ondownload(figure, format) {\n",
       "        window.open(figure.imageObj.src);\n",
       "    }\n",
       "\n",
       "    var fig = new mpl.figure(id, ws_proxy,\n",
       "                           ondownload,\n",
       "                           element.get(0));\n",
       "\n",
       "    // Call onopen now - mpl needs it, as it is assuming we've passed it a real\n",
       "    // web socket which is closed, not our websocket->open comm proxy.\n",
       "    ws_proxy.onopen();\n",
       "\n",
       "    fig.parent_element = element.get(0);\n",
       "    fig.cell_info = mpl.find_output_cell(\"<div id='\" + id + \"'></div>\");\n",
       "    if (!fig.cell_info) {\n",
       "        console.error(\"Failed to find cell for figure\", id, fig);\n",
       "        return;\n",
       "    }\n",
       "\n",
       "    var output_index = fig.cell_info[2]\n",
       "    var cell = fig.cell_info[0];\n",
       "\n",
       "};\n",
       "\n",
       "mpl.figure.prototype.handle_close = function(fig, msg) {\n",
       "    var width = fig.canvas.width/mpl.ratio\n",
       "    fig.root.unbind('remove')\n",
       "\n",
       "    // Update the output cell to use the data from the current canvas.\n",
       "    fig.push_to_output();\n",
       "    var dataURL = fig.canvas.toDataURL();\n",
       "    // Re-enable the keyboard manager in IPython - without this line, in FF,\n",
       "    // the notebook keyboard shortcuts fail.\n",
       "    IPython.keyboard_manager.enable()\n",
       "    $(fig.parent_element).html('<img src=\"' + dataURL + '\" width=\"' + width + '\">');\n",
       "    fig.close_ws(fig, msg);\n",
       "}\n",
       "\n",
       "mpl.figure.prototype.close_ws = function(fig, msg){\n",
       "    fig.send_message('closing', msg);\n",
       "    // fig.ws.close()\n",
       "}\n",
       "\n",
       "mpl.figure.prototype.push_to_output = function(remove_interactive) {\n",
       "    // Turn the data on the canvas into data in the output cell.\n",
       "    var width = this.canvas.width/mpl.ratio\n",
       "    var dataURL = this.canvas.toDataURL();\n",
       "    this.cell_info[1]['text/html'] = '<img src=\"' + dataURL + '\" width=\"' + width + '\">';\n",
       "}\n",
       "\n",
       "mpl.figure.prototype.updated_canvas_event = function() {\n",
       "    // Tell IPython that the notebook contents must change.\n",
       "    IPython.notebook.set_dirty(true);\n",
       "    this.send_message(\"ack\", {});\n",
       "    var fig = this;\n",
       "    // Wait a second, then push the new image to the DOM so\n",
       "    // that it is saved nicely (might be nice to debounce this).\n",
       "    setTimeout(function () { fig.push_to_output() }, 1000);\n",
       "}\n",
       "\n",
       "mpl.figure.prototype._init_toolbar = function() {\n",
       "    var fig = this;\n",
       "\n",
       "    var nav_element = $('<div/>');\n",
       "    nav_element.attr('style', 'width: 100%');\n",
       "    this.root.append(nav_element);\n",
       "\n",
       "    // Define a callback function for later on.\n",
       "    function toolbar_event(event) {\n",
       "        return fig.toolbar_button_onclick(event['data']);\n",
       "    }\n",
       "    function toolbar_mouse_event(event) {\n",
       "        return fig.toolbar_button_onmouseover(event['data']);\n",
       "    }\n",
       "\n",
       "    for(var toolbar_ind in mpl.toolbar_items){\n",
       "        var name = mpl.toolbar_items[toolbar_ind][0];\n",
       "        var tooltip = mpl.toolbar_items[toolbar_ind][1];\n",
       "        var image = mpl.toolbar_items[toolbar_ind][2];\n",
       "        var method_name = mpl.toolbar_items[toolbar_ind][3];\n",
       "\n",
       "        if (!name) { continue; };\n",
       "\n",
       "        var button = $('<button class=\"btn btn-default\" href=\"#\" title=\"' + name + '\"><i class=\"fa ' + image + ' fa-lg\"></i></button>');\n",
       "        button.click(method_name, toolbar_event);\n",
       "        button.mouseover(tooltip, toolbar_mouse_event);\n",
       "        nav_element.append(button);\n",
       "    }\n",
       "\n",
       "    // Add the status bar.\n",
       "    var status_bar = $('<span class=\"mpl-message\" style=\"text-align:right; float: right;\"/>');\n",
       "    nav_element.append(status_bar);\n",
       "    this.message = status_bar[0];\n",
       "\n",
       "    // Add the close button to the window.\n",
       "    var buttongrp = $('<div class=\"btn-group inline pull-right\"></div>');\n",
       "    var button = $('<button class=\"btn btn-mini btn-primary\" href=\"#\" title=\"Stop Interaction\"><i class=\"fa fa-power-off icon-remove icon-large\"></i></button>');\n",
       "    button.click(function (evt) { fig.handle_close(fig, {}); } );\n",
       "    button.mouseover('Stop Interaction', toolbar_mouse_event);\n",
       "    buttongrp.append(button);\n",
       "    var titlebar = this.root.find($('.ui-dialog-titlebar'));\n",
       "    titlebar.prepend(buttongrp);\n",
       "}\n",
       "\n",
       "mpl.figure.prototype._root_extra_style = function(el){\n",
       "    var fig = this\n",
       "    el.on(\"remove\", function(){\n",
       "\tfig.close_ws(fig, {});\n",
       "    });\n",
       "}\n",
       "\n",
       "mpl.figure.prototype._canvas_extra_style = function(el){\n",
       "    // this is important to make the div 'focusable\n",
       "    el.attr('tabindex', 0)\n",
       "    // reach out to IPython and tell the keyboard manager to turn it's self\n",
       "    // off when our div gets focus\n",
       "\n",
       "    // location in version 3\n",
       "    if (IPython.notebook.keyboard_manager) {\n",
       "        IPython.notebook.keyboard_manager.register_events(el);\n",
       "    }\n",
       "    else {\n",
       "        // location in version 2\n",
       "        IPython.keyboard_manager.register_events(el);\n",
       "    }\n",
       "\n",
       "}\n",
       "\n",
       "mpl.figure.prototype._key_event_extra = function(event, name) {\n",
       "    var manager = IPython.notebook.keyboard_manager;\n",
       "    if (!manager)\n",
       "        manager = IPython.keyboard_manager;\n",
       "\n",
       "    // Check for shift+enter\n",
       "    if (event.shiftKey && event.which == 13) {\n",
       "        this.canvas_div.blur();\n",
       "        // select the cell after this one\n",
       "        var index = IPython.notebook.find_cell_index(this.cell_info[0]);\n",
       "        IPython.notebook.select(index + 1);\n",
       "    }\n",
       "}\n",
       "\n",
       "mpl.figure.prototype.handle_save = function(fig, msg) {\n",
       "    fig.ondownload(fig, null);\n",
       "}\n",
       "\n",
       "\n",
       "mpl.find_output_cell = function(html_output) {\n",
       "    // Return the cell and output element which can be found *uniquely* in the notebook.\n",
       "    // Note - this is a bit hacky, but it is done because the \"notebook_saving.Notebook\"\n",
       "    // IPython event is triggered only after the cells have been serialised, which for\n",
       "    // our purposes (turning an active figure into a static one), is too late.\n",
       "    var cells = IPython.notebook.get_cells();\n",
       "    var ncells = cells.length;\n",
       "    for (var i=0; i<ncells; i++) {\n",
       "        var cell = cells[i];\n",
       "        if (cell.cell_type === 'code'){\n",
       "            for (var j=0; j<cell.output_area.outputs.length; j++) {\n",
       "                var data = cell.output_area.outputs[j];\n",
       "                if (data.data) {\n",
       "                    // IPython >= 3 moved mimebundle to data attribute of output\n",
       "                    data = data.data;\n",
       "                }\n",
       "                if (data['text/html'] == html_output) {\n",
       "                    return [cell, data, j];\n",
       "                }\n",
       "            }\n",
       "        }\n",
       "    }\n",
       "}\n",
       "\n",
       "// Register the function which deals with the matplotlib target/channel.\n",
       "// The kernel may be null if the page has been refreshed.\n",
       "if (IPython.notebook.kernel != null) {\n",
       "    IPython.notebook.kernel.comm_manager.register_target('matplotlib', mpl.mpl_figure_comm);\n",
       "}\n"
      ],
      "text/plain": [
       "<IPython.core.display.Javascript object>"
      ]
     },
     "metadata": {},
     "output_type": "display_data"
    },
    {
     "data": {
      "text/html": [
       "<img src=\"data:image/png;base64,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\" width=\"1000\">"
      ],
      "text/plain": [
       "<IPython.core.display.HTML object>"
      ]
     },
     "metadata": {},
     "output_type": "display_data"
    }
   ],
   "source": [
    "dp = DataLoader(None)\n",
    "dp.copy(sim.ds)\n",
    "dp.append_person(test_person, frames_o, pos_vel_o[:,:2], vel=pos_vel_o[:,2:] )\n",
    "\n",
    "plotTraj(dp,  boundaries=[-600, 600, -250, 150],\n",
    "         people=None,\n",
    "         ai=[ 100+test_person],\n",
    "         legend=False,\n",
    "         title=\"Trajectories\",\n",
    "         path=\"trajectories.png\",\n",
    "         save=False)"
   ]
  },
  {
   "cell_type": "code",
   "execution_count": 78,
   "metadata": {},
   "outputs": [
    {
     "data": {
      "application/vnd.plotly.v1+json": {
       "config": {
        "plotlyServerURL": "https://plot.ly"
       },
       "data": [
        {
         "hovertemplate": "<b>%{hovertext}</b><br><br>f=0.0<br>x=%{x}<br>y=%{y}<extra></extra>",
         "hovertext": [
          1,
          2
         ],
         "ids": [
          1,
          2
         ],
         "legendgroup": "",
         "marker": {
          "color": "#636efa",
          "symbol": "circle"
         },
         "mode": "markers",
         "name": "",
         "orientation": "v",
         "showlegend": false,
         "type": "scatter",
         "x": [
          -219.856,
          -463.121
         ],
         "xaxis": "x",
         "y": [
          53.1723,
          -2.1652
         ],
         "yaxis": "y"
        }
       ],
       "frames": [
        {
         "data": [
          {
           "hovertemplate": "<b>%{hovertext}</b><br><br>f=0.0<br>x=%{x}<br>y=%{y}<extra></extra>",
           "hovertext": [
            1,
            2
           ],
           "ids": [
            1,
            2
           ],
           "legendgroup": "",
           "marker": {
            "color": "#636efa",
            "symbol": "circle"
           },
           "mode": "markers",
           "name": "",
           "orientation": "v",
           "showlegend": false,
           "type": "scatter",
           "x": [
            -219.856,
            -463.121
           ],
           "xaxis": "x",
           "y": [
            53.1723,
            -2.1652
           ],
           "yaxis": "y"
          }
         ],
         "name": "0.0"
        },
        {
         "data": [
          {
           "hovertemplate": "<b>%{hovertext}</b><br><br>f=10.0<br>x=%{x}<br>y=%{y}<extra></extra>",
           "hovertext": [
            1,
            2
           ],
           "ids": [
            1,
            2
           ],
           "legendgroup": "",
           "marker": {
            "color": "#636efa",
            "symbol": "circle"
           },
           "mode": "markers",
           "name": "",
           "orientation": "v",
           "showlegend": false,
           "type": "scatter",
           "x": [
            -219.002,
            -463.258
           ],
           "xaxis": "x",
           "y": [
            56.0599,
            -2.73351
           ],
           "yaxis": "y"
          }
         ],
         "name": "10.0"
        },
        {
         "data": [
          {
           "hovertemplate": "<b>%{hovertext}</b><br><br>f=20.0<br>x=%{x}<br>y=%{y}<extra></extra>",
           "hovertext": [
            1,
            2
           ],
           "ids": [
            1,
            2
           ],
           "legendgroup": "",
           "marker": {
            "color": "#636efa",
            "symbol": "circle"
           },
           "mode": "markers",
           "name": "",
           "orientation": "v",
           "showlegend": false,
           "type": "scatter",
           "x": [
            -209.811,
            -460.464
           ],
           "xaxis": "x",
           "y": [
            57.72,
            -1.3776700000000002
           ],
           "yaxis": "y"
          }
         ],
         "name": "20.0"
        },
        {
         "data": [
          {
           "hovertemplate": "<b>%{hovertext}</b><br><br>f=30.0<br>x=%{x}<br>y=%{y}<extra></extra>",
           "hovertext": [
            1,
            2
           ],
           "ids": [
            1,
            2
           ],
           "legendgroup": "",
           "marker": {
            "color": "#636efa",
            "symbol": "circle"
           },
           "mode": "markers",
           "name": "",
           "orientation": "v",
           "showlegend": false,
           "type": "scatter",
           "x": [
            -200.453,
            -426.294
           ],
           "xaxis": "x",
           "y": [
            64.0043,
            11.8722
           ],
           "yaxis": "y"
          }
         ],
         "name": "30.0"
        },
        {
         "data": [
          {
           "hovertemplate": "<b>%{hovertext}</b><br><br>f=40.0<br>x=%{x}<br>y=%{y}<extra></extra>",
           "hovertext": [
            1,
            3,
            2
           ],
           "ids": [
            1,
            3,
            2
           ],
           "legendgroup": "",
           "marker": {
            "color": "#636efa",
            "symbol": "circle"
           },
           "mode": "markers",
           "name": "",
           "orientation": "v",
           "showlegend": false,
           "type": "scatter",
           "x": [
            -172.544,
            -532.141,
            -350.844
           ],
           "xaxis": "x",
           "y": [
            48.628,
            -178.764,
            31.8592
           ],
           "yaxis": "y"
          }
         ],
         "name": "40.0"
        },
        {
         "data": [
          {
           "hovertemplate": "<b>%{hovertext}</b><br><br>f=50.0<br>x=%{x}<br>y=%{y}<extra></extra>",
           "hovertext": [
            1,
            3,
            102,
            2
           ],
           "ids": [
            1,
            3,
            102,
            2
           ],
           "legendgroup": "",
           "marker": {
            "color": "#636efa",
            "symbol": "circle"
           },
           "mode": "markers",
           "name": "",
           "orientation": "v",
           "showlegend": false,
           "type": "scatter",
           "x": [
            -103.56,
            -502.089,
            -116.29930877685547,
            -260.094
           ],
           "xaxis": "x",
           "y": [
            53.856,
            -105.457,
            56.27735137939453,
            43.9103
           ],
           "yaxis": "y"
          }
         ],
         "name": "50.0"
        },
        {
         "data": [
          {
           "hovertemplate": "<b>%{hovertext}</b><br><br>f=60.0<br>x=%{x}<br>y=%{y}<extra></extra>",
           "hovertext": [
            1,
            3,
            4,
            102,
            2
           ],
           "ids": [
            1,
            3,
            4,
            102,
            2
           ],
           "legendgroup": "",
           "marker": {
            "color": "#636efa",
            "symbol": "circle"
           },
           "mode": "markers",
           "name": "",
           "orientation": "v",
           "showlegend": false,
           "type": "scatter",
           "x": [
            -7.190930000000001,
            -444.748,
            -511.128,
            135.860107421875,
            -162.623
           ],
           "xaxis": "x",
           "y": [
            49.9535,
            -31.5181,
            -125.977,
            57.501461029052734,
            51.957
           ],
           "yaxis": "y"
          }
         ],
         "name": "60.0"
        },
        {
         "data": [
          {
           "hovertemplate": "<b>%{hovertext}</b><br><br>f=70.0<br>x=%{x}<br>y=%{y}<extra></extra>",
           "hovertext": [
            1,
            3,
            4,
            102,
            2
           ],
           "ids": [
            1,
            3,
            4,
            102,
            2
           ],
           "legendgroup": "",
           "marker": {
            "color": "#636efa",
            "symbol": "circle"
           },
           "mode": "markers",
           "name": "",
           "orientation": "v",
           "showlegend": false,
           "type": "scatter",
           "x": [
            92.8602,
            -359.666,
            -460.586,
            197.15086364746094,
            -54.7812
           ],
           "xaxis": "x",
           "y": [
            56.26,
            19.5082,
            -46.7877,
            53.59098815917969,
            54.6733
           ],
           "yaxis": "y"
          }
         ],
         "name": "70.0"
        },
        {
         "data": [
          {
           "hovertemplate": "<b>%{hovertext}</b><br><br>f=80.0<br>x=%{x}<br>y=%{y}<extra></extra>",
           "hovertext": [
            1,
            3,
            4,
            5,
            102,
            2
           ],
           "ids": [
            1,
            3,
            4,
            5,
            102,
            2
           ],
           "legendgroup": "",
           "marker": {
            "color": "#636efa",
            "symbol": "circle"
           },
           "mode": "markers",
           "name": "",
           "orientation": "v",
           "showlegend": false,
           "type": "scatter",
           "x": [
            197.47,
            -254.564,
            -373.592,
            -516.174,
            309.6705017089844,
            53.4106
           ],
           "xaxis": "x",
           "y": [
            61.0179,
            48.0649,
            6.9288300000000005,
            -142.451,
            43.5240478515625,
            55.884
           ],
           "yaxis": "y"
          }
         ],
         "name": "80.0"
        },
        {
         "data": [
          {
           "hovertemplate": "<b>%{hovertext}</b><br><br>f=90.0<br>x=%{x}<br>y=%{y}<extra></extra>",
           "hovertext": [
            1,
            3,
            4,
            5,
            6,
            102,
            2
           ],
           "ids": [
            1,
            3,
            4,
            5,
            6,
            102,
            2
           ],
           "legendgroup": "",
           "marker": {
            "color": "#636efa",
            "symbol": "circle"
           },
           "mode": "markers",
           "name": "",
           "orientation": "v",
           "showlegend": false,
           "type": "scatter",
           "x": [
            290.998,
            -142.331,
            -270.21,
            -460.982,
            -512.201,
            386.8252868652344,
            157.993
           ],
           "xaxis": "x",
           "y": [
            42.0807,
            51.9819,
            40.6748,
            -55.3176,
            -166.269,
            33.823516845703125,
            59.5491
           ],
           "yaxis": "y"
          }
         ],
         "name": "90.0"
        },
        {
         "data": [
          {
           "hovertemplate": "<b>%{hovertext}</b><br><br>f=100.0<br>x=%{x}<br>y=%{y}<extra></extra>",
           "hovertext": [
            1,
            3,
            4,
            5,
            6,
            7,
            102,
            2
           ],
           "ids": [
            1,
            3,
            4,
            5,
            6,
            7,
            102,
            2
           ],
           "legendgroup": "",
           "marker": {
            "color": "#636efa",
            "symbol": "circle"
           },
           "mode": "markers",
           "name": "",
           "orientation": "v",
           "showlegend": false,
           "type": "scatter",
           "x": [
            383.13,
            -37.4613,
            -162.608,
            -376.227,
            -481.527,
            -511.948,
            456.3760986328125,
            262.861
           ],
           "xaxis": "x",
           "y": [
            13.5573,
            53.3211,
            47.8969,
            9.61549,
            -77.6666,
            -201.26,
            35.75337600708008,
            57.865
           ],
           "yaxis": "y"
          }
         ],
         "name": "100.0"
        },
        {
         "data": [
          {
           "hovertemplate": "<b>%{hovertext}</b><br><br>f=110.0<br>x=%{x}<br>y=%{y}<extra></extra>",
           "hovertext": [
            1,
            3,
            4,
            5,
            6,
            7,
            8,
            2
           ],
           "ids": [
            1,
            3,
            4,
            5,
            6,
            7,
            8,
            2
           ],
           "legendgroup": "",
           "marker": {
            "color": "#636efa",
            "symbol": "circle"
           },
           "mode": "markers",
           "name": "",
           "orientation": "v",
           "showlegend": false,
           "type": "scatter",
           "x": [
            461.002,
            71.8506,
            -50.3724,
            -274.665,
            -407.314,
            -493.52,
            -520.374,
            365.745
           ],
           "xaxis": "x",
           "y": [
            -43.9781,
            54.0626,
            50.2846,
            32.6602,
            -13.2738,
            -111.578,
            -210.471,
            29.2349
           ],
           "yaxis": "y"
          }
         ],
         "name": "110.0"
        },
        {
         "data": [
          {
           "hovertemplate": "<b>%{hovertext}</b><br><br>f=120.0<br>x=%{x}<br>y=%{y}<extra></extra>",
           "hovertext": [
            1,
            3,
            4,
            5,
            6,
            7,
            8,
            2
           ],
           "ids": [
            1,
            3,
            4,
            5,
            6,
            7,
            8,
            2
           ],
           "legendgroup": "",
           "marker": {
            "color": "#636efa",
            "symbol": "circle"
           },
           "mode": "markers",
           "name": "",
           "orientation": "v",
           "showlegend": false,
           "type": "scatter",
           "x": [
            499.123,
            189.935,
            60.8958,
            -174.228,
            -313.462,
            -439.207,
            -499.442,
            455.946
           ],
           "xaxis": "x",
           "y": [
            -132.226,
            48.3992,
            55.4401,
            42.5607,
            29.9221,
            -35.3517,
            -116.234,
            -25.8871
           ],
           "yaxis": "y"
          }
         ],
         "name": "120.0"
        },
        {
         "data": [
          {
           "hovertemplate": "<b>%{hovertext}</b><br><br>f=130.0<br>x=%{x}<br>y=%{y}<extra></extra>",
           "hovertext": [
            3,
            4,
            5,
            6,
            7,
            8,
            2
           ],
           "ids": [
            3,
            4,
            5,
            6,
            7,
            8,
            2
           ],
           "legendgroup": "",
           "marker": {
            "color": "#636efa",
            "symbol": "circle"
           },
           "mode": "markers",
           "name": "",
           "orientation": "v",
           "showlegend": false,
           "type": "scatter",
           "x": [
            305.155,
            178.058,
            -70.8844,
            -206.777,
            -360.159,
            -446.741,
            510.439
           ],
           "xaxis": "x",
           "y": [
            32.9335,
            51.1605,
            53.3074,
            49.3022,
            21.0693,
            -41.6558,
            -108.453
           ],
           "yaxis": "y"
          }
         ],
         "name": "130.0"
        },
        {
         "data": [
          {
           "hovertemplate": "<b>%{hovertext}</b><br><br>f=140.0<br>x=%{x}<br>y=%{y}<extra></extra>",
           "hovertext": [
            3,
            4,
            5,
            6,
            7,
            8,
            2
           ],
           "ids": [
            3,
            4,
            5,
            6,
            7,
            8,
            2
           ],
           "legendgroup": "",
           "marker": {
            "color": "#636efa",
            "symbol": "circle"
           },
           "mode": "markers",
           "name": "",
           "orientation": "v",
           "showlegend": false,
           "type": "scatter",
           "x": [
            409.001,
            288.517,
            34.8078,
            -100.832,
            -267.276,
            -374.236,
            522.737
           ],
           "xaxis": "x",
           "y": [
            -7.28598,
            35.1776,
            60.8259,
            53.237,
            52.5583,
            15.6325,
            -208.629
           ],
           "yaxis": "y"
          }
         ],
         "name": "140.0"
        },
        {
         "data": [
          {
           "hovertemplate": "<b>%{hovertext}</b><br><br>f=150.0<br>x=%{x}<br>y=%{y}<extra></extra>",
           "hovertext": [
            3,
            4,
            5,
            6,
            7,
            8,
            9
           ],
           "ids": [
            3,
            4,
            5,
            6,
            7,
            8,
            9
           ],
           "legendgroup": "",
           "marker": {
            "color": "#636efa",
            "symbol": "circle"
           },
           "mode": "markers",
           "name": "",
           "orientation": "v",
           "showlegend": false,
           "type": "scatter",
           "x": [
            481.842,
            392.784,
            141.453,
            2.4081099999999998,
            -172.347,
            -278.321,
            -503.021
           ],
           "xaxis": "x",
           "y": [
            -81.2472,
            -1.0609,
            61.9909,
            64.2826,
            57.3695,
            41.2663,
            -138.001
           ],
           "yaxis": "y"
          }
         ],
         "name": "150.0"
        },
        {
         "data": [
          {
           "hovertemplate": "<b>%{hovertext}</b><br><br>f=160.0<br>x=%{x}<br>y=%{y}<extra></extra>",
           "hovertext": [
            3,
            4,
            5,
            6,
            7,
            8,
            9,
            10
           ],
           "ids": [
            3,
            4,
            5,
            6,
            7,
            8,
            9,
            10
           ],
           "legendgroup": "",
           "marker": {
            "color": "#636efa",
            "symbol": "circle"
           },
           "mode": "markers",
           "name": "",
           "orientation": "v",
           "showlegend": false,
           "type": "scatter",
           "x": [
            515.749,
            464.13,
            248.967,
            108.757,
            -73.5589,
            -176.326,
            -468.736,
            -519.237
           ],
           "xaxis": "x",
           "y": [
            -175.399,
            -71.1684,
            46.8872,
            60.8994,
            62.1698,
            44.9579,
            -65.5697,
            -206.643
           ],
           "yaxis": "y"
          }
         ],
         "name": "160.0"
        },
        {
         "data": [
          {
           "hovertemplate": "<b>%{hovertext}</b><br><br>f=170.0<br>x=%{x}<br>y=%{y}<extra></extra>",
           "hovertext": [
            4,
            5,
            6,
            7,
            8,
            9,
            10
           ],
           "ids": [
            4,
            5,
            6,
            7,
            8,
            9,
            10
           ],
           "legendgroup": "",
           "marker": {
            "color": "#636efa",
            "symbol": "circle"
           },
           "mode": "markers",
           "name": "",
           "orientation": "v",
           "showlegend": false,
           "type": "scatter",
           "x": [
            502.581,
            346.581,
            217.322,
            19.5641,
            -83.4618,
            -415.855,
            -509.368
           ],
           "xaxis": "x",
           "y": [
            -155.852,
            14.8204,
            56.7591,
            61.6127,
            47.3441,
            -10.0686,
            -121.97
           ],
           "yaxis": "y"
          }
         ],
         "name": "170.0"
        },
        {
         "data": [
          {
           "hovertemplate": "<b>%{hovertext}</b><br><br>f=180.0<br>x=%{x}<br>y=%{y}<extra></extra>",
           "hovertext": [
            5,
            6,
            7,
            8,
            9,
            10,
            11
           ],
           "ids": [
            5,
            6,
            7,
            8,
            9,
            10,
            11
           ],
           "legendgroup": "",
           "marker": {
            "color": "#636efa",
            "symbol": "circle"
           },
           "mode": "markers",
           "name": "",
           "orientation": "v",
           "showlegend": false,
           "type": "scatter",
           "x": [
            431.519,
            320.703,
            114.444,
            4.658930000000001,
            -350.432,
            -471.52,
            -534.147
           ],
           "xaxis": "x",
           "y": [
            -29.7285,
            36.9311,
            56.6322,
            48.319,
            29.9919,
            -59.4019,
            -172.492
           ],
           "yaxis": "y"
          }
         ],
         "name": "180.0"
        },
        {
         "data": [
          {
           "hovertemplate": "<b>%{hovertext}</b><br><br>f=190.0<br>x=%{x}<br>y=%{y}<extra></extra>",
           "hovertext": [
            5,
            6,
            7,
            8,
            9,
            10,
            11
           ],
           "ids": [
            5,
            6,
            7,
            8,
            9,
            10,
            11
           ],
           "legendgroup": "",
           "marker": {
            "color": "#636efa",
            "symbol": "circle"
           },
           "mode": "markers",
           "name": "",
           "orientation": "v",
           "showlegend": false,
           "type": "scatter",
           "x": [
            486.759,
            409.895,
            208.804,
            95.0719,
            -272.059,
            -426.798,
            -516.559
           ],
           "xaxis": "x",
           "y": [
            -106.286,
            -7.60185,
            51.5199,
            54.0446,
            39.9981,
            -6.44543,
            -106.225
           ],
           "yaxis": "y"
          }
         ],
         "name": "190.0"
        },
        {
         "data": [
          {
           "hovertemplate": "<b>%{hovertext}</b><br><br>f=200.0<br>x=%{x}<br>y=%{y}<extra></extra>",
           "hovertext": [
            5,
            6,
            7,
            8,
            9,
            10,
            11
           ],
           "ids": [
            5,
            6,
            7,
            8,
            9,
            10,
            11
           ],
           "legendgroup": "",
           "marker": {
            "color": "#636efa",
            "symbol": "circle"
           },
           "mode": "markers",
           "name": "",
           "orientation": "v",
           "showlegend": false,
           "type": "scatter",
           "x": [
            508.408,
            482.604,
            301.361,
            185.89,
            -192.341,
            -360.468,
            -484.853
           ],
           "xaxis": "x",
           "y": [
            -197.507,
            -77.8782,
            30.0138,
            60.0369,
            51.9845,
            25.7378,
            -44.0549
           ],
           "yaxis": "y"
          }
         ],
         "name": "200.0"
        },
        {
         "data": [
          {
           "hovertemplate": "<b>%{hovertext}</b><br><br>f=210.0<br>x=%{x}<br>y=%{y}<extra></extra>",
           "hovertext": [
            6,
            7,
            8,
            9,
            10,
            11,
            12
           ],
           "ids": [
            6,
            7,
            8,
            9,
            10,
            11,
            12
           ],
           "legendgroup": "",
           "marker": {
            "color": "#636efa",
            "symbol": "circle"
           },
           "mode": "markers",
           "name": "",
           "orientation": "v",
           "showlegend": false,
           "type": "scatter",
           "x": [
            508.292,
            385.766,
            279.631,
            -112.537,
            -290.287,
            -430.213,
            -521.877
           ],
           "xaxis": "x",
           "y": [
            -168.073,
            2.08277,
            55.2006,
            52.412,
            48.6048,
            7.84767,
            -159.945
           ],
           "yaxis": "y"
          }
         ],
         "name": "210.0"
        },
        {
         "data": [
          {
           "hovertemplate": "<b>%{hovertext}</b><br><br>f=220.0<br>x=%{x}<br>y=%{y}<extra></extra>",
           "hovertext": [
            7,
            8,
            9,
            10,
            11,
            12,
            13
           ],
           "ids": [
            7,
            8,
            9,
            10,
            11,
            12,
            13
           ],
           "legendgroup": "",
           "marker": {
            "color": "#636efa",
            "symbol": "circle"
           },
           "mode": "markers",
           "name": "",
           "orientation": "v",
           "showlegend": false,
           "type": "scatter",
           "x": [
            453.061,
            367.69,
            -30.9221,
            -211.632,
            -358.944,
            -504.067,
            -539.669
           ],
           "xaxis": "x",
           "y": [
            -56.7466,
            32.1668,
            53.7337,
            55.438,
            32.4069,
            -81.7206,
            -197.012
           ],
           "yaxis": "y"
          }
         ],
         "name": "220.0"
        },
        {
         "data": [
          {
           "hovertemplate": "<b>%{hovertext}</b><br><br>f=230.0<br>x=%{x}<br>y=%{y}<extra></extra>",
           "hovertext": [
            7,
            8,
            9,
            10,
            11,
            12,
            13
           ],
           "ids": [
            7,
            8,
            9,
            10,
            11,
            12,
            13
           ],
           "legendgroup": "",
           "marker": {
            "color": "#636efa",
            "symbol": "circle"
           },
           "mode": "markers",
           "name": "",
           "orientation": "v",
           "showlegend": false,
           "type": "scatter",
           "x": [
            495.315,
            440.208,
            50.821,
            -140.792,
            -282.612,
            -450.964,
            -519.709
           ],
           "xaxis": "x",
           "y": [
            -131.899,
            -18.4645,
            63.0625,
            57.7176,
            51.0482,
            -24.1466,
            -119.9
           ],
           "yaxis": "y"
          }
         ],
         "name": "230.0"
        },
        {
         "data": [
          {
           "hovertemplate": "<b>%{hovertext}</b><br><br>f=240.0<br>x=%{x}<br>y=%{y}<extra></extra>",
           "hovertext": [
            8,
            9,
            10,
            11,
            12,
            13,
            14
           ],
           "ids": [
            8,
            9,
            10,
            11,
            12,
            13,
            14
           ],
           "legendgroup": "",
           "marker": {
            "color": "#636efa",
            "symbol": "circle"
           },
           "mode": "markers",
           "name": "",
           "orientation": "v",
           "showlegend": false,
           "type": "scatter",
           "x": [
            490.534,
            131.42,
            -64.0407,
            -204.149,
            -388.338,
            -479.124,
            -525.584
           ],
           "xaxis": "x",
           "y": [
            -91.6047,
            60.3339,
            61.4738,
            54.9217,
            22.199,
            -50.4323,
            -148.694
           ],
           "yaxis": "y"
          }
         ],
         "name": "240.0"
        },
        {
         "data": [
          {
           "hovertemplate": "<b>%{hovertext}</b><br><br>f=250.0<br>x=%{x}<br>y=%{y}<extra></extra>",
           "hovertext": [
            8,
            9,
            10,
            11,
            12,
            13,
            14
           ],
           "ids": [
            8,
            9,
            10,
            11,
            12,
            13,
            14
           ],
           "legendgroup": "",
           "marker": {
            "color": "#636efa",
            "symbol": "circle"
           },
           "mode": "markers",
           "name": "",
           "orientation": "v",
           "showlegend": false,
           "type": "scatter",
           "x": [
            517.61,
            209.413,
            15.0992,
            -123.157,
            -309.026,
            -424.027,
            -500.912
           ],
           "xaxis": "x",
           "y": [
            -179.397,
            63.1085,
            59.5829,
            54.3712,
            47.0842,
            6.42591,
            -77.3549
           ],
           "yaxis": "y"
          }
         ],
         "name": "250.0"
        },
        {
         "data": [
          {
           "hovertemplate": "<b>%{hovertext}</b><br><br>f=260.0<br>x=%{x}<br>y=%{y}<extra></extra>",
           "hovertext": [
            9,
            10,
            11,
            12,
            13,
            14,
            15
           ],
           "ids": [
            9,
            10,
            11,
            12,
            13,
            14,
            15
           ],
           "legendgroup": "",
           "marker": {
            "color": "#636efa",
            "symbol": "circle"
           },
           "mode": "markers",
           "name": "",
           "orientation": "v",
           "showlegend": false,
           "type": "scatter",
           "x": [
            285.099,
            97.6278,
            -42.6521,
            -227.264,
            -352.535,
            -450.375,
            -528.784
           ],
           "xaxis": "x",
           "y": [
            42.7766,
            67.6997,
            56.5871,
            58.4408,
            34.3478,
            -19.1833,
            -193.998
           ],
           "yaxis": "y"
          }
         ],
         "name": "260.0"
        },
        {
         "data": [
          {
           "hovertemplate": "<b>%{hovertext}</b><br><br>f=270.0<br>x=%{x}<br>y=%{y}<extra></extra>",
           "hovertext": [
            9,
            10,
            11,
            12,
            13,
            14,
            15
           ],
           "ids": [
            9,
            10,
            11,
            12,
            13,
            14,
            15
           ],
           "legendgroup": "",
           "marker": {
            "color": "#636efa",
            "symbol": "circle"
           },
           "mode": "markers",
           "name": "",
           "orientation": "v",
           "showlegend": false,
           "type": "scatter",
           "x": [
            355.941,
            180.111,
            38.6967,
            -143.984,
            -269.484,
            -375.912,
            -504.179
           ],
           "xaxis": "x",
           "y": [
            20.2157,
            60.0086,
            52.457,
            60.9089,
            58.2711,
            19.8038,
            -109.173
           ],
           "yaxis": "y"
          }
         ],
         "name": "270.0"
        },
        {
         "data": [
          {
           "hovertemplate": "<b>%{hovertext}</b><br><br>f=280.0<br>x=%{x}<br>y=%{y}<extra></extra>",
           "hovertext": [
            9,
            10,
            11,
            12,
            13,
            14,
            15,
            16
           ],
           "ids": [
            9,
            10,
            11,
            12,
            13,
            14,
            15,
            16
           ],
           "legendgroup": "",
           "marker": {
            "color": "#636efa",
            "symbol": "circle"
           },
           "mode": "markers",
           "name": "",
           "orientation": "v",
           "showlegend": false,
           "type": "scatter",
           "x": [
            420.443,
            261.375,
            122.327,
            -57.6887,
            -181.815,
            -303.153,
            -456.434,
            -518.819
           ],
           "xaxis": "x",
           "y": [
            -14.9422,
            52.5805,
            61.6959,
            63.5227,
            58.0551,
            41.7665,
            -42.2448,
            -155.195
           ],
           "yaxis": "y"
          }
         ],
         "name": "280.0"
        },
        {
         "data": [
          {
           "hovertemplate": "<b>%{hovertext}</b><br><br>f=290.0<br>x=%{x}<br>y=%{y}<extra></extra>",
           "hovertext": [
            9,
            10,
            11,
            12,
            13,
            14,
            15,
            16,
            17
           ],
           "ids": [
            9,
            10,
            11,
            12,
            13,
            14,
            15,
            16,
            17
           ],
           "legendgroup": "",
           "marker": {
            "color": "#636efa",
            "symbol": "circle"
           },
           "mode": "markers",
           "name": "",
           "orientation": "v",
           "showlegend": false,
           "type": "scatter",
           "x": [
            470.097,
            335.577,
            210.778,
            33.0186,
            -92.5211,
            -224.249,
            -391.643,
            -492.084,
            -516.062
           ],
           "xaxis": "x",
           "y": [
            -71.9076,
            24.6516,
            62.3163,
            69.1147,
            61.5578,
            53.1986,
            13.3106,
            -75.3567,
            -167.795
           ],
           "yaxis": "y"
          }
         ],
         "name": "290.0"
        },
        {
         "data": [
          {
           "hovertemplate": "<b>%{hovertext}</b><br><br>f=300.0<br>x=%{x}<br>y=%{y}<extra></extra>",
           "hovertext": [
            9,
            10,
            11,
            12,
            13,
            14,
            15,
            16,
            17
           ],
           "ids": [
            9,
            10,
            11,
            12,
            13,
            14,
            15,
            16,
            17
           ],
           "legendgroup": "",
           "marker": {
            "color": "#636efa",
            "symbol": "circle"
           },
           "mode": "markers",
           "name": "",
           "orientation": "v",
           "showlegend": false,
           "type": "scatter",
           "x": [
            507.81,
            406.705,
            293.683,
            125.935,
            -3.795,
            -139.892,
            -311.106,
            -440.115,
            -492.878
           ],
           "xaxis": "x",
           "y": [
            -139.008,
            -5.11395,
            48.3066,
            65.7815,
            65.6187,
            54.0286,
            35.1801,
            -13.7443,
            -90.8945
           ],
           "yaxis": "y"
          }
         ],
         "name": "300.0"
        },
        {
         "data": [
          {
           "hovertemplate": "<b>%{hovertext}</b><br><br>f=310.0<br>x=%{x}<br>y=%{y}<extra></extra>",
           "hovertext": [
            9,
            10,
            11,
            12,
            13,
            14,
            15,
            16,
            17,
            18
           ],
           "ids": [
            9,
            10,
            11,
            12,
            13,
            14,
            15,
            16,
            17,
            18
           ],
           "legendgroup": "",
           "marker": {
            "color": "#636efa",
            "symbol": "circle"
           },
           "mode": "markers",
           "name": "",
           "orientation": "v",
           "showlegend": false,
           "type": "scatter",
           "x": [
            505.727,
            468.249,
            376.375,
            219.712,
            87.2576,
            -57.8883,
            -227.508,
            -365.397,
            -445.297,
            -523.903
           ],
           "xaxis": "x",
           "y": [
            -215.446,
            -60.3111,
            26.442,
            70.2161,
            60.0579,
            60.1193,
            54.3429,
            20.1209,
            -29.9143,
            -189.763
           ],
           "yaxis": "y"
          }
         ],
         "name": "310.0"
        },
        {
         "data": [
          {
           "hovertemplate": "<b>%{hovertext}</b><br><br>f=320.0<br>x=%{x}<br>y=%{y}<extra></extra>",
           "hovertext": [
            10,
            11,
            12,
            13,
            14,
            15,
            16,
            17,
            18,
            19
           ],
           "ids": [
            10,
            11,
            12,
            13,
            14,
            15,
            16,
            17,
            18,
            19
           ],
           "legendgroup": "",
           "marker": {
            "color": "#636efa",
            "symbol": "circle"
           },
           "mode": "markers",
           "name": "",
           "orientation": "v",
           "showlegend": false,
           "type": "scatter",
           "x": [
            500.916,
            441.798,
            306.603,
            179.507,
            25.4663,
            -141.693,
            -278.109,
            -381.344,
            -502.819,
            -525.668
           ],
           "xaxis": "x",
           "y": [
            -132.158,
            -23.249,
            45.9563,
            66.4912,
            62.4686,
            50.4484,
            44.2148,
            16.8576,
            -110.66,
            -187.525
           ],
           "yaxis": "y"
          }
         ],
         "name": "320.0"
        },
        {
         "data": [
          {
           "hovertemplate": "<b>%{hovertext}</b><br><br>f=330.0<br>x=%{x}<br>y=%{y}<extra></extra>",
           "hovertext": [
            10,
            11,
            12,
            13,
            14,
            15,
            16,
            17,
            18,
            19
           ],
           "ids": [
            10,
            11,
            12,
            13,
            14,
            15,
            16,
            17,
            18,
            19
           ],
           "legendgroup": "",
           "marker": {
            "color": "#636efa",
            "symbol": "circle"
           },
           "mode": "markers",
           "name": "",
           "orientation": "v",
           "showlegend": false,
           "type": "scatter",
           "x": [
            521.675,
            498.146,
            389.734,
            269.246,
            112.861,
            -56.727,
            -191.584,
            -298.781,
            -461.504,
            -508.184
           ],
           "xaxis": "x",
           "y": [
            -205.367,
            -82.2766,
            27.3625,
            58.1524,
            65.0238,
            53.2002,
            50.9828,
            45.4979,
            -37.4951,
            -109.827
           ],
           "yaxis": "y"
          }
         ],
         "name": "330.0"
        },
        {
         "data": [
          {
           "hovertemplate": "<b>%{hovertext}</b><br><br>f=340.0<br>x=%{x}<br>y=%{y}<extra></extra>",
           "hovertext": [
            11,
            12,
            13,
            14,
            15,
            16,
            17,
            18,
            19,
            20
           ],
           "ids": [
            11,
            12,
            13,
            14,
            15,
            16,
            17,
            18,
            19,
            20
           ],
           "legendgroup": "",
           "marker": {
            "color": "#636efa",
            "symbol": "circle"
           },
           "mode": "markers",
           "name": "",
           "orientation": "v",
           "showlegend": false,
           "type": "scatter",
           "x": [
            527.63,
            456.74,
            355.669,
            200.372,
            29.9623,
            -104.498,
            -211.017,
            -394.628,
            -457.551,
            -518.805
           ],
           "xaxis": "x",
           "y": [
            -155.104,
            -20.3123,
            38.9845,
            63.166,
            51.0914,
            56.0869,
            57.2462,
            11.8563,
            -46.6158,
            -190.14
           ],
           "yaxis": "y"
          }
         ],
         "name": "340.0"
        },
        {
         "data": [
          {
           "hovertemplate": "<b>%{hovertext}</b><br><br>f=350.0<br>x=%{x}<br>y=%{y}<extra></extra>",
           "hovertext": [
            12,
            13,
            14,
            15,
            16,
            17,
            18,
            19,
            20
           ],
           "ids": [
            12,
            13,
            14,
            15,
            16,
            17,
            18,
            19,
            20
           ],
           "legendgroup": "",
           "marker": {
            "color": "#636efa",
            "symbol": "circle"
           },
           "mode": "markers",
           "name": "",
           "orientation": "v",
           "showlegend": false,
           "type": "scatter",
           "x": [
            515.921,
            439.605,
            297.42,
            121.515,
            -14.2917,
            -123.864,
            -315.061,
            -395.885,
            -501.51
           ],
           "xaxis": "x",
           "y": [
            -77.8304,
            6.0483199999999995,
            46.0514,
            55.8059,
            62.9362,
            62.6598,
            43.4257,
            7.697610000000001,
            -107.479
           ],
           "yaxis": "y"
          }
         ],
         "name": "350.0"
        },
        {
         "data": [
          {
           "hovertemplate": "<b>%{hovertext}</b><br><br>f=360.0<br>x=%{x}<br>y=%{y}<extra></extra>",
           "hovertext": [
            12,
            13,
            14,
            15,
            16,
            17,
            18,
            19,
            20,
            21
           ],
           "ids": [
            12,
            13,
            14,
            15,
            16,
            17,
            18,
            19,
            20,
            21
           ],
           "legendgroup": "",
           "marker": {
            "color": "#636efa",
            "symbol": "circle"
           },
           "mode": "markers",
           "name": "",
           "orientation": "v",
           "showlegend": false,
           "type": "scatter",
           "x": [
            539.539,
            491.729,
            383.947,
            215.935,
            76.2303,
            -32.3041,
            -226.068,
            -312.445,
            -456.873,
            -504.003
           ],
           "xaxis": "x",
           "y": [
            -156.681,
            -61.2842,
            17.4872,
            58.0248,
            55.5228,
            66.9609,
            56.6381,
            40.0782,
            -40.169,
            -133.507
           ],
           "yaxis": "y"
          }
         ],
         "name": "360.0"
        },
        {
         "data": [
          {
           "hovertemplate": "<b>%{hovertext}</b><br><br>f=370.0<br>x=%{x}<br>y=%{y}<extra></extra>",
           "hovertext": [
            13,
            14,
            15,
            16,
            17,
            18,
            19,
            20,
            21
           ],
           "ids": [
            13,
            14,
            15,
            16,
            17,
            18,
            19,
            20,
            21
           ],
           "legendgroup": "",
           "marker": {
            "color": "#636efa",
            "symbol": "circle"
           },
           "mode": "markers",
           "name": "",
           "orientation": "v",
           "showlegend": false,
           "type": "scatter",
           "x": [
            533.913,
            453.204,
            310.007,
            171.174,
            62.585,
            -133.034,
            -224.022,
            -400.211,
            -462.522
           ],
           "xaxis": "x",
           "y": [
            -131.341,
            -38.9683,
            40.2724,
            55.9198,
            69.2666,
            51.5397,
            49.1296,
            11.9964,
            -64.4231
           ],
           "yaxis": "y"
          }
         ],
         "name": "370.0"
        },
        {
         "data": [
          {
           "hovertemplate": "<b>%{hovertext}</b><br><br>f=380.0<br>x=%{x}<br>y=%{y}<extra></extra>",
           "hovertext": [
            14,
            15,
            16,
            17,
            18,
            19,
            20,
            21,
            22
           ],
           "ids": [
            14,
            15,
            16,
            17,
            18,
            19,
            20,
            21,
            22
           ],
           "legendgroup": "",
           "marker": {
            "color": "#636efa",
            "symbol": "circle"
           },
           "mode": "markers",
           "name": "",
           "orientation": "v",
           "showlegend": false,
           "type": "scatter",
           "x": [
            503.391,
            402.215,
            268.89,
            160.553,
            -39.494,
            -135.315,
            -317.075,
            -411.554,
            -517.23
           ],
           "xaxis": "x",
           "y": [
            -102.768,
            9.24907,
            50.2623,
            68.3373,
            53.8728,
            51.6656,
            40.2584,
            -4.07141,
            -171.351
           ],
           "yaxis": "y"
          }
         ],
         "name": "380.0"
        },
        {
         "data": [
          {
           "hovertemplate": "<b>%{hovertext}</b><br><br>f=390.0<br>x=%{x}<br>y=%{y}<extra></extra>",
           "hovertext": [
            14,
            15,
            16,
            17,
            18,
            19,
            20,
            21,
            22
           ],
           "ids": [
            14,
            15,
            16,
            17,
            18,
            19,
            20,
            21,
            22
           ],
           "legendgroup": "",
           "marker": {
            "color": "#636efa",
            "symbol": "circle"
           },
           "mode": "markers",
           "name": "",
           "orientation": "v",
           "showlegend": false,
           "type": "scatter",
           "x": [
            532.717,
            466.935,
            358.423,
            254.063,
            59.1702,
            -41.7502,
            -224.755,
            -339.339,
            -491.111
           ],
           "xaxis": "x",
           "y": [
            -170.738,
            -52.2077,
            20.483,
            59.1299,
            52.85,
            41.2357,
            48.1308,
            28.9184,
            -88.5164
           ],
           "yaxis": "y"
          }
         ],
         "name": "390.0"
        },
        {
         "data": [
          {
           "hovertemplate": "<b>%{hovertext}</b><br><br>f=400.0<br>x=%{x}<br>y=%{y}<extra></extra>",
           "hovertext": [
            15,
            16,
            17,
            18,
            19,
            20,
            21,
            22,
            23
           ],
           "ids": [
            15,
            16,
            17,
            18,
            19,
            20,
            21,
            22,
            23
           ],
           "legendgroup": "",
           "marker": {
            "color": "#636efa",
            "symbol": "circle"
           },
           "mode": "markers",
           "name": "",
           "orientation": "v",
           "showlegend": false,
           "type": "scatter",
           "x": [
            512.019,
            438.796,
            343.913,
            157.946,
            56.9486,
            -130.999,
            -254.487,
            -433.392,
            -512.902
           ],
           "xaxis": "x",
           "y": [
            -124.534,
            -27.3346,
            39.3615,
            52.3036,
            38.2925,
            56.5246,
            48.7603,
            -26.5442,
            -139.395
           ],
           "yaxis": "y"
          }
         ],
         "name": "400.0"
        },
        {
         "data": [
          {
           "hovertemplate": "<b>%{hovertext}</b><br><br>f=410.0<br>x=%{x}<br>y=%{y}<extra></extra>",
           "hovertext": [
            15,
            16,
            17,
            18,
            19,
            20,
            21,
            22,
            23
           ],
           "ids": [
            15,
            16,
            17,
            18,
            19,
            20,
            21,
            22,
            23
           ],
           "legendgroup": "",
           "marker": {
            "color": "#636efa",
            "symbol": "circle"
           },
           "mode": "markers",
           "name": "",
           "orientation": "v",
           "showlegend": false,
           "type": "scatter",
           "x": [
            523.035,
            492.91,
            425.534,
            253.633,
            157.007,
            -27.7909,
            -164.141,
            -359.491,
            -480.153
           ],
           "xaxis": "x",
           "y": [
            -205.857,
            -97.3736,
            -4.80742,
            50.1631,
            35.9698,
            53.6911,
            57.9769,
            18.1048,
            -60.3592
           ],
           "yaxis": "y"
          }
         ],
         "name": "410.0"
        },
        {
         "data": [
          {
           "hovertemplate": "<b>%{hovertext}</b><br><br>f=420.0<br>x=%{x}<br>y=%{y}<extra></extra>",
           "hovertext": [
            16,
            17,
            18,
            19,
            20,
            21,
            22,
            23
           ],
           "ids": [
            16,
            17,
            18,
            19,
            20,
            21,
            22,
            23
           ],
           "legendgroup": "",
           "marker": {
            "color": "#636efa",
            "symbol": "circle"
           },
           "mode": "markers",
           "name": "",
           "orientation": "v",
           "showlegend": false,
           "type": "scatter",
           "x": [
            517.141,
            487.766,
            344.34,
            248.457,
            67.8391,
            -69.5369,
            -268.921,
            -414.058
           ],
           "xaxis": "x",
           "y": [
            -174.604,
            -69.9401,
            26.9364,
            33.1612,
            61.6559,
            58.7058,
            35.8842,
            -5.52619
           ],
           "yaxis": "y"
          }
         ],
         "name": "420.0"
        },
        {
         "data": [
          {
           "hovertemplate": "<b>%{hovertext}</b><br><br>f=430.0<br>x=%{x}<br>y=%{y}<extra></extra>",
           "hovertext": [
            17,
            18,
            19,
            20,
            21,
            22,
            23
           ],
           "ids": [
            17,
            18,
            19,
            20,
            21,
            22,
            23
           ],
           "legendgroup": "",
           "marker": {
            "color": "#636efa",
            "symbol": "circle"
           },
           "mode": "markers",
           "name": "",
           "orientation": "v",
           "showlegend": false,
           "type": "scatter",
           "x": [
            524.946,
            422.541,
            337.96,
            165.997,
            28.5931,
            -178.187,
            -334.142
           ],
           "xaxis": "x",
           "y": [
            -149.971,
            -14.7564,
            27.5482,
            63.6125,
            63.8051,
            52.5627,
            30.7664
           ],
           "yaxis": "y"
          }
         ],
         "name": "430.0"
        },
        {
         "data": [
          {
           "hovertemplate": "<b>%{hovertext}</b><br><br>f=440.0<br>x=%{x}<br>y=%{y}<extra></extra>",
           "hovertext": [
            18,
            19,
            20,
            21,
            22,
            23
           ],
           "ids": [
            18,
            19,
            20,
            21,
            22,
            23
           ],
           "legendgroup": "",
           "marker": {
            "color": "#636efa",
            "symbol": "circle"
           },
           "mode": "markers",
           "name": "",
           "orientation": "v",
           "showlegend": false,
           "type": "scatter",
           "x": [
            487.641,
            414.951,
            258.796,
            123.185,
            -82.0624,
            -241.566
           ],
           "xaxis": "x",
           "y": [
            -78.1233,
            -13.2964,
            49.9001,
            59.077,
            58.8643,
            44.3207
           ],
           "yaxis": "y"
          }
         ],
         "name": "440.0"
        },
        {
         "data": [
          {
           "hovertemplate": "<b>%{hovertext}</b><br><br>f=450.0<br>x=%{x}<br>y=%{y}<extra></extra>",
           "hovertext": [
            18,
            19,
            20,
            21,
            22,
            23
           ],
           "ids": [
            18,
            19,
            20,
            21,
            22,
            23
           ],
           "legendgroup": "",
           "marker": {
            "color": "#636efa",
            "symbol": "circle"
           },
           "mode": "markers",
           "name": "",
           "orientation": "v",
           "showlegend": false,
           "type": "scatter",
           "x": [
            519.445,
            473.223,
            352.115,
            221.539,
            17.8212,
            -146.717
           ],
           "xaxis": "x",
           "y": [
            -155.136,
            -72.4127,
            31.1089,
            55.3744,
            63.9559,
            52.5183
           ],
           "yaxis": "y"
          }
         ],
         "name": "450.0"
        },
        {
         "data": [
          {
           "hovertemplate": "<b>%{hovertext}</b><br><br>f=460.0<br>x=%{x}<br>y=%{y}<extra></extra>",
           "hovertext": [
            19,
            20,
            21,
            22,
            23
           ],
           "ids": [
            19,
            20,
            21,
            22,
            23
           ],
           "legendgroup": "",
           "marker": {
            "color": "#636efa",
            "symbol": "circle"
           },
           "mode": "markers",
           "name": "",
           "orientation": "v",
           "showlegend": false,
           "type": "scatter",
           "x": [
            516.007,
            429.091,
            310.883,
            113.556,
            -53.3909
           ],
           "xaxis": "x",
           "y": [
            -147.689,
            -14.6012,
            32.2727,
            62.9795,
            62.099
           ],
           "yaxis": "y"
          }
         ],
         "name": "460.0"
        },
        {
         "data": [
          {
           "hovertemplate": "<b>%{hovertext}</b><br><br>f=470.0<br>x=%{x}<br>y=%{y}<extra></extra>",
           "hovertext": [
            20,
            21,
            22,
            23,
            24
           ],
           "ids": [
            20,
            21,
            22,
            23,
            24
           ],
           "legendgroup": "",
           "marker": {
            "color": "#636efa",
            "symbol": "circle"
           },
           "mode": "markers",
           "name": "",
           "orientation": "v",
           "showlegend": false,
           "type": "scatter",
           "x": [
            485.857,
            393.191,
            208.864,
            43.2628,
            -514.996
           ],
           "xaxis": "x",
           "y": [
            -83.8215,
            -5.49871,
            47.7748,
            60.6809,
            -174.566
           ],
           "yaxis": "y"
          }
         ],
         "name": "470.0"
        },
        {
         "data": [
          {
           "hovertemplate": "<b>%{hovertext}</b><br><br>f=480.0<br>x=%{x}<br>y=%{y}<extra></extra>",
           "hovertext": [
            20,
            21,
            22,
            23,
            24
           ],
           "ids": [
            20,
            21,
            22,
            23,
            24
           ],
           "legendgroup": "",
           "marker": {
            "color": "#636efa",
            "symbol": "circle"
           },
           "mode": "markers",
           "name": "",
           "orientation": "v",
           "showlegend": false,
           "type": "scatter",
           "x": [
            523.559,
            460.866,
            303.389,
            137.303,
            -494.279
           ],
           "xaxis": "x",
           "y": [
            -160.975,
            -63.3089,
            31.3396,
            58.2187,
            -104.243
           ],
           "yaxis": "y"
          }
         ],
         "name": "480.0"
        },
        {
         "data": [
          {
           "hovertemplate": "<b>%{hovertext}</b><br><br>f=490.0<br>x=%{x}<br>y=%{y}<extra></extra>",
           "hovertext": [
            21,
            22,
            23,
            24
           ],
           "ids": [
            21,
            22,
            23,
            24
           ],
           "legendgroup": "",
           "marker": {
            "color": "#636efa",
            "symbol": "circle"
           },
           "mode": "markers",
           "name": "",
           "orientation": "v",
           "showlegend": false,
           "type": "scatter",
           "x": [
            504.804,
            392.266,
            230.578,
            -459.467
           ],
           "xaxis": "x",
           "y": [
            -141.025,
            -5.92758,
            53.6326,
            -37.6493
           ],
           "yaxis": "y"
          }
         ],
         "name": "490.0"
        },
        {
         "data": [
          {
           "hovertemplate": "<b>%{hovertext}</b><br><br>f=500.0<br>x=%{x}<br>y=%{y}<extra></extra>",
           "hovertext": [
            22,
            23,
            24,
            25
           ],
           "ids": [
            22,
            23,
            24,
            25
           ],
           "legendgroup": "",
           "marker": {
            "color": "#636efa",
            "symbol": "circle"
           },
           "mode": "markers",
           "name": "",
           "orientation": "v",
           "showlegend": false,
           "type": "scatter",
           "x": [
            460.91,
            322.706,
            -402.211,
            -500.952
           ],
           "xaxis": "x",
           "y": [
            -64.8948,
            28.5977,
            10.9297,
            -172.025
           ],
           "yaxis": "y"
          }
         ],
         "name": "500.0"
        },
        {
         "data": [
          {
           "hovertemplate": "<b>%{hovertext}</b><br><br>f=510.0<br>x=%{x}<br>y=%{y}<extra></extra>",
           "hovertext": [
            22,
            23,
            24,
            25
           ],
           "ids": [
            22,
            23,
            24,
            25
           ],
           "legendgroup": "",
           "marker": {
            "color": "#636efa",
            "symbol": "circle"
           },
           "mode": "markers",
           "name": "",
           "orientation": "v",
           "showlegend": false,
           "type": "scatter",
           "x": [
            504.932,
            404.461,
            -330.494,
            -493.999
           ],
           "xaxis": "x",
           "y": [
            -145.658,
            -6.64427,
            34.2022,
            -99.8879
           ],
           "yaxis": "y"
          }
         ],
         "name": "510.0"
        },
        {
         "data": [
          {
           "hovertemplate": "<b>%{hovertext}</b><br><br>f=520.0<br>x=%{x}<br>y=%{y}<extra></extra>",
           "hovertext": [
            23,
            24,
            25,
            26
           ],
           "ids": [
            23,
            24,
            25,
            26
           ],
           "legendgroup": "",
           "marker": {
            "color": "#636efa",
            "symbol": "circle"
           },
           "mode": "markers",
           "name": "",
           "orientation": "v",
           "showlegend": false,
           "type": "scatter",
           "x": [
            470.397,
            -247.38,
            -446.24,
            -530.244
           ],
           "xaxis": "x",
           "y": [
            -73.5251,
            49.7963,
            -38.709,
            -133.355
           ],
           "yaxis": "y"
          }
         ],
         "name": "520.0"
        },
        {
         "data": [
          {
           "hovertemplate": "<b>%{hovertext}</b><br><br>f=530.0<br>x=%{x}<br>y=%{y}<extra></extra>",
           "hovertext": [
            23,
            24,
            25,
            26
           ],
           "ids": [
            23,
            24,
            25,
            26
           ],
           "legendgroup": "",
           "marker": {
            "color": "#636efa",
            "symbol": "circle"
           },
           "mode": "markers",
           "name": "",
           "orientation": "v",
           "showlegend": false,
           "type": "scatter",
           "x": [
            502.506,
            -160.035,
            -386.229,
            -493.745
           ],
           "xaxis": "x",
           "y": [
            -166,
            45.2581,
            12.0407,
            -62.0721
           ],
           "yaxis": "y"
          }
         ],
         "name": "530.0"
        },
        {
         "data": [
          {
           "hovertemplate": "<b>%{hovertext}</b><br><br>f=540.0<br>x=%{x}<br>y=%{y}<extra></extra>",
           "hovertext": [
            24,
            25,
            26,
            27
           ],
           "ids": [
            24,
            25,
            26,
            27
           ],
           "legendgroup": "",
           "marker": {
            "color": "#636efa",
            "symbol": "circle"
           },
           "mode": "markers",
           "name": "",
           "orientation": "v",
           "showlegend": false,
           "type": "scatter",
           "x": [
            -74.0579,
            -309.373,
            -436.454,
            -521.883
           ],
           "xaxis": "x",
           "y": [
            48.4588,
            39.3609,
            -7.871289999999999,
            -142.032
           ],
           "yaxis": "y"
          }
         ],
         "name": "540.0"
        },
        {
         "data": [
          {
           "hovertemplate": "<b>%{hovertext}</b><br><br>f=550.0<br>x=%{x}<br>y=%{y}<extra></extra>",
           "hovertext": [
            24,
            25,
            26,
            27,
            28
           ],
           "ids": [
            24,
            25,
            26,
            27,
            28
           ],
           "legendgroup": "",
           "marker": {
            "color": "#636efa",
            "symbol": "circle"
           },
           "mode": "markers",
           "name": "",
           "orientation": "v",
           "showlegend": false,
           "type": "scatter",
           "x": [
            11.99,
            -230.273,
            -361.373,
            -491.83,
            -538.194
           ],
           "xaxis": "x",
           "y": [
            53.1309,
            58.3877,
            23.8175,
            -70.0236,
            -182.517
           ],
           "yaxis": "y"
          }
         ],
         "name": "550.0"
        },
        {
         "data": [
          {
           "hovertemplate": "<b>%{hovertext}</b><br><br>f=560.0<br>x=%{x}<br>y=%{y}<extra></extra>",
           "hovertext": [
            24,
            25,
            26,
            27,
            28,
            29
           ],
           "ids": [
            24,
            25,
            26,
            27,
            28,
            29
           ],
           "legendgroup": "",
           "marker": {
            "color": "#636efa",
            "symbol": "circle"
           },
           "mode": "markers",
           "name": "",
           "orientation": "v",
           "showlegend": false,
           "type": "scatter",
           "x": [
            102.494,
            -145.629,
            -284.847,
            -446.294,
            -512.896,
            -530.817
           ],
           "xaxis": "x",
           "y": [
            52.5674,
            69.5286,
            47.0059,
            -7.753239999999999,
            -108.037,
            -208.658
           ],
           "yaxis": "y"
          }
         ],
         "name": "560.0"
        },
        {
         "data": [
          {
           "hovertemplate": "<b>%{hovertext}</b><br><br>f=570.0<br>x=%{x}<br>y=%{y}<extra></extra>",
           "hovertext": [
            24,
            25,
            26,
            27,
            28,
            29
           ],
           "ids": [
            24,
            25,
            26,
            27,
            28,
            29
           ],
           "legendgroup": "",
           "marker": {
            "color": "#636efa",
            "symbol": "circle"
           },
           "mode": "markers",
           "name": "",
           "orientation": "v",
           "showlegend": false,
           "type": "scatter",
           "x": [
            191.677,
            -63.9395,
            -203.714,
            -379.435,
            -479.165,
            -514.694
           ],
           "xaxis": "x",
           "y": [
            59.1504,
            64.6659,
            53.8826,
            32.3058,
            -37.6189,
            -129.827
           ],
           "yaxis": "y"
          }
         ],
         "name": "570.0"
        },
        {
         "data": [
          {
           "hovertemplate": "<b>%{hovertext}</b><br><br>f=580.0<br>x=%{x}<br>y=%{y}<extra></extra>",
           "hovertext": [
            24,
            25,
            26,
            27,
            28,
            29,
            30
           ],
           "ids": [
            24,
            25,
            26,
            27,
            28,
            29,
            30
           ],
           "legendgroup": "",
           "marker": {
            "color": "#636efa",
            "symbol": "circle"
           },
           "mode": "markers",
           "name": "",
           "orientation": "v",
           "showlegend": false,
           "type": "scatter",
           "x": [
            276.14,
            17.1891,
            -120.863,
            -302.065,
            -417.096,
            -478.404,
            -539.21
           ],
           "xaxis": "x",
           "y": [
            47.1664,
            71.6882,
            58.604,
            53.9227,
            9.92719,
            -63.7208,
            -180.797
           ],
           "yaxis": "y"
          }
         ],
         "name": "580.0"
        },
        {
         "data": [
          {
           "hovertemplate": "<b>%{hovertext}</b><br><br>f=590.0<br>x=%{x}<br>y=%{y}<extra></extra>",
           "hovertext": [
            24,
            25,
            26,
            27,
            28,
            29,
            30
           ],
           "ids": [
            24,
            25,
            26,
            27,
            28,
            29,
            30
           ],
           "legendgroup": "",
           "marker": {
            "color": "#636efa",
            "symbol": "circle"
           },
           "mode": "markers",
           "name": "",
           "orientation": "v",
           "showlegend": false,
           "type": "scatter",
           "x": [
            354.831,
            96.9133,
            -42.0815,
            -218.853,
            -347.742,
            -427.515,
            -512.22
           ],
           "xaxis": "x",
           "y": [
            29.1883,
            67.4254,
            60.4053,
            61.5156,
            42.0002,
            -12.8915,
            -106.405
           ],
           "yaxis": "y"
          }
         ],
         "name": "590.0"
        },
        {
         "data": [
          {
           "hovertemplate": "<b>%{hovertext}</b><br><br>f=600.0<br>x=%{x}<br>y=%{y}<extra></extra>",
           "hovertext": [
            24,
            25,
            26,
            27,
            28,
            29,
            30,
            31
           ],
           "ids": [
            24,
            25,
            26,
            27,
            28,
            29,
            30,
            31
           ],
           "legendgroup": "",
           "marker": {
            "color": "#636efa",
            "symbol": "circle"
           },
           "mode": "markers",
           "name": "",
           "orientation": "v",
           "showlegend": false,
           "type": "scatter",
           "x": [
            425.034,
            178.195,
            34.3223,
            -135,
            -269.874,
            -360.685,
            -476.96,
            -519.747
           ],
           "xaxis": "x",
           "y": [
            -7.77698,
            71.1911,
            59.3797,
            59.7835,
            56.6462,
            25.9804,
            -38.639,
            -133.355
           ],
           "yaxis": "y"
          }
         ],
         "name": "600.0"
        },
        {
         "data": [
          {
           "hovertemplate": "<b>%{hovertext}</b><br><br>f=610.0<br>x=%{x}<br>y=%{y}<extra></extra>",
           "hovertext": [
            24,
            25,
            26,
            27,
            28,
            29,
            30,
            31,
            32
           ],
           "ids": [
            24,
            25,
            26,
            27,
            28,
            29,
            30,
            31,
            32
           ],
           "legendgroup": "",
           "marker": {
            "color": "#636efa",
            "symbol": "circle"
           },
           "mode": "markers",
           "name": "",
           "orientation": "v",
           "showlegend": false,
           "type": "scatter",
           "x": [
            475.62,
            263.32,
            114.536,
            -54.1422,
            -184.877,
            -287.182,
            -413.975,
            -489.097,
            -523.754
           ],
           "xaxis": "x",
           "y": [
            -69.7624,
            56.5192,
            62.2095,
            63.3877,
            52.3568,
            39.7015,
            6.31628,
            -60.6238,
            -148.138
           ],
           "yaxis": "y"
          }
         ],
         "name": "610.0"
        },
        {
         "data": [
          {
           "hovertemplate": "<b>%{hovertext}</b><br><br>f=620.0<br>x=%{x}<br>y=%{y}<extra></extra>",
           "hovertext": [
            24,
            25,
            26,
            27,
            28,
            29,
            30,
            31,
            32,
            33
           ],
           "ids": [
            24,
            25,
            26,
            27,
            28,
            29,
            30,
            31,
            32,
            33
           ],
           "legendgroup": "",
           "marker": {
            "color": "#636efa",
            "symbol": "circle"
           },
           "mode": "markers",
           "name": "",
           "orientation": "v",
           "showlegend": false,
           "type": "scatter",
           "x": [
            511.311,
            339.986,
            194.154,
            34.5251,
            -102.463,
            -202.485,
            -338.676,
            -438.069,
            -497.128,
            -530.204
           ],
           "xaxis": "x",
           "y": [
            -140.839,
            35.7229,
            55.5312,
            63.0784,
            60.6316,
            45.3587,
            41.6127,
            -13.5063,
            -78.0675,
            -202.119
           ],
           "yaxis": "y"
          }
         ],
         "name": "620.0"
        },
        {
         "data": [
          {
           "hovertemplate": "<b>%{hovertext}</b><br><br>f=630.0<br>x=%{x}<br>y=%{y}<extra></extra>",
           "hovertext": [
            24,
            25,
            26,
            27,
            28,
            29,
            30,
            31,
            32,
            33
           ],
           "ids": [
            24,
            25,
            26,
            27,
            28,
            29,
            30,
            31,
            32,
            33
           ],
           "legendgroup": "",
           "marker": {
            "color": "#636efa",
            "symbol": "circle"
           },
           "mode": "markers",
           "name": "",
           "orientation": "v",
           "showlegend": false,
           "type": "scatter",
           "x": [
            513.195,
            413.48,
            279.8,
            126.546,
            -20.7396,
            -118.786,
            -254.17,
            -375.314,
            -448.303,
            -516.606
           ],
           "xaxis": "x",
           "y": [
            -215.502,
            -2.95526,
            45.7216,
            71.801,
            55.6264,
            44.6882,
            49.1399,
            25.9917,
            -23.5716,
            -127.938
           ],
           "yaxis": "y"
          }
         ],
         "name": "630.0"
        },
        {
         "data": [
          {
           "hovertemplate": "<b>%{hovertext}</b><br><br>f=640.0<br>x=%{x}<br>y=%{y}<extra></extra>",
           "hovertext": [
            25,
            26,
            27,
            28,
            29,
            30,
            31,
            32,
            33,
            34
           ],
           "ids": [
            25,
            26,
            27,
            28,
            29,
            30,
            31,
            32,
            33,
            34
           ],
           "legendgroup": "",
           "marker": {
            "color": "#636efa",
            "symbol": "circle"
           },
           "mode": "markers",
           "name": "",
           "orientation": "v",
           "showlegend": false,
           "type": "scatter",
           "x": [
            467.396,
            367.076,
            210.792,
            65.8539,
            -37.8862,
            -168.544,
            -295.889,
            -388.655,
            -482.888,
            -510.781
           ],
           "xaxis": "x",
           "y": [
            -62.6031,
            30.6123,
            57.4162,
            64.5186,
            44.2771,
            52.1768,
            38.2179,
            16.3082,
            -59.8833,
            -145.743
           ],
           "yaxis": "y"
          }
         ],
         "name": "640.0"
        },
        {
         "data": [
          {
           "hovertemplate": "<b>%{hovertext}</b><br><br>f=650.0<br>x=%{x}<br>y=%{y}<extra></extra>",
           "hovertext": [
            25,
            26,
            27,
            28,
            29,
            30,
            31,
            32,
            33,
            34,
            35
           ],
           "ids": [
            25,
            26,
            27,
            28,
            29,
            30,
            31,
            32,
            33,
            34,
            35
           ],
           "legendgroup": "",
           "marker": {
            "color": "#636efa",
            "symbol": "circle"
           },
           "mode": "markers",
           "name": "",
           "orientation": "v",
           "showlegend": false,
           "type": "scatter",
           "x": [
            509.876,
            435.91,
            296.226,
            153.68,
            42.4365,
            -83.8468,
            -214.154,
            -317.355,
            -426.587,
            -481.857,
            -535.287
           ],
           "xaxis": "x",
           "y": [
            -132.309,
            -20.1969,
            49.7911,
            63.0104,
            43.0197,
            50.2968,
            45.9568,
            35.7779,
            -13.629,
            -77.2646,
            -187.273
           ],
           "yaxis": "y"
          }
         ],
         "name": "650.0"
        },
        {
         "data": [
          {
           "hovertemplate": "<b>%{hovertext}</b><br><br>f=660.0<br>x=%{x}<br>y=%{y}<extra></extra>",
           "hovertext": [
            25,
            26,
            27,
            28,
            29,
            30,
            31,
            32,
            33,
            34,
            35
           ],
           "ids": [
            25,
            26,
            27,
            28,
            29,
            30,
            31,
            32,
            33,
            34,
            35
           ],
           "legendgroup": "",
           "marker": {
            "color": "#636efa",
            "symbol": "circle"
           },
           "mode": "markers",
           "name": "",
           "orientation": "v",
           "showlegend": false,
           "type": "scatter",
           "x": [
            510.96,
            494.278,
            369.734,
            240.638,
            129.044,
            -3.62185,
            -131.502,
            -239.597,
            -360.089,
            -427.891,
            -521.93
           ],
           "xaxis": "x",
           "y": [
            -206.622,
            -78.3503,
            16.5397,
            53.6883,
            41.1544,
            48.078,
            50.1248,
            42.8518,
            14.1006,
            -28.602,
            -111.542
           ],
           "yaxis": "y"
          }
         ],
         "name": "660.0"
        },
        {
         "data": [
          {
           "hovertemplate": "<b>%{hovertext}</b><br><br>f=670.0<br>x=%{x}<br>y=%{y}<extra></extra>",
           "hovertext": [
            26,
            27,
            28,
            29,
            30,
            31,
            32,
            33,
            34,
            35,
            36
           ],
           "ids": [
            26,
            27,
            28,
            29,
            30,
            31,
            32,
            33,
            34,
            35,
            36
           ],
           "legendgroup": "",
           "marker": {
            "color": "#636efa",
            "symbol": "circle"
           },
           "mode": "markers",
           "name": "",
           "orientation": "v",
           "showlegend": false,
           "type": "scatter",
           "x": [
            526.057,
            448.813,
            327.585,
            210.122,
            82.4955,
            -50.8942,
            -156.63,
            -286.53,
            -372.407,
            -475.745,
            -525.201
           ],
           "xaxis": "x",
           "y": [
            -157.515,
            -12.0264,
            48.9258,
            45.3107,
            51.5175,
            46.7552,
            46.2682,
            37.1288,
            15.2741,
            -48.0306,
            -129.393
           ],
           "yaxis": "y"
          }
         ],
         "name": "670.0"
        },
        {
         "data": [
          {
           "hovertemplate": "<b>%{hovertext}</b><br><br>f=680.0<br>x=%{x}<br>y=%{y}<extra></extra>",
           "hovertext": [
            27,
            28,
            29,
            30,
            31,
            32,
            33,
            34,
            35,
            36,
            37
           ],
           "ids": [
            27,
            28,
            29,
            30,
            31,
            32,
            33,
            34,
            35,
            36,
            37
           ],
           "legendgroup": "",
           "marker": {
            "color": "#636efa",
            "symbol": "circle"
           },
           "mode": "markers",
           "name": "",
           "orientation": "v",
           "showlegend": false,
           "type": "scatter",
           "x": [
            496.006,
            404.739,
            292.631,
            161.159,
            31.7428,
            -73.095,
            -209.305,
            -298.999,
            -418.347,
            -489.766,
            -510.349
           ],
           "xaxis": "x",
           "y": [
            -74.3361,
            12.9357,
            40.9793,
            46.7064,
            54.9553,
            44.6707,
            40.2671,
            34.4369,
            4.776730000000001,
            -55.7985,
            -148.596
           ],
           "yaxis": "y"
          }
         ],
         "name": "680.0"
        },
        {
         "data": [
          {
           "hovertemplate": "<b>%{hovertext}</b><br><br>f=690.0<br>x=%{x}<br>y=%{y}<extra></extra>",
           "hovertext": [
            27,
            28,
            29,
            30,
            31,
            32,
            33,
            34,
            35,
            36,
            37
           ],
           "ids": [
            27,
            28,
            29,
            30,
            31,
            32,
            33,
            34,
            35,
            36,
            37
           ],
           "legendgroup": "",
           "marker": {
            "color": "#636efa",
            "symbol": "circle"
           },
           "mode": "markers",
           "name": "",
           "orientation": "v",
           "showlegend": false,
           "type": "scatter",
           "x": [
            534.448,
            473.859,
            375.222,
            242.723,
            114.914,
            9.1794,
            -130.083,
            -216.613,
            -346.574,
            -431.03,
            -484.524
           ],
           "xaxis": "x",
           "y": [
            -140.089,
            -33.3439,
            21.9818,
            49.1545,
            50.6065,
            46.2423,
            44.4426,
            49.6427,
            33.2372,
            -2.57155,
            -82.9044
           ],
           "yaxis": "y"
          }
         ],
         "name": "690.0"
        },
        {
         "data": [
          {
           "hovertemplate": "<b>%{hovertext}</b><br><br>f=700.0<br>x=%{x}<br>y=%{y}<extra></extra>",
           "hovertext": [
            28,
            29,
            30,
            31,
            32,
            33,
            34,
            35,
            36,
            37,
            38
           ],
           "ids": [
            28,
            29,
            30,
            31,
            32,
            33,
            34,
            35,
            36,
            37,
            38
           ],
           "legendgroup": "",
           "marker": {
            "color": "#636efa",
            "symbol": "circle"
           },
           "mode": "markers",
           "name": "",
           "orientation": "v",
           "showlegend": false,
           "type": "scatter",
           "x": [
            525.77,
            447.799,
            319.978,
            196.326,
            91.982,
            -49.9422,
            -133.001,
            -268.293,
            -362.826,
            -444.478,
            -526.023
           ],
           "xaxis": "x",
           "y": [
            -104.901,
            -22.1063,
            34.0479,
            51.3703,
            44.7373,
            47.3691,
            52.4942,
            49.5811,
            34.499,
            -27.4781,
            -155.713
           ],
           "yaxis": "y"
          }
         ],
         "name": "700.0"
        },
        {
         "data": [
          {
           "hovertemplate": "<b>%{hovertext}</b><br><br>f=710.0<br>x=%{x}<br>y=%{y}<extra></extra>",
           "hovertext": [
            28,
            29,
            30,
            31,
            32,
            33,
            34,
            35,
            36,
            37,
            38
           ],
           "ids": [
            28,
            29,
            30,
            31,
            32,
            33,
            34,
            35,
            36,
            37,
            38
           ],
           "legendgroup": "",
           "marker": {
            "color": "#636efa",
            "symbol": "circle"
           },
           "mode": "markers",
           "name": "",
           "orientation": "v",
           "showlegend": false,
           "type": "scatter",
           "x": [
            534.502,
            498.793,
            398.51,
            277.525,
            173.188,
            30.8594,
            -46.5901,
            -186.273,
            -287.166,
            -388.508,
            -500.6
           ],
           "xaxis": "x",
           "y": [
            -186.118,
            -87.2634,
            14.2804,
            43.5097,
            41.3701,
            46.0315,
            52.2057,
            50.0365,
            40.2122,
            8.830869999999999,
            -78.9143
           ],
           "yaxis": "y"
          }
         ],
         "name": "710.0"
        },
        {
         "data": [
          {
           "hovertemplate": "<b>%{hovertext}</b><br><br>f=720.0<br>x=%{x}<br>y=%{y}<extra></extra>",
           "hovertext": [
            29,
            30,
            31,
            32,
            33,
            34,
            35,
            36,
            37,
            38
           ],
           "ids": [
            29,
            30,
            31,
            32,
            33,
            34,
            35,
            36,
            37,
            38
           ],
           "legendgroup": "",
           "marker": {
            "color": "#636efa",
            "symbol": "circle"
           },
           "mode": "markers",
           "name": "",
           "orientation": "v",
           "showlegend": false,
           "type": "scatter",
           "x": [
            533.459,
            461.724,
            355.847,
            254.669,
            109.668,
            36.4276,
            -102.923,
            -208.009,
            -318.035,
            -443.976
           ],
           "xaxis": "x",
           "y": [
            -160.089,
            -39.9187,
            21.9284,
            45.7109,
            51.7704,
            59.7568,
            38.975,
            51.8676,
            32.7771,
            -20.8478
           ],
           "yaxis": "y"
          }
         ],
         "name": "720.0"
        },
        {
         "data": [
          {
           "hovertemplate": "<b>%{hovertext}</b><br><br>f=730.0<br>x=%{x}<br>y=%{y}<extra></extra>",
           "hovertext": [
            30,
            31,
            32,
            33,
            34,
            35,
            36,
            37,
            38
           ],
           "ids": [
            30,
            31,
            32,
            33,
            34,
            35,
            36,
            37,
            38
           ],
           "legendgroup": "",
           "marker": {
            "color": "#636efa",
            "symbol": "circle"
           },
           "mode": "markers",
           "name": "",
           "orientation": "v",
           "showlegend": false,
           "type": "scatter",
           "x": [
            512.271,
            434.873,
            335.313,
            190.91,
            116.362,
            -16.5477,
            -127.86,
            -236.97,
            -374.859
           ],
           "xaxis": "x",
           "y": [
            -105.453,
            -4.34684,
            32.4878,
            46.446,
            50.7924,
            42.038,
            45.3225,
            39.8438,
            19.2267
           ],
           "yaxis": "y"
          }
         ],
         "name": "730.0"
        },
        {
         "data": [
          {
           "hovertemplate": "<b>%{hovertext}</b><br><br>f=740.0<br>x=%{x}<br>y=%{y}<extra></extra>",
           "hovertext": [
            30,
            31,
            32,
            33,
            34,
            35,
            36,
            37,
            38
           ],
           "ids": [
            30,
            31,
            32,
            33,
            34,
            35,
            36,
            37,
            38
           ],
           "legendgroup": "",
           "marker": {
            "color": "#636efa",
            "symbol": "circle"
           },
           "mode": "markers",
           "name": "",
           "orientation": "v",
           "showlegend": false,
           "type": "scatter",
           "x": [
            524.259,
            493.353,
            413.447,
            272.82,
            195.676,
            66.7027,
            -45.5407,
            -156.191,
            -291.659
           ],
           "xaxis": "x",
           "y": [
            -186.231,
            -63.8579,
            3.39855,
            40.1516,
            53.1033,
            43.4715,
            51.8772,
            51.3158,
            37.9943
           ],
           "yaxis": "y"
          }
         ],
         "name": "740.0"
        },
        {
         "data": [
          {
           "hovertemplate": "<b>%{hovertext}</b><br><br>f=750.0<br>x=%{x}<br>y=%{y}<extra></extra>",
           "hovertext": [
            31,
            32,
            33,
            34,
            35,
            36,
            37,
            38
           ],
           "ids": [
            31,
            32,
            33,
            34,
            35,
            36,
            37,
            38
           ],
           "legendgroup": "",
           "marker": {
            "color": "#636efa",
            "symbol": "circle"
           },
           "mode": "markers",
           "name": "",
           "orientation": "v",
           "showlegend": false,
           "type": "scatter",
           "x": [
            529.593,
            478.62,
            354.53,
            271.888,
            148.156,
            38.5805,
            -71.8806,
            -205.327
           ],
           "xaxis": "x",
           "y": [
            -139.684,
            -53.2198,
            16.6164,
            43.191,
            51.9765,
            50.1209,
            48.5644,
            39.7198
           ],
           "yaxis": "y"
          }
         ],
         "name": "750.0"
        },
        {
         "data": [
          {
           "hovertemplate": "<b>%{hovertext}</b><br><br>f=760.0<br>x=%{x}<br>y=%{y}<extra></extra>",
           "hovertext": [
            32,
            33,
            34,
            35,
            36,
            37,
            38
           ],
           "ids": [
            32,
            33,
            34,
            35,
            36,
            37,
            38
           ],
           "legendgroup": "",
           "marker": {
            "color": "#636efa",
            "symbol": "circle"
           },
           "mode": "markers",
           "name": "",
           "orientation": "v",
           "showlegend": false,
           "type": "scatter",
           "x": [
            516.143,
            424.88,
            349.1,
            226.255,
            120.129,
            8.98424,
            -119.862
           ],
           "xaxis": "x",
           "y": [
            -132.064,
            -31.273,
            23.5424,
            52.882,
            52.895,
            48.5051,
            41.7792
           ],
           "yaxis": "y"
          }
         ],
         "name": "760.0"
        },
        {
         "data": [
          {
           "hovertemplate": "<b>%{hovertext}</b><br><br>f=770.0<br>x=%{x}<br>y=%{y}<extra></extra>",
           "hovertext": [
            33,
            34,
            35,
            36,
            37,
            38
           ],
           "ids": [
            33,
            34,
            35,
            36,
            37,
            38
           ],
           "legendgroup": "",
           "marker": {
            "color": "#636efa",
            "symbol": "circle"
           },
           "mode": "markers",
           "name": "",
           "orientation": "v",
           "showlegend": false,
           "type": "scatter",
           "x": [
            481.972,
            424.957,
            306.053,
            197.424,
            87.9262,
            -34.4119
           ],
           "xaxis": "x",
           "y": [
            -92.6887,
            19.4859,
            40.3389,
            51.7253,
            52.0133,
            40.4383
           ],
           "yaxis": "y"
          }
         ],
         "name": "770.0"
        },
        {
         "data": [
          {
           "hovertemplate": "<b>%{hovertext}</b><br><br>f=780.0<br>x=%{x}<br>y=%{y}<extra></extra>",
           "hovertext": [
            33,
            34,
            35,
            36,
            37,
            38
           ],
           "ids": [
            33,
            34,
            35,
            36,
            37,
            38
           ],
           "legendgroup": "",
           "marker": {
            "color": "#636efa",
            "symbol": "circle"
           },
           "mode": "markers",
           "name": "",
           "orientation": "v",
           "showlegend": false,
           "type": "scatter",
           "x": [
            509.012,
            499.396,
            378.932,
            277.853,
            161.695,
            47.1719
           ],
           "xaxis": "x",
           "y": [
            -168.156,
            36.3552,
            21.9411,
            52.9344,
            52.8351,
            44.4997
           ],
           "yaxis": "y"
          }
         ],
         "name": "780.0"
        }
       ],
       "layout": {
        "legend": {
         "tracegroupgap": 0
        },
        "sliders": [
         {
          "active": 0,
          "currentvalue": {
           "prefix": "f="
          },
          "len": 0.9,
          "pad": {
           "b": 10,
           "t": 60
          },
          "steps": [
           {
            "args": [
             [
              "0.0"
             ],
             {
              "frame": {
               "duration": 0,
               "redraw": false
              },
              "fromcurrent": true,
              "mode": "immediate",
              "transition": {
               "duration": 0,
               "easing": "linear"
              }
             }
            ],
            "label": "0.0",
            "method": "animate"
           },
           {
            "args": [
             [
              "10.0"
             ],
             {
              "frame": {
               "duration": 0,
               "redraw": false
              },
              "fromcurrent": true,
              "mode": "immediate",
              "transition": {
               "duration": 0,
               "easing": "linear"
              }
             }
            ],
            "label": "10.0",
            "method": "animate"
           },
           {
            "args": [
             [
              "20.0"
             ],
             {
              "frame": {
               "duration": 0,
               "redraw": false
              },
              "fromcurrent": true,
              "mode": "immediate",
              "transition": {
               "duration": 0,
               "easing": "linear"
              }
             }
            ],
            "label": "20.0",
            "method": "animate"
           },
           {
            "args": [
             [
              "30.0"
             ],
             {
              "frame": {
               "duration": 0,
               "redraw": false
              },
              "fromcurrent": true,
              "mode": "immediate",
              "transition": {
               "duration": 0,
               "easing": "linear"
              }
             }
            ],
            "label": "30.0",
            "method": "animate"
           },
           {
            "args": [
             [
              "40.0"
             ],
             {
              "frame": {
               "duration": 0,
               "redraw": false
              },
              "fromcurrent": true,
              "mode": "immediate",
              "transition": {
               "duration": 0,
               "easing": "linear"
              }
             }
            ],
            "label": "40.0",
            "method": "animate"
           },
           {
            "args": [
             [
              "50.0"
             ],
             {
              "frame": {
               "duration": 0,
               "redraw": false
              },
              "fromcurrent": true,
              "mode": "immediate",
              "transition": {
               "duration": 0,
               "easing": "linear"
              }
             }
            ],
            "label": "50.0",
            "method": "animate"
           },
           {
            "args": [
             [
              "60.0"
             ],
             {
              "frame": {
               "duration": 0,
               "redraw": false
              },
              "fromcurrent": true,
              "mode": "immediate",
              "transition": {
               "duration": 0,
               "easing": "linear"
              }
             }
            ],
            "label": "60.0",
            "method": "animate"
           },
           {
            "args": [
             [
              "70.0"
             ],
             {
              "frame": {
               "duration": 0,
               "redraw": false
              },
              "fromcurrent": true,
              "mode": "immediate",
              "transition": {
               "duration": 0,
               "easing": "linear"
              }
             }
            ],
            "label": "70.0",
            "method": "animate"
           },
           {
            "args": [
             [
              "80.0"
             ],
             {
              "frame": {
               "duration": 0,
               "redraw": false
              },
              "fromcurrent": true,
              "mode": "immediate",
              "transition": {
               "duration": 0,
               "easing": "linear"
              }
             }
            ],
            "label": "80.0",
            "method": "animate"
           },
           {
            "args": [
             [
              "90.0"
             ],
             {
              "frame": {
               "duration": 0,
               "redraw": false
              },
              "fromcurrent": true,
              "mode": "immediate",
              "transition": {
               "duration": 0,
               "easing": "linear"
              }
             }
            ],
            "label": "90.0",
            "method": "animate"
           },
           {
            "args": [
             [
              "100.0"
             ],
             {
              "frame": {
               "duration": 0,
               "redraw": false
              },
              "fromcurrent": true,
              "mode": "immediate",
              "transition": {
               "duration": 0,
               "easing": "linear"
              }
             }
            ],
            "label": "100.0",
            "method": "animate"
           },
           {
            "args": [
             [
              "110.0"
             ],
             {
              "frame": {
               "duration": 0,
               "redraw": false
              },
              "fromcurrent": true,
              "mode": "immediate",
              "transition": {
               "duration": 0,
               "easing": "linear"
              }
             }
            ],
            "label": "110.0",
            "method": "animate"
           },
           {
            "args": [
             [
              "120.0"
             ],
             {
              "frame": {
               "duration": 0,
               "redraw": false
              },
              "fromcurrent": true,
              "mode": "immediate",
              "transition": {
               "duration": 0,
               "easing": "linear"
              }
             }
            ],
            "label": "120.0",
            "method": "animate"
           },
           {
            "args": [
             [
              "130.0"
             ],
             {
              "frame": {
               "duration": 0,
               "redraw": false
              },
              "fromcurrent": true,
              "mode": "immediate",
              "transition": {
               "duration": 0,
               "easing": "linear"
              }
             }
            ],
            "label": "130.0",
            "method": "animate"
           },
           {
            "args": [
             [
              "140.0"
             ],
             {
              "frame": {
               "duration": 0,
               "redraw": false
              },
              "fromcurrent": true,
              "mode": "immediate",
              "transition": {
               "duration": 0,
               "easing": "linear"
              }
             }
            ],
            "label": "140.0",
            "method": "animate"
           },
           {
            "args": [
             [
              "150.0"
             ],
             {
              "frame": {
               "duration": 0,
               "redraw": false
              },
              "fromcurrent": true,
              "mode": "immediate",
              "transition": {
               "duration": 0,
               "easing": "linear"
              }
             }
            ],
            "label": "150.0",
            "method": "animate"
           },
           {
            "args": [
             [
              "160.0"
             ],
             {
              "frame": {
               "duration": 0,
               "redraw": false
              },
              "fromcurrent": true,
              "mode": "immediate",
              "transition": {
               "duration": 0,
               "easing": "linear"
              }
             }
            ],
            "label": "160.0",
            "method": "animate"
           },
           {
            "args": [
             [
              "170.0"
             ],
             {
              "frame": {
               "duration": 0,
               "redraw": false
              },
              "fromcurrent": true,
              "mode": "immediate",
              "transition": {
               "duration": 0,
               "easing": "linear"
              }
             }
            ],
            "label": "170.0",
            "method": "animate"
           },
           {
            "args": [
             [
              "180.0"
             ],
             {
              "frame": {
               "duration": 0,
               "redraw": false
              },
              "fromcurrent": true,
              "mode": "immediate",
              "transition": {
               "duration": 0,
               "easing": "linear"
              }
             }
            ],
            "label": "180.0",
            "method": "animate"
           },
           {
            "args": [
             [
              "190.0"
             ],
             {
              "frame": {
               "duration": 0,
               "redraw": false
              },
              "fromcurrent": true,
              "mode": "immediate",
              "transition": {
               "duration": 0,
               "easing": "linear"
              }
             }
            ],
            "label": "190.0",
            "method": "animate"
           },
           {
            "args": [
             [
              "200.0"
             ],
             {
              "frame": {
               "duration": 0,
               "redraw": false
              },
              "fromcurrent": true,
              "mode": "immediate",
              "transition": {
               "duration": 0,
               "easing": "linear"
              }
             }
            ],
            "label": "200.0",
            "method": "animate"
           },
           {
            "args": [
             [
              "210.0"
             ],
             {
              "frame": {
               "duration": 0,
               "redraw": false
              },
              "fromcurrent": true,
              "mode": "immediate",
              "transition": {
               "duration": 0,
               "easing": "linear"
              }
             }
            ],
            "label": "210.0",
            "method": "animate"
           },
           {
            "args": [
             [
              "220.0"
             ],
             {
              "frame": {
               "duration": 0,
               "redraw": false
              },
              "fromcurrent": true,
              "mode": "immediate",
              "transition": {
               "duration": 0,
               "easing": "linear"
              }
             }
            ],
            "label": "220.0",
            "method": "animate"
           },
           {
            "args": [
             [
              "230.0"
             ],
             {
              "frame": {
               "duration": 0,
               "redraw": false
              },
              "fromcurrent": true,
              "mode": "immediate",
              "transition": {
               "duration": 0,
               "easing": "linear"
              }
             }
            ],
            "label": "230.0",
            "method": "animate"
           },
           {
            "args": [
             [
              "240.0"
             ],
             {
              "frame": {
               "duration": 0,
               "redraw": false
              },
              "fromcurrent": true,
              "mode": "immediate",
              "transition": {
               "duration": 0,
               "easing": "linear"
              }
             }
            ],
            "label": "240.0",
            "method": "animate"
           },
           {
            "args": [
             [
              "250.0"
             ],
             {
              "frame": {
               "duration": 0,
               "redraw": false
              },
              "fromcurrent": true,
              "mode": "immediate",
              "transition": {
               "duration": 0,
               "easing": "linear"
              }
             }
            ],
            "label": "250.0",
            "method": "animate"
           },
           {
            "args": [
             [
              "260.0"
             ],
             {
              "frame": {
               "duration": 0,
               "redraw": false
              },
              "fromcurrent": true,
              "mode": "immediate",
              "transition": {
               "duration": 0,
               "easing": "linear"
              }
             }
            ],
            "label": "260.0",
            "method": "animate"
           },
           {
            "args": [
             [
              "270.0"
             ],
             {
              "frame": {
               "duration": 0,
               "redraw": false
              },
              "fromcurrent": true,
              "mode": "immediate",
              "transition": {
               "duration": 0,
               "easing": "linear"
              }
             }
            ],
            "label": "270.0",
            "method": "animate"
           },
           {
            "args": [
             [
              "280.0"
             ],
             {
              "frame": {
               "duration": 0,
               "redraw": false
              },
              "fromcurrent": true,
              "mode": "immediate",
              "transition": {
               "duration": 0,
               "easing": "linear"
              }
             }
            ],
            "label": "280.0",
            "method": "animate"
           },
           {
            "args": [
             [
              "290.0"
             ],
             {
              "frame": {
               "duration": 0,
               "redraw": false
              },
              "fromcurrent": true,
              "mode": "immediate",
              "transition": {
               "duration": 0,
               "easing": "linear"
              }
             }
            ],
            "label": "290.0",
            "method": "animate"
           },
           {
            "args": [
             [
              "300.0"
             ],
             {
              "frame": {
               "duration": 0,
               "redraw": false
              },
              "fromcurrent": true,
              "mode": "immediate",
              "transition": {
               "duration": 0,
               "easing": "linear"
              }
             }
            ],
            "label": "300.0",
            "method": "animate"
           },
           {
            "args": [
             [
              "310.0"
             ],
             {
              "frame": {
               "duration": 0,
               "redraw": false
              },
              "fromcurrent": true,
              "mode": "immediate",
              "transition": {
               "duration": 0,
               "easing": "linear"
              }
             }
            ],
            "label": "310.0",
            "method": "animate"
           },
           {
            "args": [
             [
              "320.0"
             ],
             {
              "frame": {
               "duration": 0,
               "redraw": false
              },
              "fromcurrent": true,
              "mode": "immediate",
              "transition": {
               "duration": 0,
               "easing": "linear"
              }
             }
            ],
            "label": "320.0",
            "method": "animate"
           },
           {
            "args": [
             [
              "330.0"
             ],
             {
              "frame": {
               "duration": 0,
               "redraw": false
              },
              "fromcurrent": true,
              "mode": "immediate",
              "transition": {
               "duration": 0,
               "easing": "linear"
              }
             }
            ],
            "label": "330.0",
            "method": "animate"
           },
           {
            "args": [
             [
              "340.0"
             ],
             {
              "frame": {
               "duration": 0,
               "redraw": false
              },
              "fromcurrent": true,
              "mode": "immediate",
              "transition": {
               "duration": 0,
               "easing": "linear"
              }
             }
            ],
            "label": "340.0",
            "method": "animate"
           },
           {
            "args": [
             [
              "350.0"
             ],
             {
              "frame": {
               "duration": 0,
               "redraw": false
              },
              "fromcurrent": true,
              "mode": "immediate",
              "transition": {
               "duration": 0,
               "easing": "linear"
              }
             }
            ],
            "label": "350.0",
            "method": "animate"
           },
           {
            "args": [
             [
              "360.0"
             ],
             {
              "frame": {
               "duration": 0,
               "redraw": false
              },
              "fromcurrent": true,
              "mode": "immediate",
              "transition": {
               "duration": 0,
               "easing": "linear"
              }
             }
            ],
            "label": "360.0",
            "method": "animate"
           },
           {
            "args": [
             [
              "370.0"
             ],
             {
              "frame": {
               "duration": 0,
               "redraw": false
              },
              "fromcurrent": true,
              "mode": "immediate",
              "transition": {
               "duration": 0,
               "easing": "linear"
              }
             }
            ],
            "label": "370.0",
            "method": "animate"
           },
           {
            "args": [
             [
              "380.0"
             ],
             {
              "frame": {
               "duration": 0,
               "redraw": false
              },
              "fromcurrent": true,
              "mode": "immediate",
              "transition": {
               "duration": 0,
               "easing": "linear"
              }
             }
            ],
            "label": "380.0",
            "method": "animate"
           },
           {
            "args": [
             [
              "390.0"
             ],
             {
              "frame": {
               "duration": 0,
               "redraw": false
              },
              "fromcurrent": true,
              "mode": "immediate",
              "transition": {
               "duration": 0,
               "easing": "linear"
              }
             }
            ],
            "label": "390.0",
            "method": "animate"
           },
           {
            "args": [
             [
              "400.0"
             ],
             {
              "frame": {
               "duration": 0,
               "redraw": false
              },
              "fromcurrent": true,
              "mode": "immediate",
              "transition": {
               "duration": 0,
               "easing": "linear"
              }
             }
            ],
            "label": "400.0",
            "method": "animate"
           },
           {
            "args": [
             [
              "410.0"
             ],
             {
              "frame": {
               "duration": 0,
               "redraw": false
              },
              "fromcurrent": true,
              "mode": "immediate",
              "transition": {
               "duration": 0,
               "easing": "linear"
              }
             }
            ],
            "label": "410.0",
            "method": "animate"
           },
           {
            "args": [
             [
              "420.0"
             ],
             {
              "frame": {
               "duration": 0,
               "redraw": false
              },
              "fromcurrent": true,
              "mode": "immediate",
              "transition": {
               "duration": 0,
               "easing": "linear"
              }
             }
            ],
            "label": "420.0",
            "method": "animate"
           },
           {
            "args": [
             [
              "430.0"
             ],
             {
              "frame": {
               "duration": 0,
               "redraw": false
              },
              "fromcurrent": true,
              "mode": "immediate",
              "transition": {
               "duration": 0,
               "easing": "linear"
              }
             }
            ],
            "label": "430.0",
            "method": "animate"
           },
           {
            "args": [
             [
              "440.0"
             ],
             {
              "frame": {
               "duration": 0,
               "redraw": false
              },
              "fromcurrent": true,
              "mode": "immediate",
              "transition": {
               "duration": 0,
               "easing": "linear"
              }
             }
            ],
            "label": "440.0",
            "method": "animate"
           },
           {
            "args": [
             [
              "450.0"
             ],
             {
              "frame": {
               "duration": 0,
               "redraw": false
              },
              "fromcurrent": true,
              "mode": "immediate",
              "transition": {
               "duration": 0,
               "easing": "linear"
              }
             }
            ],
            "label": "450.0",
            "method": "animate"
           },
           {
            "args": [
             [
              "460.0"
             ],
             {
              "frame": {
               "duration": 0,
               "redraw": false
              },
              "fromcurrent": true,
              "mode": "immediate",
              "transition": {
               "duration": 0,
               "easing": "linear"
              }
             }
            ],
            "label": "460.0",
            "method": "animate"
           },
           {
            "args": [
             [
              "470.0"
             ],
             {
              "frame": {
               "duration": 0,
               "redraw": false
              },
              "fromcurrent": true,
              "mode": "immediate",
              "transition": {
               "duration": 0,
               "easing": "linear"
              }
             }
            ],
            "label": "470.0",
            "method": "animate"
           },
           {
            "args": [
             [
              "480.0"
             ],
             {
              "frame": {
               "duration": 0,
               "redraw": false
              },
              "fromcurrent": true,
              "mode": "immediate",
              "transition": {
               "duration": 0,
               "easing": "linear"
              }
             }
            ],
            "label": "480.0",
            "method": "animate"
           },
           {
            "args": [
             [
              "490.0"
             ],
             {
              "frame": {
               "duration": 0,
               "redraw": false
              },
              "fromcurrent": true,
              "mode": "immediate",
              "transition": {
               "duration": 0,
               "easing": "linear"
              }
             }
            ],
            "label": "490.0",
            "method": "animate"
           },
           {
            "args": [
             [
              "500.0"
             ],
             {
              "frame": {
               "duration": 0,
               "redraw": false
              },
              "fromcurrent": true,
              "mode": "immediate",
              "transition": {
               "duration": 0,
               "easing": "linear"
              }
             }
            ],
            "label": "500.0",
            "method": "animate"
           },
           {
            "args": [
             [
              "510.0"
             ],
             {
              "frame": {
               "duration": 0,
               "redraw": false
              },
              "fromcurrent": true,
              "mode": "immediate",
              "transition": {
               "duration": 0,
               "easing": "linear"
              }
             }
            ],
            "label": "510.0",
            "method": "animate"
           },
           {
            "args": [
             [
              "520.0"
             ],
             {
              "frame": {
               "duration": 0,
               "redraw": false
              },
              "fromcurrent": true,
              "mode": "immediate",
              "transition": {
               "duration": 0,
               "easing": "linear"
              }
             }
            ],
            "label": "520.0",
            "method": "animate"
           },
           {
            "args": [
             [
              "530.0"
             ],
             {
              "frame": {
               "duration": 0,
               "redraw": false
              },
              "fromcurrent": true,
              "mode": "immediate",
              "transition": {
               "duration": 0,
               "easing": "linear"
              }
             }
            ],
            "label": "530.0",
            "method": "animate"
           },
           {
            "args": [
             [
              "540.0"
             ],
             {
              "frame": {
               "duration": 0,
               "redraw": false
              },
              "fromcurrent": true,
              "mode": "immediate",
              "transition": {
               "duration": 0,
               "easing": "linear"
              }
             }
            ],
            "label": "540.0",
            "method": "animate"
           },
           {
            "args": [
             [
              "550.0"
             ],
             {
              "frame": {
               "duration": 0,
               "redraw": false
              },
              "fromcurrent": true,
              "mode": "immediate",
              "transition": {
               "duration": 0,
               "easing": "linear"
              }
             }
            ],
            "label": "550.0",
            "method": "animate"
           },
           {
            "args": [
             [
              "560.0"
             ],
             {
              "frame": {
               "duration": 0,
               "redraw": false
              },
              "fromcurrent": true,
              "mode": "immediate",
              "transition": {
               "duration": 0,
               "easing": "linear"
              }
             }
            ],
            "label": "560.0",
            "method": "animate"
           },
           {
            "args": [
             [
              "570.0"
             ],
             {
              "frame": {
               "duration": 0,
               "redraw": false
              },
              "fromcurrent": true,
              "mode": "immediate",
              "transition": {
               "duration": 0,
               "easing": "linear"
              }
             }
            ],
            "label": "570.0",
            "method": "animate"
           },
           {
            "args": [
             [
              "580.0"
             ],
             {
              "frame": {
               "duration": 0,
               "redraw": false
              },
              "fromcurrent": true,
              "mode": "immediate",
              "transition": {
               "duration": 0,
               "easing": "linear"
              }
             }
            ],
            "label": "580.0",
            "method": "animate"
           },
           {
            "args": [
             [
              "590.0"
             ],
             {
              "frame": {
               "duration": 0,
               "redraw": false
              },
              "fromcurrent": true,
              "mode": "immediate",
              "transition": {
               "duration": 0,
               "easing": "linear"
              }
             }
            ],
            "label": "590.0",
            "method": "animate"
           },
           {
            "args": [
             [
              "600.0"
             ],
             {
              "frame": {
               "duration": 0,
               "redraw": false
              },
              "fromcurrent": true,
              "mode": "immediate",
              "transition": {
               "duration": 0,
               "easing": "linear"
              }
             }
            ],
            "label": "600.0",
            "method": "animate"
           },
           {
            "args": [
             [
              "610.0"
             ],
             {
              "frame": {
               "duration": 0,
               "redraw": false
              },
              "fromcurrent": true,
              "mode": "immediate",
              "transition": {
               "duration": 0,
               "easing": "linear"
              }
             }
            ],
            "label": "610.0",
            "method": "animate"
           },
           {
            "args": [
             [
              "620.0"
             ],
             {
              "frame": {
               "duration": 0,
               "redraw": false
              },
              "fromcurrent": true,
              "mode": "immediate",
              "transition": {
               "duration": 0,
               "easing": "linear"
              }
             }
            ],
            "label": "620.0",
            "method": "animate"
           },
           {
            "args": [
             [
              "630.0"
             ],
             {
              "frame": {
               "duration": 0,
               "redraw": false
              },
              "fromcurrent": true,
              "mode": "immediate",
              "transition": {
               "duration": 0,
               "easing": "linear"
              }
             }
            ],
            "label": "630.0",
            "method": "animate"
           },
           {
            "args": [
             [
              "640.0"
             ],
             {
              "frame": {
               "duration": 0,
               "redraw": false
              },
              "fromcurrent": true,
              "mode": "immediate",
              "transition": {
               "duration": 0,
               "easing": "linear"
              }
             }
            ],
            "label": "640.0",
            "method": "animate"
           },
           {
            "args": [
             [
              "650.0"
             ],
             {
              "frame": {
               "duration": 0,
               "redraw": false
              },
              "fromcurrent": true,
              "mode": "immediate",
              "transition": {
               "duration": 0,
               "easing": "linear"
              }
             }
            ],
            "label": "650.0",
            "method": "animate"
           },
           {
            "args": [
             [
              "660.0"
             ],
             {
              "frame": {
               "duration": 0,
               "redraw": false
              },
              "fromcurrent": true,
              "mode": "immediate",
              "transition": {
               "duration": 0,
               "easing": "linear"
              }
             }
            ],
            "label": "660.0",
            "method": "animate"
           },
           {
            "args": [
             [
              "670.0"
             ],
             {
              "frame": {
               "duration": 0,
               "redraw": false
              },
              "fromcurrent": true,
              "mode": "immediate",
              "transition": {
               "duration": 0,
               "easing": "linear"
              }
             }
            ],
            "label": "670.0",
            "method": "animate"
           },
           {
            "args": [
             [
              "680.0"
             ],
             {
              "frame": {
               "duration": 0,
               "redraw": false
              },
              "fromcurrent": true,
              "mode": "immediate",
              "transition": {
               "duration": 0,
               "easing": "linear"
              }
             }
            ],
            "label": "680.0",
            "method": "animate"
           },
           {
            "args": [
             [
              "690.0"
             ],
             {
              "frame": {
               "duration": 0,
               "redraw": false
              },
              "fromcurrent": true,
              "mode": "immediate",
              "transition": {
               "duration": 0,
               "easing": "linear"
              }
             }
            ],
            "label": "690.0",
            "method": "animate"
           },
           {
            "args": [
             [
              "700.0"
             ],
             {
              "frame": {
               "duration": 0,
               "redraw": false
              },
              "fromcurrent": true,
              "mode": "immediate",
              "transition": {
               "duration": 0,
               "easing": "linear"
              }
             }
            ],
            "label": "700.0",
            "method": "animate"
           },
           {
            "args": [
             [
              "710.0"
             ],
             {
              "frame": {
               "duration": 0,
               "redraw": false
              },
              "fromcurrent": true,
              "mode": "immediate",
              "transition": {
               "duration": 0,
               "easing": "linear"
              }
             }
            ],
            "label": "710.0",
            "method": "animate"
           },
           {
            "args": [
             [
              "720.0"
             ],
             {
              "frame": {
               "duration": 0,
               "redraw": false
              },
              "fromcurrent": true,
              "mode": "immediate",
              "transition": {
               "duration": 0,
               "easing": "linear"
              }
             }
            ],
            "label": "720.0",
            "method": "animate"
           },
           {
            "args": [
             [
              "730.0"
             ],
             {
              "frame": {
               "duration": 0,
               "redraw": false
              },
              "fromcurrent": true,
              "mode": "immediate",
              "transition": {
               "duration": 0,
               "easing": "linear"
              }
             }
            ],
            "label": "730.0",
            "method": "animate"
           },
           {
            "args": [
             [
              "740.0"
             ],
             {
              "frame": {
               "duration": 0,
               "redraw": false
              },
              "fromcurrent": true,
              "mode": "immediate",
              "transition": {
               "duration": 0,
               "easing": "linear"
              }
             }
            ],
            "label": "740.0",
            "method": "animate"
           },
           {
            "args": [
             [
              "750.0"
             ],
             {
              "frame": {
               "duration": 0,
               "redraw": false
              },
              "fromcurrent": true,
              "mode": "immediate",
              "transition": {
               "duration": 0,
               "easing": "linear"
              }
             }
            ],
            "label": "750.0",
            "method": "animate"
           },
           {
            "args": [
             [
              "760.0"
             ],
             {
              "frame": {
               "duration": 0,
               "redraw": false
              },
              "fromcurrent": true,
              "mode": "immediate",
              "transition": {
               "duration": 0,
               "easing": "linear"
              }
             }
            ],
            "label": "760.0",
            "method": "animate"
           },
           {
            "args": [
             [
              "770.0"
             ],
             {
              "frame": {
               "duration": 0,
               "redraw": false
              },
              "fromcurrent": true,
              "mode": "immediate",
              "transition": {
               "duration": 0,
               "easing": "linear"
              }
             }
            ],
            "label": "770.0",
            "method": "animate"
           },
           {
            "args": [
             [
              "780.0"
             ],
             {
              "frame": {
               "duration": 0,
               "redraw": false
              },
              "fromcurrent": true,
              "mode": "immediate",
              "transition": {
               "duration": 0,
               "easing": "linear"
              }
             }
            ],
            "label": "780.0",
            "method": "animate"
           }
          ],
          "x": 0.1,
          "xanchor": "left",
          "y": 0,
          "yanchor": "top"
         }
        ],
        "template": {
         "data": {
          "bar": [
           {
            "error_x": {
             "color": "#2a3f5f"
            },
            "error_y": {
             "color": "#2a3f5f"
            },
            "marker": {
             "line": {
              "color": "white",
              "width": 0.5
             }
            },
            "type": "bar"
           }
          ],
          "barpolar": [
           {
            "marker": {
             "line": {
              "color": "white",
              "width": 0.5
             }
            },
            "type": "barpolar"
           }
          ],
          "carpet": [
           {
            "aaxis": {
             "endlinecolor": "#2a3f5f",
             "gridcolor": "#C8D4E3",
             "linecolor": "#C8D4E3",
             "minorgridcolor": "#C8D4E3",
             "startlinecolor": "#2a3f5f"
            },
            "baxis": {
             "endlinecolor": "#2a3f5f",
             "gridcolor": "#C8D4E3",
             "linecolor": "#C8D4E3",
             "minorgridcolor": "#C8D4E3",
             "startlinecolor": "#2a3f5f"
            },
            "type": "carpet"
           }
          ],
          "choropleth": [
           {
            "colorbar": {
             "outlinewidth": 0,
             "ticks": ""
            },
            "type": "choropleth"
           }
          ],
          "contour": [
           {
            "colorbar": {
             "outlinewidth": 0,
             "ticks": ""
            },
            "colorscale": [
             [
              0,
              "#0d0887"
             ],
             [
              0.1111111111111111,
              "#46039f"
             ],
             [
              0.2222222222222222,
              "#7201a8"
             ],
             [
              0.3333333333333333,
              "#9c179e"
             ],
             [
              0.4444444444444444,
              "#bd3786"
             ],
             [
              0.5555555555555556,
              "#d8576b"
             ],
             [
              0.6666666666666666,
              "#ed7953"
             ],
             [
              0.7777777777777778,
              "#fb9f3a"
             ],
             [
              0.8888888888888888,
              "#fdca26"
             ],
             [
              1,
              "#f0f921"
             ]
            ],
            "type": "contour"
           }
          ],
          "contourcarpet": [
           {
            "colorbar": {
             "outlinewidth": 0,
             "ticks": ""
            },
            "type": "contourcarpet"
           }
          ],
          "heatmap": [
           {
            "colorbar": {
             "outlinewidth": 0,
             "ticks": ""
            },
            "colorscale": [
             [
              0,
              "#0d0887"
             ],
             [
              0.1111111111111111,
              "#46039f"
             ],
             [
              0.2222222222222222,
              "#7201a8"
             ],
             [
              0.3333333333333333,
              "#9c179e"
             ],
             [
              0.4444444444444444,
              "#bd3786"
             ],
             [
              0.5555555555555556,
              "#d8576b"
             ],
             [
              0.6666666666666666,
              "#ed7953"
             ],
             [
              0.7777777777777778,
              "#fb9f3a"
             ],
             [
              0.8888888888888888,
              "#fdca26"
             ],
             [
              1,
              "#f0f921"
             ]
            ],
            "type": "heatmap"
           }
          ],
          "heatmapgl": [
           {
            "colorbar": {
             "outlinewidth": 0,
             "ticks": ""
            },
            "colorscale": [
             [
              0,
              "#0d0887"
             ],
             [
              0.1111111111111111,
              "#46039f"
             ],
             [
              0.2222222222222222,
              "#7201a8"
             ],
             [
              0.3333333333333333,
              "#9c179e"
             ],
             [
              0.4444444444444444,
              "#bd3786"
             ],
             [
              0.5555555555555556,
              "#d8576b"
             ],
             [
              0.6666666666666666,
              "#ed7953"
             ],
             [
              0.7777777777777778,
              "#fb9f3a"
             ],
             [
              0.8888888888888888,
              "#fdca26"
             ],
             [
              1,
              "#f0f921"
             ]
            ],
            "type": "heatmapgl"
           }
          ],
          "histogram": [
           {
            "marker": {
             "colorbar": {
              "outlinewidth": 0,
              "ticks": ""
             }
            },
            "type": "histogram"
           }
          ],
          "histogram2d": [
           {
            "colorbar": {
             "outlinewidth": 0,
             "ticks": ""
            },
            "colorscale": [
             [
              0,
              "#0d0887"
             ],
             [
              0.1111111111111111,
              "#46039f"
             ],
             [
              0.2222222222222222,
              "#7201a8"
             ],
             [
              0.3333333333333333,
              "#9c179e"
             ],
             [
              0.4444444444444444,
              "#bd3786"
             ],
             [
              0.5555555555555556,
              "#d8576b"
             ],
             [
              0.6666666666666666,
              "#ed7953"
             ],
             [
              0.7777777777777778,
              "#fb9f3a"
             ],
             [
              0.8888888888888888,
              "#fdca26"
             ],
             [
              1,
              "#f0f921"
             ]
            ],
            "type": "histogram2d"
           }
          ],
          "histogram2dcontour": [
           {
            "colorbar": {
             "outlinewidth": 0,
             "ticks": ""
            },
            "colorscale": [
             [
              0,
              "#0d0887"
             ],
             [
              0.1111111111111111,
              "#46039f"
             ],
             [
              0.2222222222222222,
              "#7201a8"
             ],
             [
              0.3333333333333333,
              "#9c179e"
             ],
             [
              0.4444444444444444,
              "#bd3786"
             ],
             [
              0.5555555555555556,
              "#d8576b"
             ],
             [
              0.6666666666666666,
              "#ed7953"
             ],
             [
              0.7777777777777778,
              "#fb9f3a"
             ],
             [
              0.8888888888888888,
              "#fdca26"
             ],
             [
              1,
              "#f0f921"
             ]
            ],
            "type": "histogram2dcontour"
           }
          ],
          "mesh3d": [
           {
            "colorbar": {
             "outlinewidth": 0,
             "ticks": ""
            },
            "type": "mesh3d"
           }
          ],
          "parcoords": [
           {
            "line": {
             "colorbar": {
              "outlinewidth": 0,
              "ticks": ""
             }
            },
            "type": "parcoords"
           }
          ],
          "pie": [
           {
            "automargin": true,
            "type": "pie"
           }
          ],
          "scatter": [
           {
            "marker": {
             "colorbar": {
              "outlinewidth": 0,
              "ticks": ""
             }
            },
            "type": "scatter"
           }
          ],
          "scatter3d": [
           {
            "line": {
             "colorbar": {
              "outlinewidth": 0,
              "ticks": ""
             }
            },
            "marker": {
             "colorbar": {
              "outlinewidth": 0,
              "ticks": ""
             }
            },
            "type": "scatter3d"
           }
          ],
          "scattercarpet": [
           {
            "marker": {
             "colorbar": {
              "outlinewidth": 0,
              "ticks": ""
             }
            },
            "type": "scattercarpet"
           }
          ],
          "scattergeo": [
           {
            "marker": {
             "colorbar": {
              "outlinewidth": 0,
              "ticks": ""
             }
            },
            "type": "scattergeo"
           }
          ],
          "scattergl": [
           {
            "marker": {
             "colorbar": {
              "outlinewidth": 0,
              "ticks": ""
             }
            },
            "type": "scattergl"
           }
          ],
          "scattermapbox": [
           {
            "marker": {
             "colorbar": {
              "outlinewidth": 0,
              "ticks": ""
             }
            },
            "type": "scattermapbox"
           }
          ],
          "scatterpolar": [
           {
            "marker": {
             "colorbar": {
              "outlinewidth": 0,
              "ticks": ""
             }
            },
            "type": "scatterpolar"
           }
          ],
          "scatterpolargl": [
           {
            "marker": {
             "colorbar": {
              "outlinewidth": 0,
              "ticks": ""
             }
            },
            "type": "scatterpolargl"
           }
          ],
          "scatterternary": [
           {
            "marker": {
             "colorbar": {
              "outlinewidth": 0,
              "ticks": ""
             }
            },
            "type": "scatterternary"
           }
          ],
          "surface": [
           {
            "colorbar": {
             "outlinewidth": 0,
             "ticks": ""
            },
            "colorscale": [
             [
              0,
              "#0d0887"
             ],
             [
              0.1111111111111111,
              "#46039f"
             ],
             [
              0.2222222222222222,
              "#7201a8"
             ],
             [
              0.3333333333333333,
              "#9c179e"
             ],
             [
              0.4444444444444444,
              "#bd3786"
             ],
             [
              0.5555555555555556,
              "#d8576b"
             ],
             [
              0.6666666666666666,
              "#ed7953"
             ],
             [
              0.7777777777777778,
              "#fb9f3a"
             ],
             [
              0.8888888888888888,
              "#fdca26"
             ],
             [
              1,
              "#f0f921"
             ]
            ],
            "type": "surface"
           }
          ],
          "table": [
           {
            "cells": {
             "fill": {
              "color": "#EBF0F8"
             },
             "line": {
              "color": "white"
             }
            },
            "header": {
             "fill": {
              "color": "#C8D4E3"
             },
             "line": {
              "color": "white"
             }
            },
            "type": "table"
           }
          ]
         },
         "layout": {
          "annotationdefaults": {
           "arrowcolor": "#2a3f5f",
           "arrowhead": 0,
           "arrowwidth": 1
          },
          "coloraxis": {
           "colorbar": {
            "outlinewidth": 0,
            "ticks": ""
           }
          },
          "colorscale": {
           "diverging": [
            [
             0,
             "#8e0152"
            ],
            [
             0.1,
             "#c51b7d"
            ],
            [
             0.2,
             "#de77ae"
            ],
            [
             0.3,
             "#f1b6da"
            ],
            [
             0.4,
             "#fde0ef"
            ],
            [
             0.5,
             "#f7f7f7"
            ],
            [
             0.6,
             "#e6f5d0"
            ],
            [
             0.7,
             "#b8e186"
            ],
            [
             0.8,
             "#7fbc41"
            ],
            [
             0.9,
             "#4d9221"
            ],
            [
             1,
             "#276419"
            ]
           ],
           "sequential": [
            [
             0,
             "#0d0887"
            ],
            [
             0.1111111111111111,
             "#46039f"
            ],
            [
             0.2222222222222222,
             "#7201a8"
            ],
            [
             0.3333333333333333,
             "#9c179e"
            ],
            [
             0.4444444444444444,
             "#bd3786"
            ],
            [
             0.5555555555555556,
             "#d8576b"
            ],
            [
             0.6666666666666666,
             "#ed7953"
            ],
            [
             0.7777777777777778,
             "#fb9f3a"
            ],
            [
             0.8888888888888888,
             "#fdca26"
            ],
            [
             1,
             "#f0f921"
            ]
           ],
           "sequentialminus": [
            [
             0,
             "#0d0887"
            ],
            [
             0.1111111111111111,
             "#46039f"
            ],
            [
             0.2222222222222222,
             "#7201a8"
            ],
            [
             0.3333333333333333,
             "#9c179e"
            ],
            [
             0.4444444444444444,
             "#bd3786"
            ],
            [
             0.5555555555555556,
             "#d8576b"
            ],
            [
             0.6666666666666666,
             "#ed7953"
            ],
            [
             0.7777777777777778,
             "#fb9f3a"
            ],
            [
             0.8888888888888888,
             "#fdca26"
            ],
            [
             1,
             "#f0f921"
            ]
           ]
          },
          "colorway": [
           "#636efa",
           "#EF553B",
           "#00cc96",
           "#ab63fa",
           "#FFA15A",
           "#19d3f3",
           "#FF6692",
           "#B6E880",
           "#FF97FF",
           "#FECB52"
          ],
          "font": {
           "color": "#2a3f5f"
          },
          "geo": {
           "bgcolor": "white",
           "lakecolor": "white",
           "landcolor": "white",
           "showlakes": true,
           "showland": true,
           "subunitcolor": "#C8D4E3"
          },
          "hoverlabel": {
           "align": "left"
          },
          "hovermode": "closest",
          "mapbox": {
           "style": "light"
          },
          "paper_bgcolor": "white",
          "plot_bgcolor": "white",
          "polar": {
           "angularaxis": {
            "gridcolor": "#EBF0F8",
            "linecolor": "#EBF0F8",
            "ticks": ""
           },
           "bgcolor": "white",
           "radialaxis": {
            "gridcolor": "#EBF0F8",
            "linecolor": "#EBF0F8",
            "ticks": ""
           }
          },
          "scene": {
           "xaxis": {
            "backgroundcolor": "white",
            "gridcolor": "#DFE8F3",
            "gridwidth": 2,
            "linecolor": "#EBF0F8",
            "showbackground": true,
            "ticks": "",
            "zerolinecolor": "#EBF0F8"
           },
           "yaxis": {
            "backgroundcolor": "white",
            "gridcolor": "#DFE8F3",
            "gridwidth": 2,
            "linecolor": "#EBF0F8",
            "showbackground": true,
            "ticks": "",
            "zerolinecolor": "#EBF0F8"
           },
           "zaxis": {
            "backgroundcolor": "white",
            "gridcolor": "#DFE8F3",
            "gridwidth": 2,
            "linecolor": "#EBF0F8",
            "showbackground": true,
            "ticks": "",
            "zerolinecolor": "#EBF0F8"
           }
          },
          "shapedefaults": {
           "line": {
            "color": "#2a3f5f"
           }
          },
          "ternary": {
           "aaxis": {
            "gridcolor": "#DFE8F3",
            "linecolor": "#A2B1C6",
            "ticks": ""
           },
           "baxis": {
            "gridcolor": "#DFE8F3",
            "linecolor": "#A2B1C6",
            "ticks": ""
           },
           "bgcolor": "white",
           "caxis": {
            "gridcolor": "#DFE8F3",
            "linecolor": "#A2B1C6",
            "ticks": ""
           }
          },
          "title": {
           "x": 0.05
          },
          "xaxis": {
           "automargin": true,
           "gridcolor": "#EBF0F8",
           "linecolor": "#EBF0F8",
           "ticks": "",
           "title": {
            "standoff": 15
           },
           "zerolinecolor": "#EBF0F8",
           "zerolinewidth": 2
          },
          "yaxis": {
           "automargin": true,
           "gridcolor": "#EBF0F8",
           "linecolor": "#EBF0F8",
           "ticks": "",
           "title": {
            "standoff": 15
           },
           "zerolinecolor": "#EBF0F8",
           "zerolinewidth": 2
          }
         }
        },
        "title": {
         "text": "Animation Preview"
        },
        "updatemenus": [
         {
          "buttons": [
           {
            "args": [
             null,
             {
              "frame": {
               "duration": 500,
               "redraw": false
              },
              "fromcurrent": true,
              "mode": "immediate",
              "transition": {
               "duration": 500,
               "easing": "linear"
              }
             }
            ],
            "label": "&#9654;",
            "method": "animate"
           },
           {
            "args": [
             [
              null
             ],
             {
              "frame": {
               "duration": 0,
               "redraw": false
              },
              "fromcurrent": true,
              "mode": "immediate",
              "transition": {
               "duration": 0,
               "easing": "linear"
              }
             }
            ],
            "label": "&#9724;",
            "method": "animate"
           }
          ],
          "direction": "left",
          "pad": {
           "r": 10,
           "t": 70
          },
          "showactive": false,
          "type": "buttons",
          "x": 0.1,
          "xanchor": "right",
          "y": 0,
          "yanchor": "top"
         }
        ],
        "xaxis": {
         "anchor": "y",
         "domain": [
          0,
          1
         ],
         "range": [
          -600,
          600
         ],
         "title": {
          "text": "x"
         }
        },
        "yaxis": {
         "anchor": "x",
         "domain": [
          0,
          1
         ],
         "range": [
          -250,
          150
         ],
         "title": {
          "text": "y"
         }
        }
       }
      },
      "text/html": [
       "<div>                            <div id=\"00118548-331f-4073-a1eb-52847bb4916f\" class=\"plotly-graph-div\" style=\"height:525px; width:100%;\"></div>            <script type=\"text/javascript\">                require([\"plotly\"], function(Plotly) {                    window.PLOTLYENV=window.PLOTLYENV || {};                                    if (document.getElementById(\"00118548-331f-4073-a1eb-52847bb4916f\")) {                    Plotly.newPlot(                        \"00118548-331f-4073-a1eb-52847bb4916f\",                        [{\"hovertemplate\": \"<b>%{hovertext}</b><br><br>f=0.0<br>x=%{x}<br>y=%{y}<extra></extra>\", \"hovertext\": [1.0, 2.0], \"ids\": [1.0, 2.0], \"legendgroup\": \"\", \"marker\": {\"color\": \"#636efa\", \"symbol\": \"circle\"}, \"mode\": \"markers\", \"name\": \"\", \"orientation\": \"v\", \"showlegend\": false, \"type\": \"scatter\", \"x\": [-219.856, -463.121], \"xaxis\": \"x\", \"y\": [53.1723, -2.1652], \"yaxis\": \"y\"}],                        {\"legend\": {\"tracegroupgap\": 0}, \"sliders\": [{\"active\": 0, \"currentvalue\": {\"prefix\": \"f=\"}, \"len\": 0.9, \"pad\": {\"b\": 10, \"t\": 60}, \"steps\": [{\"args\": [[\"0.0\"], {\"frame\": {\"duration\": 0, \"redraw\": false}, \"fromcurrent\": true, \"mode\": \"immediate\", \"transition\": {\"duration\": 0, \"easing\": \"linear\"}}], \"label\": \"0.0\", \"method\": \"animate\"}, {\"args\": [[\"10.0\"], {\"frame\": {\"duration\": 0, \"redraw\": false}, \"fromcurrent\": true, \"mode\": \"immediate\", \"transition\": {\"duration\": 0, \"easing\": \"linear\"}}], \"label\": \"10.0\", \"method\": \"animate\"}, {\"args\": [[\"20.0\"], {\"frame\": {\"duration\": 0, \"redraw\": false}, \"fromcurrent\": true, \"mode\": \"immediate\", \"transition\": {\"duration\": 0, \"easing\": \"linear\"}}], \"label\": \"20.0\", \"method\": \"animate\"}, {\"args\": [[\"30.0\"], {\"frame\": {\"duration\": 0, \"redraw\": false}, \"fromcurrent\": true, \"mode\": \"immediate\", \"transition\": {\"duration\": 0, \"easing\": \"linear\"}}], \"label\": \"30.0\", \"method\": \"animate\"}, {\"args\": [[\"40.0\"], {\"frame\": {\"duration\": 0, \"redraw\": false}, \"fromcurrent\": true, \"mode\": \"immediate\", \"transition\": {\"duration\": 0, \"easing\": \"linear\"}}], \"label\": \"40.0\", \"method\": \"animate\"}, {\"args\": [[\"50.0\"], {\"frame\": {\"duration\": 0, \"redraw\": false}, \"fromcurrent\": true, \"mode\": \"immediate\", \"transition\": {\"duration\": 0, \"easing\": \"linear\"}}], \"label\": \"50.0\", \"method\": \"animate\"}, {\"args\": [[\"60.0\"], {\"frame\": {\"duration\": 0, \"redraw\": false}, \"fromcurrent\": true, \"mode\": \"immediate\", \"transition\": {\"duration\": 0, \"easing\": \"linear\"}}], \"label\": \"60.0\", \"method\": \"animate\"}, {\"args\": [[\"70.0\"], {\"frame\": {\"duration\": 0, \"redraw\": false}, \"fromcurrent\": true, \"mode\": \"immediate\", \"transition\": {\"duration\": 0, \"easing\": \"linear\"}}], \"label\": \"70.0\", \"method\": \"animate\"}, {\"args\": [[\"80.0\"], {\"frame\": {\"duration\": 0, \"redraw\": false}, \"fromcurrent\": true, \"mode\": \"immediate\", \"transition\": {\"duration\": 0, \"easing\": \"linear\"}}], \"label\": \"80.0\", \"method\": \"animate\"}, {\"args\": [[\"90.0\"], {\"frame\": {\"duration\": 0, \"redraw\": false}, \"fromcurrent\": true, \"mode\": \"immediate\", \"transition\": {\"duration\": 0, \"easing\": \"linear\"}}], \"label\": \"90.0\", \"method\": \"animate\"}, {\"args\": [[\"100.0\"], {\"frame\": {\"duration\": 0, \"redraw\": false}, \"fromcurrent\": true, \"mode\": \"immediate\", \"transition\": {\"duration\": 0, \"easing\": \"linear\"}}], \"label\": \"100.0\", \"method\": \"animate\"}, {\"args\": [[\"110.0\"], {\"frame\": {\"duration\": 0, \"redraw\": false}, \"fromcurrent\": true, \"mode\": \"immediate\", \"transition\": {\"duration\": 0, \"easing\": \"linear\"}}], \"label\": \"110.0\", \"method\": \"animate\"}, {\"args\": [[\"120.0\"], {\"frame\": {\"duration\": 0, \"redraw\": false}, \"fromcurrent\": true, \"mode\": \"immediate\", \"transition\": {\"duration\": 0, \"easing\": \"linear\"}}], \"label\": \"120.0\", \"method\": \"animate\"}, {\"args\": [[\"130.0\"], {\"frame\": {\"duration\": 0, \"redraw\": false}, \"fromcurrent\": true, \"mode\": \"immediate\", \"transition\": {\"duration\": 0, \"easing\": \"linear\"}}], \"label\": \"130.0\", \"method\": \"animate\"}, {\"args\": [[\"140.0\"], {\"frame\": {\"duration\": 0, \"redraw\": false}, \"fromcurrent\": true, \"mode\": \"immediate\", \"transition\": {\"duration\": 0, \"easing\": \"linear\"}}], \"label\": \"140.0\", \"method\": \"animate\"}, {\"args\": [[\"150.0\"], {\"frame\": {\"duration\": 0, \"redraw\": false}, \"fromcurrent\": true, \"mode\": \"immediate\", \"transition\": {\"duration\": 0, \"easing\": \"linear\"}}], \"label\": \"150.0\", \"method\": \"animate\"}, {\"args\": [[\"160.0\"], {\"frame\": {\"duration\": 0, \"redraw\": false}, \"fromcurrent\": true, \"mode\": \"immediate\", \"transition\": {\"duration\": 0, \"easing\": \"linear\"}}], \"label\": \"160.0\", \"method\": \"animate\"}, {\"args\": [[\"170.0\"], {\"frame\": {\"duration\": 0, \"redraw\": false}, \"fromcurrent\": true, \"mode\": \"immediate\", \"transition\": {\"duration\": 0, \"easing\": \"linear\"}}], \"label\": \"170.0\", \"method\": \"animate\"}, {\"args\": [[\"180.0\"], {\"frame\": {\"duration\": 0, \"redraw\": false}, \"fromcurrent\": true, \"mode\": \"immediate\", \"transition\": {\"duration\": 0, \"easing\": \"linear\"}}], \"label\": \"180.0\", \"method\": \"animate\"}, {\"args\": [[\"190.0\"], {\"frame\": {\"duration\": 0, \"redraw\": false}, \"fromcurrent\": true, \"mode\": \"immediate\", \"transition\": {\"duration\": 0, \"easing\": \"linear\"}}], \"label\": \"190.0\", \"method\": \"animate\"}, {\"args\": [[\"200.0\"], {\"frame\": {\"duration\": 0, \"redraw\": false}, \"fromcurrent\": true, \"mode\": \"immediate\", \"transition\": {\"duration\": 0, \"easing\": \"linear\"}}], \"label\": \"200.0\", \"method\": \"animate\"}, {\"args\": [[\"210.0\"], {\"frame\": {\"duration\": 0, \"redraw\": false}, \"fromcurrent\": true, \"mode\": \"immediate\", \"transition\": {\"duration\": 0, \"easing\": \"linear\"}}], \"label\": \"210.0\", \"method\": \"animate\"}, {\"args\": [[\"220.0\"], {\"frame\": {\"duration\": 0, \"redraw\": false}, \"fromcurrent\": true, \"mode\": \"immediate\", \"transition\": {\"duration\": 0, \"easing\": \"linear\"}}], \"label\": \"220.0\", \"method\": \"animate\"}, {\"args\": [[\"230.0\"], {\"frame\": {\"duration\": 0, \"redraw\": false}, \"fromcurrent\": true, \"mode\": \"immediate\", \"transition\": {\"duration\": 0, \"easing\": \"linear\"}}], \"label\": \"230.0\", \"method\": \"animate\"}, {\"args\": [[\"240.0\"], {\"frame\": {\"duration\": 0, \"redraw\": false}, \"fromcurrent\": true, \"mode\": \"immediate\", \"transition\": {\"duration\": 0, \"easing\": \"linear\"}}], \"label\": \"240.0\", \"method\": \"animate\"}, {\"args\": [[\"250.0\"], {\"frame\": {\"duration\": 0, \"redraw\": false}, \"fromcurrent\": true, \"mode\": \"immediate\", \"transition\": {\"duration\": 0, \"easing\": \"linear\"}}], \"label\": \"250.0\", \"method\": \"animate\"}, {\"args\": [[\"260.0\"], {\"frame\": {\"duration\": 0, \"redraw\": false}, \"fromcurrent\": true, \"mode\": \"immediate\", \"transition\": {\"duration\": 0, \"easing\": \"linear\"}}], \"label\": \"260.0\", \"method\": \"animate\"}, {\"args\": [[\"270.0\"], {\"frame\": {\"duration\": 0, \"redraw\": false}, \"fromcurrent\": true, \"mode\": \"immediate\", \"transition\": {\"duration\": 0, \"easing\": \"linear\"}}], \"label\": \"270.0\", \"method\": \"animate\"}, {\"args\": [[\"280.0\"], {\"frame\": {\"duration\": 0, \"redraw\": false}, \"fromcurrent\": true, \"mode\": \"immediate\", \"transition\": {\"duration\": 0, \"easing\": \"linear\"}}], \"label\": \"280.0\", \"method\": \"animate\"}, {\"args\": [[\"290.0\"], {\"frame\": {\"duration\": 0, \"redraw\": false}, \"fromcurrent\": true, \"mode\": \"immediate\", \"transition\": {\"duration\": 0, \"easing\": \"linear\"}}], \"label\": \"290.0\", \"method\": \"animate\"}, {\"args\": [[\"300.0\"], {\"frame\": {\"duration\": 0, \"redraw\": false}, \"fromcurrent\": true, \"mode\": \"immediate\", \"transition\": {\"duration\": 0, \"easing\": \"linear\"}}], \"label\": \"300.0\", \"method\": \"animate\"}, {\"args\": [[\"310.0\"], {\"frame\": {\"duration\": 0, \"redraw\": false}, \"fromcurrent\": true, \"mode\": \"immediate\", \"transition\": {\"duration\": 0, \"easing\": \"linear\"}}], \"label\": \"310.0\", \"method\": \"animate\"}, {\"args\": [[\"320.0\"], {\"frame\": {\"duration\": 0, \"redraw\": false}, \"fromcurrent\": true, \"mode\": \"immediate\", \"transition\": {\"duration\": 0, \"easing\": \"linear\"}}], \"label\": \"320.0\", \"method\": \"animate\"}, {\"args\": [[\"330.0\"], {\"frame\": {\"duration\": 0, \"redraw\": false}, \"fromcurrent\": true, \"mode\": \"immediate\", \"transition\": {\"duration\": 0, \"easing\": \"linear\"}}], \"label\": \"330.0\", \"method\": \"animate\"}, {\"args\": [[\"340.0\"], {\"frame\": {\"duration\": 0, \"redraw\": false}, \"fromcurrent\": true, \"mode\": \"immediate\", \"transition\": {\"duration\": 0, \"easing\": \"linear\"}}], \"label\": \"340.0\", \"method\": \"animate\"}, {\"args\": [[\"350.0\"], {\"frame\": {\"duration\": 0, \"redraw\": false}, \"fromcurrent\": true, \"mode\": \"immediate\", \"transition\": {\"duration\": 0, \"easing\": \"linear\"}}], \"label\": \"350.0\", \"method\": \"animate\"}, {\"args\": [[\"360.0\"], {\"frame\": {\"duration\": 0, \"redraw\": false}, \"fromcurrent\": true, \"mode\": \"immediate\", \"transition\": {\"duration\": 0, \"easing\": \"linear\"}}], \"label\": \"360.0\", \"method\": \"animate\"}, {\"args\": [[\"370.0\"], {\"frame\": {\"duration\": 0, \"redraw\": false}, \"fromcurrent\": true, \"mode\": \"immediate\", \"transition\": {\"duration\": 0, \"easing\": \"linear\"}}], \"label\": \"370.0\", \"method\": \"animate\"}, {\"args\": [[\"380.0\"], {\"frame\": {\"duration\": 0, \"redraw\": false}, \"fromcurrent\": true, \"mode\": \"immediate\", \"transition\": {\"duration\": 0, \"easing\": \"linear\"}}], \"label\": \"380.0\", \"method\": \"animate\"}, {\"args\": [[\"390.0\"], {\"frame\": {\"duration\": 0, \"redraw\": false}, \"fromcurrent\": true, \"mode\": \"immediate\", \"transition\": {\"duration\": 0, \"easing\": \"linear\"}}], \"label\": \"390.0\", \"method\": \"animate\"}, {\"args\": [[\"400.0\"], {\"frame\": {\"duration\": 0, \"redraw\": false}, \"fromcurrent\": true, \"mode\": \"immediate\", \"transition\": {\"duration\": 0, \"easing\": \"linear\"}}], \"label\": \"400.0\", \"method\": \"animate\"}, {\"args\": [[\"410.0\"], {\"frame\": {\"duration\": 0, \"redraw\": false}, \"fromcurrent\": true, \"mode\": \"immediate\", \"transition\": {\"duration\": 0, \"easing\": \"linear\"}}], \"label\": \"410.0\", \"method\": \"animate\"}, {\"args\": [[\"420.0\"], {\"frame\": {\"duration\": 0, \"redraw\": false}, \"fromcurrent\": true, \"mode\": \"immediate\", \"transition\": {\"duration\": 0, \"easing\": \"linear\"}}], \"label\": \"420.0\", \"method\": \"animate\"}, {\"args\": [[\"430.0\"], {\"frame\": {\"duration\": 0, \"redraw\": false}, \"fromcurrent\": true, \"mode\": \"immediate\", \"transition\": {\"duration\": 0, \"easing\": \"linear\"}}], \"label\": \"430.0\", \"method\": \"animate\"}, {\"args\": [[\"440.0\"], {\"frame\": {\"duration\": 0, \"redraw\": false}, \"fromcurrent\": true, \"mode\": \"immediate\", \"transition\": {\"duration\": 0, \"easing\": \"linear\"}}], \"label\": \"440.0\", \"method\": \"animate\"}, {\"args\": [[\"450.0\"], {\"frame\": {\"duration\": 0, \"redraw\": false}, \"fromcurrent\": true, \"mode\": \"immediate\", \"transition\": {\"duration\": 0, \"easing\": \"linear\"}}], \"label\": \"450.0\", \"method\": \"animate\"}, {\"args\": [[\"460.0\"], {\"frame\": {\"duration\": 0, \"redraw\": false}, \"fromcurrent\": true, \"mode\": \"immediate\", \"transition\": {\"duration\": 0, \"easing\": \"linear\"}}], \"label\": \"460.0\", \"method\": \"animate\"}, {\"args\": [[\"470.0\"], {\"frame\": {\"duration\": 0, \"redraw\": false}, \"fromcurrent\": true, \"mode\": \"immediate\", \"transition\": {\"duration\": 0, \"easing\": \"linear\"}}], \"label\": \"470.0\", \"method\": \"animate\"}, {\"args\": [[\"480.0\"], {\"frame\": {\"duration\": 0, \"redraw\": false}, \"fromcurrent\": true, \"mode\": \"immediate\", \"transition\": {\"duration\": 0, \"easing\": \"linear\"}}], \"label\": \"480.0\", \"method\": \"animate\"}, {\"args\": [[\"490.0\"], {\"frame\": {\"duration\": 0, \"redraw\": false}, \"fromcurrent\": true, \"mode\": \"immediate\", \"transition\": {\"duration\": 0, \"easing\": \"linear\"}}], \"label\": \"490.0\", \"method\": \"animate\"}, {\"args\": [[\"500.0\"], {\"frame\": {\"duration\": 0, \"redraw\": false}, \"fromcurrent\": true, \"mode\": \"immediate\", \"transition\": {\"duration\": 0, \"easing\": \"linear\"}}], \"label\": \"500.0\", \"method\": \"animate\"}, {\"args\": [[\"510.0\"], {\"frame\": {\"duration\": 0, \"redraw\": false}, \"fromcurrent\": true, \"mode\": \"immediate\", \"transition\": {\"duration\": 0, \"easing\": \"linear\"}}], \"label\": \"510.0\", \"method\": \"animate\"}, {\"args\": [[\"520.0\"], {\"frame\": {\"duration\": 0, \"redraw\": false}, \"fromcurrent\": true, \"mode\": \"immediate\", \"transition\": {\"duration\": 0, \"easing\": \"linear\"}}], \"label\": \"520.0\", \"method\": \"animate\"}, {\"args\": [[\"530.0\"], {\"frame\": {\"duration\": 0, \"redraw\": false}, \"fromcurrent\": true, \"mode\": \"immediate\", \"transition\": {\"duration\": 0, \"easing\": \"linear\"}}], \"label\": \"530.0\", \"method\": \"animate\"}, {\"args\": [[\"540.0\"], {\"frame\": {\"duration\": 0, \"redraw\": false}, \"fromcurrent\": true, \"mode\": \"immediate\", \"transition\": {\"duration\": 0, \"easing\": \"linear\"}}], \"label\": \"540.0\", \"method\": \"animate\"}, {\"args\": [[\"550.0\"], {\"frame\": {\"duration\": 0, \"redraw\": false}, \"fromcurrent\": true, \"mode\": \"immediate\", \"transition\": {\"duration\": 0, \"easing\": \"linear\"}}], \"label\": \"550.0\", \"method\": \"animate\"}, {\"args\": [[\"560.0\"], {\"frame\": {\"duration\": 0, \"redraw\": false}, \"fromcurrent\": true, \"mode\": \"immediate\", \"transition\": {\"duration\": 0, \"easing\": \"linear\"}}], \"label\": \"560.0\", \"method\": \"animate\"}, {\"args\": [[\"570.0\"], {\"frame\": {\"duration\": 0, \"redraw\": false}, \"fromcurrent\": true, \"mode\": \"immediate\", \"transition\": {\"duration\": 0, \"easing\": \"linear\"}}], \"label\": \"570.0\", \"method\": \"animate\"}, {\"args\": [[\"580.0\"], {\"frame\": {\"duration\": 0, \"redraw\": false}, \"fromcurrent\": true, \"mode\": \"immediate\", \"transition\": {\"duration\": 0, \"easing\": \"linear\"}}], \"label\": \"580.0\", \"method\": \"animate\"}, {\"args\": [[\"590.0\"], {\"frame\": {\"duration\": 0, \"redraw\": false}, \"fromcurrent\": true, \"mode\": \"immediate\", \"transition\": {\"duration\": 0, \"easing\": \"linear\"}}], \"label\": \"590.0\", \"method\": \"animate\"}, {\"args\": [[\"600.0\"], {\"frame\": {\"duration\": 0, \"redraw\": false}, \"fromcurrent\": true, \"mode\": \"immediate\", \"transition\": {\"duration\": 0, \"easing\": \"linear\"}}], \"label\": \"600.0\", \"method\": \"animate\"}, {\"args\": [[\"610.0\"], {\"frame\": {\"duration\": 0, \"redraw\": false}, \"fromcurrent\": true, \"mode\": \"immediate\", \"transition\": {\"duration\": 0, \"easing\": \"linear\"}}], \"label\": \"610.0\", \"method\": \"animate\"}, {\"args\": [[\"620.0\"], {\"frame\": {\"duration\": 0, \"redraw\": false}, \"fromcurrent\": true, \"mode\": \"immediate\", \"transition\": {\"duration\": 0, \"easing\": \"linear\"}}], \"label\": \"620.0\", \"method\": \"animate\"}, {\"args\": [[\"630.0\"], {\"frame\": {\"duration\": 0, \"redraw\": false}, \"fromcurrent\": true, \"mode\": \"immediate\", \"transition\": {\"duration\": 0, \"easing\": \"linear\"}}], \"label\": \"630.0\", \"method\": \"animate\"}, {\"args\": [[\"640.0\"], {\"frame\": {\"duration\": 0, \"redraw\": false}, \"fromcurrent\": true, \"mode\": \"immediate\", \"transition\": {\"duration\": 0, \"easing\": \"linear\"}}], \"label\": \"640.0\", \"method\": \"animate\"}, {\"args\": [[\"650.0\"], {\"frame\": {\"duration\": 0, \"redraw\": false}, \"fromcurrent\": true, \"mode\": \"immediate\", \"transition\": {\"duration\": 0, \"easing\": \"linear\"}}], \"label\": \"650.0\", \"method\": \"animate\"}, {\"args\": [[\"660.0\"], {\"frame\": {\"duration\": 0, \"redraw\": false}, \"fromcurrent\": true, \"mode\": \"immediate\", \"transition\": {\"duration\": 0, \"easing\": \"linear\"}}], \"label\": \"660.0\", \"method\": \"animate\"}, {\"args\": [[\"670.0\"], {\"frame\": {\"duration\": 0, \"redraw\": false}, \"fromcurrent\": true, \"mode\": \"immediate\", \"transition\": {\"duration\": 0, \"easing\": \"linear\"}}], \"label\": \"670.0\", \"method\": \"animate\"}, {\"args\": [[\"680.0\"], {\"frame\": {\"duration\": 0, \"redraw\": false}, \"fromcurrent\": true, \"mode\": \"immediate\", \"transition\": {\"duration\": 0, \"easing\": \"linear\"}}], \"label\": \"680.0\", \"method\": \"animate\"}, {\"args\": [[\"690.0\"], {\"frame\": {\"duration\": 0, \"redraw\": false}, \"fromcurrent\": true, \"mode\": \"immediate\", \"transition\": {\"duration\": 0, \"easing\": \"linear\"}}], \"label\": \"690.0\", \"method\": \"animate\"}, {\"args\": [[\"700.0\"], {\"frame\": {\"duration\": 0, \"redraw\": false}, \"fromcurrent\": true, \"mode\": \"immediate\", \"transition\": {\"duration\": 0, \"easing\": \"linear\"}}], \"label\": \"700.0\", \"method\": \"animate\"}, {\"args\": [[\"710.0\"], {\"frame\": {\"duration\": 0, \"redraw\": false}, \"fromcurrent\": true, \"mode\": \"immediate\", \"transition\": {\"duration\": 0, \"easing\": \"linear\"}}], \"label\": \"710.0\", \"method\": \"animate\"}, {\"args\": [[\"720.0\"], {\"frame\": {\"duration\": 0, \"redraw\": false}, \"fromcurrent\": true, \"mode\": \"immediate\", \"transition\": {\"duration\": 0, \"easing\": \"linear\"}}], \"label\": \"720.0\", \"method\": \"animate\"}, {\"args\": [[\"730.0\"], {\"frame\": {\"duration\": 0, \"redraw\": false}, \"fromcurrent\": true, \"mode\": \"immediate\", \"transition\": {\"duration\": 0, \"easing\": \"linear\"}}], \"label\": \"730.0\", \"method\": \"animate\"}, {\"args\": [[\"740.0\"], {\"frame\": {\"duration\": 0, \"redraw\": false}, \"fromcurrent\": true, \"mode\": \"immediate\", \"transition\": {\"duration\": 0, \"easing\": \"linear\"}}], \"label\": \"740.0\", \"method\": \"animate\"}, {\"args\": [[\"750.0\"], {\"frame\": {\"duration\": 0, \"redraw\": false}, \"fromcurrent\": true, \"mode\": \"immediate\", \"transition\": {\"duration\": 0, \"easing\": \"linear\"}}], \"label\": \"750.0\", \"method\": \"animate\"}, {\"args\": [[\"760.0\"], {\"frame\": {\"duration\": 0, \"redraw\": false}, \"fromcurrent\": true, \"mode\": \"immediate\", \"transition\": {\"duration\": 0, \"easing\": \"linear\"}}], \"label\": \"760.0\", \"method\": \"animate\"}, {\"args\": [[\"770.0\"], {\"frame\": {\"duration\": 0, \"redraw\": false}, \"fromcurrent\": true, \"mode\": \"immediate\", \"transition\": {\"duration\": 0, \"easing\": \"linear\"}}], \"label\": \"770.0\", \"method\": \"animate\"}, {\"args\": [[\"780.0\"], {\"frame\": {\"duration\": 0, \"redraw\": false}, \"fromcurrent\": true, \"mode\": \"immediate\", \"transition\": {\"duration\": 0, \"easing\": \"linear\"}}], \"label\": \"780.0\", \"method\": \"animate\"}], \"x\": 0.1, \"xanchor\": \"left\", \"y\": 0, \"yanchor\": \"top\"}], \"template\": {\"data\": {\"bar\": [{\"error_x\": {\"color\": \"#2a3f5f\"}, \"error_y\": {\"color\": \"#2a3f5f\"}, \"marker\": {\"line\": {\"color\": \"white\", \"width\": 0.5}}, \"type\": \"bar\"}], \"barpolar\": [{\"marker\": {\"line\": {\"color\": \"white\", \"width\": 0.5}}, \"type\": \"barpolar\"}], \"carpet\": [{\"aaxis\": {\"endlinecolor\": \"#2a3f5f\", \"gridcolor\": \"#C8D4E3\", \"linecolor\": \"#C8D4E3\", \"minorgridcolor\": \"#C8D4E3\", \"startlinecolor\": \"#2a3f5f\"}, \"baxis\": {\"endlinecolor\": \"#2a3f5f\", \"gridcolor\": \"#C8D4E3\", \"linecolor\": \"#C8D4E3\", \"minorgridcolor\": \"#C8D4E3\", \"startlinecolor\": \"#2a3f5f\"}, \"type\": \"carpet\"}], \"choropleth\": [{\"colorbar\": {\"outlinewidth\": 0, \"ticks\": \"\"}, \"type\": \"choropleth\"}], \"contour\": [{\"colorbar\": {\"outlinewidth\": 0, \"ticks\": \"\"}, \"colorscale\": [[0.0, \"#0d0887\"], [0.1111111111111111, \"#46039f\"], [0.2222222222222222, \"#7201a8\"], [0.3333333333333333, \"#9c179e\"], [0.4444444444444444, \"#bd3786\"], [0.5555555555555556, \"#d8576b\"], [0.6666666666666666, \"#ed7953\"], [0.7777777777777778, \"#fb9f3a\"], [0.8888888888888888, \"#fdca26\"], [1.0, \"#f0f921\"]], \"type\": \"contour\"}], \"contourcarpet\": [{\"colorbar\": {\"outlinewidth\": 0, \"ticks\": \"\"}, \"type\": \"contourcarpet\"}], \"heatmap\": [{\"colorbar\": {\"outlinewidth\": 0, \"ticks\": \"\"}, \"colorscale\": [[0.0, \"#0d0887\"], [0.1111111111111111, \"#46039f\"], [0.2222222222222222, \"#7201a8\"], [0.3333333333333333, \"#9c179e\"], [0.4444444444444444, \"#bd3786\"], [0.5555555555555556, \"#d8576b\"], [0.6666666666666666, \"#ed7953\"], [0.7777777777777778, \"#fb9f3a\"], [0.8888888888888888, \"#fdca26\"], [1.0, \"#f0f921\"]], \"type\": \"heatmap\"}], \"heatmapgl\": [{\"colorbar\": {\"outlinewidth\": 0, \"ticks\": \"\"}, \"colorscale\": [[0.0, \"#0d0887\"], [0.1111111111111111, \"#46039f\"], [0.2222222222222222, \"#7201a8\"], [0.3333333333333333, \"#9c179e\"], [0.4444444444444444, \"#bd3786\"], [0.5555555555555556, \"#d8576b\"], [0.6666666666666666, \"#ed7953\"], [0.7777777777777778, \"#fb9f3a\"], [0.8888888888888888, \"#fdca26\"], [1.0, \"#f0f921\"]], \"type\": \"heatmapgl\"}], \"histogram\": [{\"marker\": {\"colorbar\": {\"outlinewidth\": 0, \"ticks\": \"\"}}, \"type\": \"histogram\"}], \"histogram2d\": [{\"colorbar\": {\"outlinewidth\": 0, \"ticks\": \"\"}, \"colorscale\": [[0.0, \"#0d0887\"], [0.1111111111111111, \"#46039f\"], [0.2222222222222222, \"#7201a8\"], [0.3333333333333333, \"#9c179e\"], [0.4444444444444444, \"#bd3786\"], [0.5555555555555556, \"#d8576b\"], [0.6666666666666666, \"#ed7953\"], [0.7777777777777778, \"#fb9f3a\"], [0.8888888888888888, \"#fdca26\"], [1.0, \"#f0f921\"]], \"type\": \"histogram2d\"}], \"histogram2dcontour\": [{\"colorbar\": {\"outlinewidth\": 0, \"ticks\": \"\"}, \"colorscale\": [[0.0, \"#0d0887\"], [0.1111111111111111, \"#46039f\"], [0.2222222222222222, \"#7201a8\"], [0.3333333333333333, \"#9c179e\"], [0.4444444444444444, \"#bd3786\"], [0.5555555555555556, \"#d8576b\"], [0.6666666666666666, \"#ed7953\"], [0.7777777777777778, \"#fb9f3a\"], [0.8888888888888888, \"#fdca26\"], [1.0, \"#f0f921\"]], \"type\": \"histogram2dcontour\"}], \"mesh3d\": [{\"colorbar\": {\"outlinewidth\": 0, \"ticks\": \"\"}, \"type\": \"mesh3d\"}], \"parcoords\": [{\"line\": {\"colorbar\": {\"outlinewidth\": 0, \"ticks\": \"\"}}, \"type\": \"parcoords\"}], \"pie\": [{\"automargin\": true, \"type\": \"pie\"}], \"scatter\": [{\"marker\": {\"colorbar\": {\"outlinewidth\": 0, \"ticks\": \"\"}}, \"type\": \"scatter\"}], \"scatter3d\": [{\"line\": {\"colorbar\": {\"outlinewidth\": 0, \"ticks\": \"\"}}, \"marker\": {\"colorbar\": {\"outlinewidth\": 0, \"ticks\": \"\"}}, \"type\": \"scatter3d\"}], \"scattercarpet\": [{\"marker\": {\"colorbar\": {\"outlinewidth\": 0, \"ticks\": \"\"}}, \"type\": \"scattercarpet\"}], \"scattergeo\": [{\"marker\": {\"colorbar\": {\"outlinewidth\": 0, \"ticks\": \"\"}}, \"type\": \"scattergeo\"}], \"scattergl\": [{\"marker\": {\"colorbar\": {\"outlinewidth\": 0, \"ticks\": \"\"}}, \"type\": \"scattergl\"}], \"scattermapbox\": [{\"marker\": {\"colorbar\": {\"outlinewidth\": 0, \"ticks\": \"\"}}, \"type\": \"scattermapbox\"}], \"scatterpolar\": [{\"marker\": {\"colorbar\": {\"outlinewidth\": 0, \"ticks\": \"\"}}, \"type\": \"scatterpolar\"}], \"scatterpolargl\": [{\"marker\": {\"colorbar\": {\"outlinewidth\": 0, \"ticks\": \"\"}}, \"type\": \"scatterpolargl\"}], \"scatterternary\": [{\"marker\": {\"colorbar\": {\"outlinewidth\": 0, \"ticks\": \"\"}}, \"type\": \"scatterternary\"}], \"surface\": [{\"colorbar\": {\"outlinewidth\": 0, \"ticks\": \"\"}, \"colorscale\": [[0.0, \"#0d0887\"], [0.1111111111111111, \"#46039f\"], [0.2222222222222222, \"#7201a8\"], [0.3333333333333333, \"#9c179e\"], [0.4444444444444444, \"#bd3786\"], [0.5555555555555556, \"#d8576b\"], [0.6666666666666666, \"#ed7953\"], [0.7777777777777778, \"#fb9f3a\"], [0.8888888888888888, \"#fdca26\"], [1.0, \"#f0f921\"]], \"type\": \"surface\"}], \"table\": [{\"cells\": {\"fill\": {\"color\": \"#EBF0F8\"}, \"line\": {\"color\": \"white\"}}, \"header\": {\"fill\": {\"color\": \"#C8D4E3\"}, \"line\": {\"color\": \"white\"}}, \"type\": \"table\"}]}, \"layout\": {\"annotationdefaults\": {\"arrowcolor\": \"#2a3f5f\", \"arrowhead\": 0, \"arrowwidth\": 1}, \"coloraxis\": {\"colorbar\": {\"outlinewidth\": 0, \"ticks\": \"\"}}, \"colorscale\": {\"diverging\": [[0, \"#8e0152\"], [0.1, \"#c51b7d\"], [0.2, \"#de77ae\"], [0.3, \"#f1b6da\"], [0.4, \"#fde0ef\"], [0.5, \"#f7f7f7\"], [0.6, \"#e6f5d0\"], [0.7, \"#b8e186\"], [0.8, \"#7fbc41\"], [0.9, \"#4d9221\"], [1, \"#276419\"]], \"sequential\": [[0.0, \"#0d0887\"], [0.1111111111111111, \"#46039f\"], [0.2222222222222222, \"#7201a8\"], [0.3333333333333333, \"#9c179e\"], [0.4444444444444444, \"#bd3786\"], [0.5555555555555556, \"#d8576b\"], [0.6666666666666666, \"#ed7953\"], [0.7777777777777778, \"#fb9f3a\"], [0.8888888888888888, \"#fdca26\"], [1.0, \"#f0f921\"]], \"sequentialminus\": [[0.0, \"#0d0887\"], [0.1111111111111111, \"#46039f\"], [0.2222222222222222, \"#7201a8\"], [0.3333333333333333, \"#9c179e\"], [0.4444444444444444, \"#bd3786\"], [0.5555555555555556, \"#d8576b\"], [0.6666666666666666, \"#ed7953\"], [0.7777777777777778, \"#fb9f3a\"], [0.8888888888888888, \"#fdca26\"], [1.0, \"#f0f921\"]]}, \"colorway\": [\"#636efa\", \"#EF553B\", \"#00cc96\", \"#ab63fa\", \"#FFA15A\", \"#19d3f3\", \"#FF6692\", \"#B6E880\", \"#FF97FF\", \"#FECB52\"], \"font\": {\"color\": \"#2a3f5f\"}, \"geo\": {\"bgcolor\": \"white\", \"lakecolor\": \"white\", \"landcolor\": \"white\", \"showlakes\": true, \"showland\": true, \"subunitcolor\": \"#C8D4E3\"}, \"hoverlabel\": {\"align\": \"left\"}, \"hovermode\": \"closest\", \"mapbox\": {\"style\": \"light\"}, \"paper_bgcolor\": \"white\", \"plot_bgcolor\": \"white\", \"polar\": {\"angularaxis\": {\"gridcolor\": \"#EBF0F8\", \"linecolor\": \"#EBF0F8\", \"ticks\": \"\"}, \"bgcolor\": \"white\", \"radialaxis\": {\"gridcolor\": \"#EBF0F8\", \"linecolor\": \"#EBF0F8\", \"ticks\": \"\"}}, \"scene\": {\"xaxis\": {\"backgroundcolor\": \"white\", \"gridcolor\": \"#DFE8F3\", \"gridwidth\": 2, \"linecolor\": \"#EBF0F8\", \"showbackground\": true, \"ticks\": \"\", \"zerolinecolor\": \"#EBF0F8\"}, \"yaxis\": {\"backgroundcolor\": \"white\", \"gridcolor\": \"#DFE8F3\", \"gridwidth\": 2, \"linecolor\": \"#EBF0F8\", \"showbackground\": true, \"ticks\": \"\", \"zerolinecolor\": \"#EBF0F8\"}, \"zaxis\": {\"backgroundcolor\": \"white\", \"gridcolor\": \"#DFE8F3\", \"gridwidth\": 2, \"linecolor\": \"#EBF0F8\", \"showbackground\": true, \"ticks\": \"\", \"zerolinecolor\": \"#EBF0F8\"}}, \"shapedefaults\": {\"line\": {\"color\": \"#2a3f5f\"}}, \"ternary\": {\"aaxis\": {\"gridcolor\": \"#DFE8F3\", \"linecolor\": \"#A2B1C6\", \"ticks\": \"\"}, \"baxis\": {\"gridcolor\": \"#DFE8F3\", \"linecolor\": \"#A2B1C6\", \"ticks\": \"\"}, \"bgcolor\": \"white\", \"caxis\": {\"gridcolor\": \"#DFE8F3\", \"linecolor\": \"#A2B1C6\", \"ticks\": \"\"}}, \"title\": {\"x\": 0.05}, \"xaxis\": {\"automargin\": true, \"gridcolor\": \"#EBF0F8\", \"linecolor\": \"#EBF0F8\", \"ticks\": \"\", \"title\": {\"standoff\": 15}, \"zerolinecolor\": \"#EBF0F8\", \"zerolinewidth\": 2}, \"yaxis\": {\"automargin\": true, \"gridcolor\": \"#EBF0F8\", \"linecolor\": \"#EBF0F8\", \"ticks\": \"\", \"title\": {\"standoff\": 15}, \"zerolinecolor\": \"#EBF0F8\", \"zerolinewidth\": 2}}}, \"title\": {\"text\": \"Animation Preview\"}, \"updatemenus\": [{\"buttons\": [{\"args\": [null, {\"frame\": {\"duration\": 500, \"redraw\": false}, \"fromcurrent\": true, \"mode\": \"immediate\", \"transition\": {\"duration\": 500, \"easing\": \"linear\"}}], \"label\": \"&#9654;\", \"method\": \"animate\"}, {\"args\": [[null], {\"frame\": {\"duration\": 0, \"redraw\": false}, \"fromcurrent\": true, \"mode\": \"immediate\", \"transition\": {\"duration\": 0, \"easing\": \"linear\"}}], \"label\": \"&#9724;\", \"method\": \"animate\"}], \"direction\": \"left\", \"pad\": {\"r\": 10, \"t\": 70}, \"showactive\": false, \"type\": \"buttons\", \"x\": 0.1, \"xanchor\": \"right\", \"y\": 0, \"yanchor\": \"top\"}], \"xaxis\": {\"anchor\": \"y\", \"domain\": [0.0, 1.0], \"range\": [-600, 600], \"title\": {\"text\": \"x\"}}, \"yaxis\": {\"anchor\": \"x\", \"domain\": [0.0, 1.0], \"range\": [-250, 150], \"title\": {\"text\": \"y\"}}},                        {\"responsive\": true}                    ).then(function(){\n",
       "                            Plotly.addFrames('00118548-331f-4073-a1eb-52847bb4916f', [{\"data\": [{\"hovertemplate\": \"<b>%{hovertext}</b><br><br>f=0.0<br>x=%{x}<br>y=%{y}<extra></extra>\", \"hovertext\": [1.0, 2.0], \"ids\": [1.0, 2.0], \"legendgroup\": \"\", \"marker\": {\"color\": \"#636efa\", \"symbol\": \"circle\"}, \"mode\": \"markers\", \"name\": \"\", \"orientation\": \"v\", \"showlegend\": false, \"x\": [-219.856, -463.121], \"xaxis\": \"x\", \"y\": [53.1723, -2.1652], \"yaxis\": \"y\", \"type\": \"scatter\"}], \"name\": \"0.0\"}, {\"data\": [{\"hovertemplate\": \"<b>%{hovertext}</b><br><br>f=10.0<br>x=%{x}<br>y=%{y}<extra></extra>\", \"hovertext\": [1.0, 2.0], \"ids\": [1.0, 2.0], \"legendgroup\": \"\", \"marker\": {\"color\": \"#636efa\", \"symbol\": \"circle\"}, \"mode\": \"markers\", \"name\": \"\", \"orientation\": \"v\", \"showlegend\": false, \"x\": [-219.002, -463.258], \"xaxis\": \"x\", \"y\": [56.0599, -2.73351], \"yaxis\": \"y\", \"type\": \"scatter\"}], \"name\": \"10.0\"}, {\"data\": [{\"hovertemplate\": \"<b>%{hovertext}</b><br><br>f=20.0<br>x=%{x}<br>y=%{y}<extra></extra>\", \"hovertext\": [1.0, 2.0], \"ids\": [1.0, 2.0], \"legendgroup\": \"\", \"marker\": {\"color\": \"#636efa\", \"symbol\": \"circle\"}, \"mode\": \"markers\", \"name\": \"\", \"orientation\": \"v\", \"showlegend\": false, \"x\": [-209.811, -460.464], \"xaxis\": \"x\", \"y\": [57.72, -1.3776700000000002], \"yaxis\": \"y\", \"type\": \"scatter\"}], \"name\": \"20.0\"}, {\"data\": [{\"hovertemplate\": \"<b>%{hovertext}</b><br><br>f=30.0<br>x=%{x}<br>y=%{y}<extra></extra>\", \"hovertext\": [1.0, 2.0], \"ids\": [1.0, 2.0], \"legendgroup\": \"\", \"marker\": {\"color\": \"#636efa\", \"symbol\": \"circle\"}, \"mode\": \"markers\", \"name\": \"\", \"orientation\": \"v\", \"showlegend\": false, \"x\": [-200.453, -426.294], \"xaxis\": \"x\", \"y\": [64.0043, 11.8722], \"yaxis\": \"y\", \"type\": \"scatter\"}], \"name\": \"30.0\"}, {\"data\": [{\"hovertemplate\": \"<b>%{hovertext}</b><br><br>f=40.0<br>x=%{x}<br>y=%{y}<extra></extra>\", \"hovertext\": [1.0, 3.0, 2.0], \"ids\": [1.0, 3.0, 2.0], \"legendgroup\": \"\", \"marker\": {\"color\": \"#636efa\", \"symbol\": \"circle\"}, \"mode\": \"markers\", \"name\": \"\", \"orientation\": \"v\", \"showlegend\": false, \"x\": [-172.544, -532.141, -350.844], \"xaxis\": \"x\", \"y\": [48.628, -178.764, 31.8592], \"yaxis\": \"y\", \"type\": \"scatter\"}], \"name\": \"40.0\"}, {\"data\": [{\"hovertemplate\": \"<b>%{hovertext}</b><br><br>f=50.0<br>x=%{x}<br>y=%{y}<extra></extra>\", \"hovertext\": [1.0, 3.0, 102.0, 2.0], \"ids\": [1.0, 3.0, 102.0, 2.0], \"legendgroup\": \"\", \"marker\": {\"color\": \"#636efa\", \"symbol\": \"circle\"}, \"mode\": \"markers\", \"name\": \"\", \"orientation\": \"v\", \"showlegend\": false, \"x\": [-103.56, -502.089, -116.29930877685547, -260.094], \"xaxis\": \"x\", \"y\": [53.856, -105.457, 56.27735137939453, 43.9103], \"yaxis\": \"y\", \"type\": \"scatter\"}], \"name\": \"50.0\"}, {\"data\": [{\"hovertemplate\": \"<b>%{hovertext}</b><br><br>f=60.0<br>x=%{x}<br>y=%{y}<extra></extra>\", \"hovertext\": [1.0, 3.0, 4.0, 102.0, 2.0], \"ids\": [1.0, 3.0, 4.0, 102.0, 2.0], \"legendgroup\": \"\", \"marker\": {\"color\": \"#636efa\", \"symbol\": \"circle\"}, \"mode\": \"markers\", \"name\": \"\", \"orientation\": \"v\", \"showlegend\": false, \"x\": [-7.190930000000001, -444.748, -511.128, 135.860107421875, -162.623], \"xaxis\": \"x\", \"y\": [49.9535, -31.5181, -125.977, 57.501461029052734, 51.957], \"yaxis\": \"y\", \"type\": \"scatter\"}], \"name\": \"60.0\"}, {\"data\": [{\"hovertemplate\": \"<b>%{hovertext}</b><br><br>f=70.0<br>x=%{x}<br>y=%{y}<extra></extra>\", \"hovertext\": [1.0, 3.0, 4.0, 102.0, 2.0], \"ids\": [1.0, 3.0, 4.0, 102.0, 2.0], \"legendgroup\": \"\", \"marker\": {\"color\": \"#636efa\", \"symbol\": \"circle\"}, \"mode\": \"markers\", \"name\": \"\", \"orientation\": \"v\", \"showlegend\": false, \"x\": [92.8602, -359.666, -460.586, 197.15086364746094, -54.7812], \"xaxis\": \"x\", \"y\": [56.26, 19.5082, -46.7877, 53.59098815917969, 54.6733], \"yaxis\": \"y\", \"type\": \"scatter\"}], \"name\": \"70.0\"}, {\"data\": [{\"hovertemplate\": \"<b>%{hovertext}</b><br><br>f=80.0<br>x=%{x}<br>y=%{y}<extra></extra>\", \"hovertext\": [1.0, 3.0, 4.0, 5.0, 102.0, 2.0], \"ids\": [1.0, 3.0, 4.0, 5.0, 102.0, 2.0], \"legendgroup\": \"\", \"marker\": {\"color\": \"#636efa\", \"symbol\": \"circle\"}, \"mode\": \"markers\", \"name\": \"\", \"orientation\": \"v\", \"showlegend\": false, \"x\": [197.47, -254.564, -373.592, -516.174, 309.6705017089844, 53.4106], \"xaxis\": \"x\", \"y\": [61.0179, 48.0649, 6.9288300000000005, -142.451, 43.5240478515625, 55.884], \"yaxis\": \"y\", \"type\": \"scatter\"}], \"name\": \"80.0\"}, {\"data\": [{\"hovertemplate\": \"<b>%{hovertext}</b><br><br>f=90.0<br>x=%{x}<br>y=%{y}<extra></extra>\", \"hovertext\": [1.0, 3.0, 4.0, 5.0, 6.0, 102.0, 2.0], \"ids\": [1.0, 3.0, 4.0, 5.0, 6.0, 102.0, 2.0], \"legendgroup\": \"\", \"marker\": {\"color\": \"#636efa\", \"symbol\": \"circle\"}, \"mode\": \"markers\", \"name\": \"\", \"orientation\": \"v\", \"showlegend\": false, \"x\": [290.998, -142.331, -270.21, -460.982, -512.201, 386.8252868652344, 157.993], \"xaxis\": \"x\", \"y\": [42.0807, 51.9819, 40.6748, -55.3176, -166.269, 33.823516845703125, 59.5491], \"yaxis\": \"y\", \"type\": \"scatter\"}], \"name\": \"90.0\"}, {\"data\": [{\"hovertemplate\": \"<b>%{hovertext}</b><br><br>f=100.0<br>x=%{x}<br>y=%{y}<extra></extra>\", \"hovertext\": [1.0, 3.0, 4.0, 5.0, 6.0, 7.0, 102.0, 2.0], \"ids\": [1.0, 3.0, 4.0, 5.0, 6.0, 7.0, 102.0, 2.0], \"legendgroup\": \"\", \"marker\": {\"color\": \"#636efa\", \"symbol\": \"circle\"}, \"mode\": \"markers\", \"name\": \"\", \"orientation\": \"v\", \"showlegend\": false, \"x\": [383.13, -37.4613, -162.608, -376.227, -481.527, -511.948, 456.3760986328125, 262.861], \"xaxis\": \"x\", \"y\": [13.5573, 53.3211, 47.8969, 9.61549, -77.6666, -201.26, 35.75337600708008, 57.865], \"yaxis\": \"y\", \"type\": \"scatter\"}], \"name\": \"100.0\"}, {\"data\": [{\"hovertemplate\": \"<b>%{hovertext}</b><br><br>f=110.0<br>x=%{x}<br>y=%{y}<extra></extra>\", \"hovertext\": [1.0, 3.0, 4.0, 5.0, 6.0, 7.0, 8.0, 2.0], \"ids\": [1.0, 3.0, 4.0, 5.0, 6.0, 7.0, 8.0, 2.0], \"legendgroup\": \"\", \"marker\": {\"color\": \"#636efa\", \"symbol\": \"circle\"}, \"mode\": \"markers\", \"name\": \"\", \"orientation\": \"v\", \"showlegend\": false, \"x\": [461.002, 71.8506, -50.3724, -274.665, -407.314, -493.52, -520.374, 365.745], \"xaxis\": \"x\", \"y\": [-43.9781, 54.0626, 50.2846, 32.6602, -13.2738, -111.578, -210.471, 29.2349], \"yaxis\": \"y\", \"type\": \"scatter\"}], \"name\": \"110.0\"}, {\"data\": [{\"hovertemplate\": \"<b>%{hovertext}</b><br><br>f=120.0<br>x=%{x}<br>y=%{y}<extra></extra>\", \"hovertext\": [1.0, 3.0, 4.0, 5.0, 6.0, 7.0, 8.0, 2.0], \"ids\": [1.0, 3.0, 4.0, 5.0, 6.0, 7.0, 8.0, 2.0], \"legendgroup\": \"\", \"marker\": {\"color\": \"#636efa\", \"symbol\": \"circle\"}, \"mode\": \"markers\", \"name\": \"\", \"orientation\": \"v\", \"showlegend\": false, \"x\": [499.123, 189.935, 60.8958, -174.228, -313.462, -439.207, -499.442, 455.946], \"xaxis\": \"x\", \"y\": [-132.226, 48.3992, 55.4401, 42.5607, 29.9221, -35.3517, -116.234, -25.8871], \"yaxis\": \"y\", \"type\": \"scatter\"}], \"name\": \"120.0\"}, {\"data\": [{\"hovertemplate\": \"<b>%{hovertext}</b><br><br>f=130.0<br>x=%{x}<br>y=%{y}<extra></extra>\", \"hovertext\": [3.0, 4.0, 5.0, 6.0, 7.0, 8.0, 2.0], \"ids\": [3.0, 4.0, 5.0, 6.0, 7.0, 8.0, 2.0], \"legendgroup\": \"\", \"marker\": {\"color\": \"#636efa\", \"symbol\": \"circle\"}, \"mode\": \"markers\", \"name\": \"\", \"orientation\": \"v\", \"showlegend\": false, \"x\": [305.155, 178.058, -70.8844, -206.777, -360.159, -446.741, 510.439], \"xaxis\": \"x\", \"y\": [32.9335, 51.1605, 53.3074, 49.3022, 21.0693, -41.6558, -108.453], \"yaxis\": \"y\", \"type\": \"scatter\"}], \"name\": \"130.0\"}, {\"data\": [{\"hovertemplate\": \"<b>%{hovertext}</b><br><br>f=140.0<br>x=%{x}<br>y=%{y}<extra></extra>\", \"hovertext\": [3.0, 4.0, 5.0, 6.0, 7.0, 8.0, 2.0], \"ids\": [3.0, 4.0, 5.0, 6.0, 7.0, 8.0, 2.0], \"legendgroup\": \"\", \"marker\": {\"color\": \"#636efa\", \"symbol\": \"circle\"}, \"mode\": \"markers\", \"name\": \"\", \"orientation\": \"v\", \"showlegend\": false, \"x\": [409.001, 288.517, 34.8078, -100.832, -267.276, -374.236, 522.737], \"xaxis\": \"x\", \"y\": [-7.28598, 35.1776, 60.8259, 53.237, 52.5583, 15.6325, -208.629], \"yaxis\": \"y\", \"type\": \"scatter\"}], \"name\": \"140.0\"}, {\"data\": [{\"hovertemplate\": \"<b>%{hovertext}</b><br><br>f=150.0<br>x=%{x}<br>y=%{y}<extra></extra>\", \"hovertext\": [3.0, 4.0, 5.0, 6.0, 7.0, 8.0, 9.0], \"ids\": [3.0, 4.0, 5.0, 6.0, 7.0, 8.0, 9.0], \"legendgroup\": \"\", \"marker\": {\"color\": \"#636efa\", \"symbol\": \"circle\"}, \"mode\": \"markers\", \"name\": \"\", \"orientation\": \"v\", \"showlegend\": false, \"x\": [481.842, 392.784, 141.453, 2.4081099999999998, -172.347, -278.321, -503.021], \"xaxis\": \"x\", \"y\": [-81.2472, -1.0609, 61.9909, 64.2826, 57.3695, 41.2663, -138.001], \"yaxis\": \"y\", \"type\": \"scatter\"}], \"name\": \"150.0\"}, {\"data\": [{\"hovertemplate\": \"<b>%{hovertext}</b><br><br>f=160.0<br>x=%{x}<br>y=%{y}<extra></extra>\", \"hovertext\": [3.0, 4.0, 5.0, 6.0, 7.0, 8.0, 9.0, 10.0], \"ids\": [3.0, 4.0, 5.0, 6.0, 7.0, 8.0, 9.0, 10.0], \"legendgroup\": \"\", \"marker\": {\"color\": \"#636efa\", \"symbol\": \"circle\"}, \"mode\": \"markers\", \"name\": \"\", \"orientation\": \"v\", \"showlegend\": false, \"x\": [515.749, 464.13, 248.967, 108.757, -73.5589, -176.326, -468.736, -519.237], \"xaxis\": \"x\", \"y\": [-175.399, -71.1684, 46.8872, 60.8994, 62.1698, 44.9579, -65.5697, -206.643], \"yaxis\": \"y\", \"type\": \"scatter\"}], \"name\": \"160.0\"}, {\"data\": [{\"hovertemplate\": \"<b>%{hovertext}</b><br><br>f=170.0<br>x=%{x}<br>y=%{y}<extra></extra>\", \"hovertext\": [4.0, 5.0, 6.0, 7.0, 8.0, 9.0, 10.0], \"ids\": [4.0, 5.0, 6.0, 7.0, 8.0, 9.0, 10.0], \"legendgroup\": \"\", \"marker\": {\"color\": \"#636efa\", \"symbol\": \"circle\"}, \"mode\": \"markers\", \"name\": \"\", \"orientation\": \"v\", \"showlegend\": false, \"x\": [502.581, 346.581, 217.322, 19.5641, -83.4618, -415.855, -509.368], \"xaxis\": \"x\", \"y\": [-155.852, 14.8204, 56.7591, 61.6127, 47.3441, -10.0686, -121.97], \"yaxis\": \"y\", \"type\": \"scatter\"}], \"name\": \"170.0\"}, {\"data\": [{\"hovertemplate\": \"<b>%{hovertext}</b><br><br>f=180.0<br>x=%{x}<br>y=%{y}<extra></extra>\", \"hovertext\": [5.0, 6.0, 7.0, 8.0, 9.0, 10.0, 11.0], \"ids\": [5.0, 6.0, 7.0, 8.0, 9.0, 10.0, 11.0], \"legendgroup\": \"\", \"marker\": {\"color\": \"#636efa\", \"symbol\": \"circle\"}, \"mode\": \"markers\", \"name\": \"\", \"orientation\": \"v\", \"showlegend\": false, \"x\": [431.519, 320.703, 114.444, 4.658930000000001, -350.432, -471.52, -534.147], \"xaxis\": \"x\", \"y\": [-29.7285, 36.9311, 56.6322, 48.319, 29.9919, -59.4019, -172.492], \"yaxis\": \"y\", \"type\": \"scatter\"}], \"name\": \"180.0\"}, {\"data\": [{\"hovertemplate\": \"<b>%{hovertext}</b><br><br>f=190.0<br>x=%{x}<br>y=%{y}<extra></extra>\", \"hovertext\": [5.0, 6.0, 7.0, 8.0, 9.0, 10.0, 11.0], \"ids\": [5.0, 6.0, 7.0, 8.0, 9.0, 10.0, 11.0], \"legendgroup\": \"\", \"marker\": {\"color\": \"#636efa\", \"symbol\": \"circle\"}, \"mode\": \"markers\", \"name\": \"\", \"orientation\": \"v\", \"showlegend\": false, \"x\": [486.759, 409.895, 208.804, 95.0719, -272.059, -426.798, -516.559], \"xaxis\": \"x\", \"y\": [-106.286, -7.60185, 51.5199, 54.0446, 39.9981, -6.44543, -106.225], \"yaxis\": \"y\", \"type\": \"scatter\"}], \"name\": \"190.0\"}, {\"data\": [{\"hovertemplate\": \"<b>%{hovertext}</b><br><br>f=200.0<br>x=%{x}<br>y=%{y}<extra></extra>\", \"hovertext\": [5.0, 6.0, 7.0, 8.0, 9.0, 10.0, 11.0], \"ids\": [5.0, 6.0, 7.0, 8.0, 9.0, 10.0, 11.0], \"legendgroup\": \"\", \"marker\": {\"color\": \"#636efa\", \"symbol\": \"circle\"}, \"mode\": \"markers\", \"name\": \"\", \"orientation\": \"v\", \"showlegend\": false, \"x\": [508.408, 482.604, 301.361, 185.89, -192.341, -360.468, -484.853], \"xaxis\": \"x\", \"y\": [-197.507, -77.8782, 30.0138, 60.0369, 51.9845, 25.7378, -44.0549], \"yaxis\": \"y\", \"type\": \"scatter\"}], \"name\": \"200.0\"}, {\"data\": [{\"hovertemplate\": \"<b>%{hovertext}</b><br><br>f=210.0<br>x=%{x}<br>y=%{y}<extra></extra>\", \"hovertext\": [6.0, 7.0, 8.0, 9.0, 10.0, 11.0, 12.0], \"ids\": [6.0, 7.0, 8.0, 9.0, 10.0, 11.0, 12.0], \"legendgroup\": \"\", \"marker\": {\"color\": \"#636efa\", \"symbol\": \"circle\"}, \"mode\": \"markers\", \"name\": \"\", \"orientation\": \"v\", \"showlegend\": false, \"x\": [508.292, 385.766, 279.631, -112.537, -290.287, -430.213, -521.877], \"xaxis\": \"x\", \"y\": [-168.073, 2.08277, 55.2006, 52.412, 48.6048, 7.84767, -159.945], \"yaxis\": \"y\", \"type\": \"scatter\"}], \"name\": \"210.0\"}, {\"data\": [{\"hovertemplate\": \"<b>%{hovertext}</b><br><br>f=220.0<br>x=%{x}<br>y=%{y}<extra></extra>\", \"hovertext\": [7.0, 8.0, 9.0, 10.0, 11.0, 12.0, 13.0], \"ids\": [7.0, 8.0, 9.0, 10.0, 11.0, 12.0, 13.0], \"legendgroup\": \"\", \"marker\": {\"color\": \"#636efa\", \"symbol\": \"circle\"}, \"mode\": \"markers\", \"name\": \"\", \"orientation\": \"v\", \"showlegend\": false, \"x\": [453.061, 367.69, -30.9221, -211.632, -358.944, -504.067, -539.669], \"xaxis\": \"x\", \"y\": [-56.7466, 32.1668, 53.7337, 55.438, 32.4069, -81.7206, -197.012], \"yaxis\": \"y\", \"type\": \"scatter\"}], \"name\": \"220.0\"}, {\"data\": [{\"hovertemplate\": \"<b>%{hovertext}</b><br><br>f=230.0<br>x=%{x}<br>y=%{y}<extra></extra>\", \"hovertext\": [7.0, 8.0, 9.0, 10.0, 11.0, 12.0, 13.0], \"ids\": [7.0, 8.0, 9.0, 10.0, 11.0, 12.0, 13.0], \"legendgroup\": \"\", \"marker\": {\"color\": \"#636efa\", \"symbol\": \"circle\"}, \"mode\": \"markers\", \"name\": \"\", \"orientation\": \"v\", \"showlegend\": false, \"x\": [495.315, 440.208, 50.821, -140.792, -282.612, -450.964, -519.709], \"xaxis\": \"x\", \"y\": [-131.899, -18.4645, 63.0625, 57.7176, 51.0482, -24.1466, -119.9], \"yaxis\": \"y\", \"type\": \"scatter\"}], \"name\": \"230.0\"}, {\"data\": [{\"hovertemplate\": \"<b>%{hovertext}</b><br><br>f=240.0<br>x=%{x}<br>y=%{y}<extra></extra>\", \"hovertext\": [8.0, 9.0, 10.0, 11.0, 12.0, 13.0, 14.0], \"ids\": [8.0, 9.0, 10.0, 11.0, 12.0, 13.0, 14.0], \"legendgroup\": \"\", \"marker\": {\"color\": \"#636efa\", \"symbol\": \"circle\"}, \"mode\": \"markers\", \"name\": \"\", \"orientation\": \"v\", \"showlegend\": false, \"x\": [490.534, 131.42, -64.0407, -204.149, -388.338, -479.124, -525.584], \"xaxis\": \"x\", \"y\": [-91.6047, 60.3339, 61.4738, 54.9217, 22.199, -50.4323, -148.694], \"yaxis\": \"y\", \"type\": \"scatter\"}], \"name\": \"240.0\"}, {\"data\": [{\"hovertemplate\": \"<b>%{hovertext}</b><br><br>f=250.0<br>x=%{x}<br>y=%{y}<extra></extra>\", \"hovertext\": [8.0, 9.0, 10.0, 11.0, 12.0, 13.0, 14.0], \"ids\": [8.0, 9.0, 10.0, 11.0, 12.0, 13.0, 14.0], \"legendgroup\": \"\", \"marker\": {\"color\": \"#636efa\", \"symbol\": \"circle\"}, \"mode\": \"markers\", \"name\": \"\", \"orientation\": \"v\", \"showlegend\": false, \"x\": [517.61, 209.413, 15.0992, -123.157, -309.026, -424.027, -500.912], \"xaxis\": \"x\", \"y\": [-179.397, 63.1085, 59.5829, 54.3712, 47.0842, 6.42591, -77.3549], \"yaxis\": \"y\", \"type\": \"scatter\"}], \"name\": \"250.0\"}, {\"data\": [{\"hovertemplate\": \"<b>%{hovertext}</b><br><br>f=260.0<br>x=%{x}<br>y=%{y}<extra></extra>\", \"hovertext\": [9.0, 10.0, 11.0, 12.0, 13.0, 14.0, 15.0], \"ids\": [9.0, 10.0, 11.0, 12.0, 13.0, 14.0, 15.0], \"legendgroup\": \"\", \"marker\": {\"color\": \"#636efa\", \"symbol\": \"circle\"}, \"mode\": \"markers\", \"name\": \"\", \"orientation\": \"v\", \"showlegend\": false, \"x\": [285.099, 97.6278, -42.6521, -227.264, -352.535, -450.375, -528.784], \"xaxis\": \"x\", \"y\": [42.7766, 67.6997, 56.5871, 58.4408, 34.3478, -19.1833, -193.998], \"yaxis\": \"y\", \"type\": \"scatter\"}], \"name\": \"260.0\"}, {\"data\": [{\"hovertemplate\": \"<b>%{hovertext}</b><br><br>f=270.0<br>x=%{x}<br>y=%{y}<extra></extra>\", \"hovertext\": [9.0, 10.0, 11.0, 12.0, 13.0, 14.0, 15.0], \"ids\": [9.0, 10.0, 11.0, 12.0, 13.0, 14.0, 15.0], \"legendgroup\": \"\", \"marker\": {\"color\": \"#636efa\", \"symbol\": \"circle\"}, \"mode\": \"markers\", \"name\": \"\", \"orientation\": \"v\", \"showlegend\": false, \"x\": [355.941, 180.111, 38.6967, -143.984, -269.484, -375.912, -504.179], \"xaxis\": \"x\", \"y\": [20.2157, 60.0086, 52.457, 60.9089, 58.2711, 19.8038, -109.173], \"yaxis\": \"y\", \"type\": \"scatter\"}], \"name\": \"270.0\"}, {\"data\": [{\"hovertemplate\": \"<b>%{hovertext}</b><br><br>f=280.0<br>x=%{x}<br>y=%{y}<extra></extra>\", \"hovertext\": [9.0, 10.0, 11.0, 12.0, 13.0, 14.0, 15.0, 16.0], \"ids\": [9.0, 10.0, 11.0, 12.0, 13.0, 14.0, 15.0, 16.0], \"legendgroup\": \"\", \"marker\": {\"color\": \"#636efa\", \"symbol\": \"circle\"}, \"mode\": \"markers\", \"name\": \"\", \"orientation\": \"v\", \"showlegend\": false, \"x\": [420.443, 261.375, 122.327, -57.6887, -181.815, -303.153, -456.434, -518.819], \"xaxis\": \"x\", \"y\": [-14.9422, 52.5805, 61.6959, 63.5227, 58.0551, 41.7665, -42.2448, -155.195], \"yaxis\": \"y\", \"type\": \"scatter\"}], \"name\": \"280.0\"}, {\"data\": [{\"hovertemplate\": \"<b>%{hovertext}</b><br><br>f=290.0<br>x=%{x}<br>y=%{y}<extra></extra>\", \"hovertext\": [9.0, 10.0, 11.0, 12.0, 13.0, 14.0, 15.0, 16.0, 17.0], \"ids\": [9.0, 10.0, 11.0, 12.0, 13.0, 14.0, 15.0, 16.0, 17.0], \"legendgroup\": \"\", \"marker\": {\"color\": \"#636efa\", \"symbol\": \"circle\"}, \"mode\": \"markers\", \"name\": \"\", \"orientation\": \"v\", \"showlegend\": false, \"x\": [470.097, 335.577, 210.778, 33.0186, -92.5211, -224.249, -391.643, -492.084, -516.062], \"xaxis\": \"x\", \"y\": [-71.9076, 24.6516, 62.3163, 69.1147, 61.5578, 53.1986, 13.3106, -75.3567, -167.795], \"yaxis\": \"y\", \"type\": \"scatter\"}], \"name\": \"290.0\"}, {\"data\": [{\"hovertemplate\": \"<b>%{hovertext}</b><br><br>f=300.0<br>x=%{x}<br>y=%{y}<extra></extra>\", \"hovertext\": [9.0, 10.0, 11.0, 12.0, 13.0, 14.0, 15.0, 16.0, 17.0], \"ids\": [9.0, 10.0, 11.0, 12.0, 13.0, 14.0, 15.0, 16.0, 17.0], \"legendgroup\": \"\", \"marker\": {\"color\": \"#636efa\", \"symbol\": \"circle\"}, \"mode\": \"markers\", \"name\": \"\", \"orientation\": \"v\", \"showlegend\": false, \"x\": [507.81, 406.705, 293.683, 125.935, -3.795, -139.892, -311.106, -440.115, -492.878], \"xaxis\": \"x\", \"y\": [-139.008, -5.11395, 48.3066, 65.7815, 65.6187, 54.0286, 35.1801, -13.7443, -90.8945], \"yaxis\": \"y\", \"type\": \"scatter\"}], \"name\": \"300.0\"}, {\"data\": [{\"hovertemplate\": \"<b>%{hovertext}</b><br><br>f=310.0<br>x=%{x}<br>y=%{y}<extra></extra>\", \"hovertext\": [9.0, 10.0, 11.0, 12.0, 13.0, 14.0, 15.0, 16.0, 17.0, 18.0], \"ids\": [9.0, 10.0, 11.0, 12.0, 13.0, 14.0, 15.0, 16.0, 17.0, 18.0], \"legendgroup\": \"\", \"marker\": {\"color\": \"#636efa\", \"symbol\": \"circle\"}, \"mode\": \"markers\", \"name\": \"\", \"orientation\": \"v\", \"showlegend\": false, \"x\": [505.727, 468.249, 376.375, 219.712, 87.2576, -57.8883, -227.508, -365.397, -445.297, -523.903], \"xaxis\": \"x\", \"y\": [-215.446, -60.3111, 26.442, 70.2161, 60.0579, 60.1193, 54.3429, 20.1209, -29.9143, -189.763], \"yaxis\": \"y\", \"type\": \"scatter\"}], \"name\": \"310.0\"}, {\"data\": [{\"hovertemplate\": \"<b>%{hovertext}</b><br><br>f=320.0<br>x=%{x}<br>y=%{y}<extra></extra>\", \"hovertext\": [10.0, 11.0, 12.0, 13.0, 14.0, 15.0, 16.0, 17.0, 18.0, 19.0], \"ids\": [10.0, 11.0, 12.0, 13.0, 14.0, 15.0, 16.0, 17.0, 18.0, 19.0], \"legendgroup\": \"\", \"marker\": {\"color\": \"#636efa\", \"symbol\": \"circle\"}, \"mode\": \"markers\", \"name\": \"\", \"orientation\": \"v\", \"showlegend\": false, \"x\": [500.916, 441.798, 306.603, 179.507, 25.4663, -141.693, -278.109, -381.344, -502.819, -525.668], \"xaxis\": \"x\", \"y\": [-132.158, -23.249, 45.9563, 66.4912, 62.4686, 50.4484, 44.2148, 16.8576, -110.66, -187.525], \"yaxis\": \"y\", \"type\": \"scatter\"}], \"name\": \"320.0\"}, {\"data\": [{\"hovertemplate\": \"<b>%{hovertext}</b><br><br>f=330.0<br>x=%{x}<br>y=%{y}<extra></extra>\", \"hovertext\": [10.0, 11.0, 12.0, 13.0, 14.0, 15.0, 16.0, 17.0, 18.0, 19.0], \"ids\": [10.0, 11.0, 12.0, 13.0, 14.0, 15.0, 16.0, 17.0, 18.0, 19.0], \"legendgroup\": \"\", \"marker\": {\"color\": \"#636efa\", \"symbol\": \"circle\"}, \"mode\": \"markers\", \"name\": \"\", \"orientation\": \"v\", \"showlegend\": false, \"x\": [521.675, 498.146, 389.734, 269.246, 112.861, -56.727, -191.584, -298.781, -461.504, -508.184], \"xaxis\": \"x\", \"y\": [-205.367, -82.2766, 27.3625, 58.1524, 65.0238, 53.2002, 50.9828, 45.4979, -37.4951, -109.827], \"yaxis\": \"y\", \"type\": \"scatter\"}], \"name\": \"330.0\"}, {\"data\": [{\"hovertemplate\": \"<b>%{hovertext}</b><br><br>f=340.0<br>x=%{x}<br>y=%{y}<extra></extra>\", \"hovertext\": [11.0, 12.0, 13.0, 14.0, 15.0, 16.0, 17.0, 18.0, 19.0, 20.0], \"ids\": [11.0, 12.0, 13.0, 14.0, 15.0, 16.0, 17.0, 18.0, 19.0, 20.0], \"legendgroup\": \"\", \"marker\": {\"color\": \"#636efa\", \"symbol\": \"circle\"}, \"mode\": \"markers\", \"name\": \"\", \"orientation\": \"v\", \"showlegend\": false, \"x\": [527.63, 456.74, 355.669, 200.372, 29.9623, -104.498, -211.017, -394.628, -457.551, -518.805], \"xaxis\": \"x\", \"y\": [-155.104, -20.3123, 38.9845, 63.166, 51.0914, 56.0869, 57.2462, 11.8563, -46.6158, -190.14], \"yaxis\": \"y\", \"type\": \"scatter\"}], \"name\": \"340.0\"}, {\"data\": [{\"hovertemplate\": \"<b>%{hovertext}</b><br><br>f=350.0<br>x=%{x}<br>y=%{y}<extra></extra>\", \"hovertext\": [12.0, 13.0, 14.0, 15.0, 16.0, 17.0, 18.0, 19.0, 20.0], \"ids\": [12.0, 13.0, 14.0, 15.0, 16.0, 17.0, 18.0, 19.0, 20.0], \"legendgroup\": \"\", \"marker\": {\"color\": \"#636efa\", \"symbol\": \"circle\"}, \"mode\": \"markers\", \"name\": \"\", \"orientation\": \"v\", \"showlegend\": false, \"x\": [515.921, 439.605, 297.42, 121.515, -14.2917, -123.864, -315.061, -395.885, -501.51], \"xaxis\": \"x\", \"y\": [-77.8304, 6.0483199999999995, 46.0514, 55.8059, 62.9362, 62.6598, 43.4257, 7.697610000000001, -107.479], \"yaxis\": \"y\", \"type\": \"scatter\"}], \"name\": \"350.0\"}, {\"data\": [{\"hovertemplate\": \"<b>%{hovertext}</b><br><br>f=360.0<br>x=%{x}<br>y=%{y}<extra></extra>\", \"hovertext\": [12.0, 13.0, 14.0, 15.0, 16.0, 17.0, 18.0, 19.0, 20.0, 21.0], \"ids\": [12.0, 13.0, 14.0, 15.0, 16.0, 17.0, 18.0, 19.0, 20.0, 21.0], \"legendgroup\": \"\", \"marker\": {\"color\": \"#636efa\", \"symbol\": \"circle\"}, \"mode\": \"markers\", \"name\": \"\", \"orientation\": \"v\", \"showlegend\": false, \"x\": [539.539, 491.729, 383.947, 215.935, 76.2303, -32.3041, -226.068, -312.445, -456.873, -504.003], \"xaxis\": \"x\", \"y\": [-156.681, -61.2842, 17.4872, 58.0248, 55.5228, 66.9609, 56.6381, 40.0782, -40.169, -133.507], \"yaxis\": \"y\", \"type\": \"scatter\"}], \"name\": \"360.0\"}, {\"data\": [{\"hovertemplate\": \"<b>%{hovertext}</b><br><br>f=370.0<br>x=%{x}<br>y=%{y}<extra></extra>\", \"hovertext\": [13.0, 14.0, 15.0, 16.0, 17.0, 18.0, 19.0, 20.0, 21.0], \"ids\": [13.0, 14.0, 15.0, 16.0, 17.0, 18.0, 19.0, 20.0, 21.0], \"legendgroup\": \"\", \"marker\": {\"color\": \"#636efa\", \"symbol\": \"circle\"}, \"mode\": \"markers\", \"name\": \"\", \"orientation\": \"v\", \"showlegend\": false, \"x\": [533.913, 453.204, 310.007, 171.174, 62.585, -133.034, -224.022, -400.211, -462.522], \"xaxis\": \"x\", \"y\": [-131.341, -38.9683, 40.2724, 55.9198, 69.2666, 51.5397, 49.1296, 11.9964, -64.4231], \"yaxis\": \"y\", \"type\": \"scatter\"}], \"name\": \"370.0\"}, {\"data\": [{\"hovertemplate\": \"<b>%{hovertext}</b><br><br>f=380.0<br>x=%{x}<br>y=%{y}<extra></extra>\", \"hovertext\": [14.0, 15.0, 16.0, 17.0, 18.0, 19.0, 20.0, 21.0, 22.0], \"ids\": [14.0, 15.0, 16.0, 17.0, 18.0, 19.0, 20.0, 21.0, 22.0], \"legendgroup\": \"\", \"marker\": {\"color\": \"#636efa\", \"symbol\": \"circle\"}, \"mode\": \"markers\", \"name\": \"\", \"orientation\": \"v\", \"showlegend\": false, \"x\": [503.391, 402.215, 268.89, 160.553, -39.494, -135.315, -317.075, -411.554, -517.23], \"xaxis\": \"x\", \"y\": [-102.768, 9.24907, 50.2623, 68.3373, 53.8728, 51.6656, 40.2584, -4.07141, -171.351], \"yaxis\": \"y\", \"type\": \"scatter\"}], \"name\": \"380.0\"}, {\"data\": [{\"hovertemplate\": \"<b>%{hovertext}</b><br><br>f=390.0<br>x=%{x}<br>y=%{y}<extra></extra>\", \"hovertext\": [14.0, 15.0, 16.0, 17.0, 18.0, 19.0, 20.0, 21.0, 22.0], \"ids\": [14.0, 15.0, 16.0, 17.0, 18.0, 19.0, 20.0, 21.0, 22.0], \"legendgroup\": \"\", \"marker\": {\"color\": \"#636efa\", \"symbol\": \"circle\"}, \"mode\": \"markers\", \"name\": \"\", \"orientation\": \"v\", \"showlegend\": false, \"x\": [532.717, 466.935, 358.423, 254.063, 59.1702, -41.7502, -224.755, -339.339, -491.111], \"xaxis\": \"x\", \"y\": [-170.738, -52.2077, 20.483, 59.1299, 52.85, 41.2357, 48.1308, 28.9184, -88.5164], \"yaxis\": \"y\", \"type\": \"scatter\"}], \"name\": \"390.0\"}, {\"data\": [{\"hovertemplate\": \"<b>%{hovertext}</b><br><br>f=400.0<br>x=%{x}<br>y=%{y}<extra></extra>\", \"hovertext\": [15.0, 16.0, 17.0, 18.0, 19.0, 20.0, 21.0, 22.0, 23.0], \"ids\": [15.0, 16.0, 17.0, 18.0, 19.0, 20.0, 21.0, 22.0, 23.0], \"legendgroup\": \"\", \"marker\": {\"color\": \"#636efa\", \"symbol\": \"circle\"}, \"mode\": \"markers\", \"name\": \"\", \"orientation\": \"v\", \"showlegend\": false, \"x\": [512.019, 438.796, 343.913, 157.946, 56.9486, -130.999, -254.487, -433.392, -512.902], \"xaxis\": \"x\", \"y\": [-124.534, -27.3346, 39.3615, 52.3036, 38.2925, 56.5246, 48.7603, -26.5442, -139.395], \"yaxis\": \"y\", \"type\": \"scatter\"}], \"name\": \"400.0\"}, {\"data\": [{\"hovertemplate\": \"<b>%{hovertext}</b><br><br>f=410.0<br>x=%{x}<br>y=%{y}<extra></extra>\", \"hovertext\": [15.0, 16.0, 17.0, 18.0, 19.0, 20.0, 21.0, 22.0, 23.0], \"ids\": [15.0, 16.0, 17.0, 18.0, 19.0, 20.0, 21.0, 22.0, 23.0], \"legendgroup\": \"\", \"marker\": {\"color\": \"#636efa\", \"symbol\": \"circle\"}, \"mode\": \"markers\", \"name\": \"\", \"orientation\": \"v\", \"showlegend\": false, \"x\": [523.035, 492.91, 425.534, 253.633, 157.007, -27.7909, -164.141, -359.491, -480.153], \"xaxis\": \"x\", \"y\": [-205.857, -97.3736, -4.80742, 50.1631, 35.9698, 53.6911, 57.9769, 18.1048, -60.3592], \"yaxis\": \"y\", \"type\": \"scatter\"}], \"name\": \"410.0\"}, {\"data\": [{\"hovertemplate\": \"<b>%{hovertext}</b><br><br>f=420.0<br>x=%{x}<br>y=%{y}<extra></extra>\", \"hovertext\": [16.0, 17.0, 18.0, 19.0, 20.0, 21.0, 22.0, 23.0], \"ids\": [16.0, 17.0, 18.0, 19.0, 20.0, 21.0, 22.0, 23.0], \"legendgroup\": \"\", \"marker\": {\"color\": \"#636efa\", \"symbol\": \"circle\"}, \"mode\": \"markers\", \"name\": \"\", \"orientation\": \"v\", \"showlegend\": false, \"x\": [517.141, 487.766, 344.34, 248.457, 67.8391, -69.5369, -268.921, -414.058], \"xaxis\": \"x\", \"y\": [-174.604, -69.9401, 26.9364, 33.1612, 61.6559, 58.7058, 35.8842, -5.52619], \"yaxis\": \"y\", \"type\": \"scatter\"}], \"name\": \"420.0\"}, {\"data\": [{\"hovertemplate\": \"<b>%{hovertext}</b><br><br>f=430.0<br>x=%{x}<br>y=%{y}<extra></extra>\", \"hovertext\": [17.0, 18.0, 19.0, 20.0, 21.0, 22.0, 23.0], \"ids\": [17.0, 18.0, 19.0, 20.0, 21.0, 22.0, 23.0], \"legendgroup\": \"\", \"marker\": {\"color\": \"#636efa\", \"symbol\": \"circle\"}, \"mode\": \"markers\", \"name\": \"\", \"orientation\": \"v\", \"showlegend\": false, \"x\": [524.946, 422.541, 337.96, 165.997, 28.5931, -178.187, -334.142], \"xaxis\": \"x\", \"y\": [-149.971, -14.7564, 27.5482, 63.6125, 63.8051, 52.5627, 30.7664], \"yaxis\": \"y\", \"type\": \"scatter\"}], \"name\": \"430.0\"}, {\"data\": [{\"hovertemplate\": \"<b>%{hovertext}</b><br><br>f=440.0<br>x=%{x}<br>y=%{y}<extra></extra>\", \"hovertext\": [18.0, 19.0, 20.0, 21.0, 22.0, 23.0], \"ids\": [18.0, 19.0, 20.0, 21.0, 22.0, 23.0], \"legendgroup\": \"\", \"marker\": {\"color\": \"#636efa\", \"symbol\": \"circle\"}, \"mode\": \"markers\", \"name\": \"\", \"orientation\": \"v\", \"showlegend\": false, \"x\": [487.641, 414.951, 258.796, 123.185, -82.0624, -241.566], \"xaxis\": \"x\", \"y\": [-78.1233, -13.2964, 49.9001, 59.077, 58.8643, 44.3207], \"yaxis\": \"y\", \"type\": \"scatter\"}], \"name\": \"440.0\"}, {\"data\": [{\"hovertemplate\": \"<b>%{hovertext}</b><br><br>f=450.0<br>x=%{x}<br>y=%{y}<extra></extra>\", \"hovertext\": [18.0, 19.0, 20.0, 21.0, 22.0, 23.0], \"ids\": [18.0, 19.0, 20.0, 21.0, 22.0, 23.0], \"legendgroup\": \"\", \"marker\": {\"color\": \"#636efa\", \"symbol\": \"circle\"}, \"mode\": \"markers\", \"name\": \"\", \"orientation\": \"v\", \"showlegend\": false, \"x\": [519.445, 473.223, 352.115, 221.539, 17.8212, -146.717], \"xaxis\": \"x\", \"y\": [-155.136, -72.4127, 31.1089, 55.3744, 63.9559, 52.5183], \"yaxis\": \"y\", \"type\": \"scatter\"}], \"name\": \"450.0\"}, {\"data\": [{\"hovertemplate\": \"<b>%{hovertext}</b><br><br>f=460.0<br>x=%{x}<br>y=%{y}<extra></extra>\", \"hovertext\": [19.0, 20.0, 21.0, 22.0, 23.0], \"ids\": [19.0, 20.0, 21.0, 22.0, 23.0], \"legendgroup\": \"\", \"marker\": {\"color\": \"#636efa\", \"symbol\": \"circle\"}, \"mode\": \"markers\", \"name\": \"\", \"orientation\": \"v\", \"showlegend\": false, \"x\": [516.007, 429.091, 310.883, 113.556, -53.3909], \"xaxis\": \"x\", \"y\": [-147.689, -14.6012, 32.2727, 62.9795, 62.099], \"yaxis\": \"y\", \"type\": \"scatter\"}], \"name\": \"460.0\"}, {\"data\": [{\"hovertemplate\": \"<b>%{hovertext}</b><br><br>f=470.0<br>x=%{x}<br>y=%{y}<extra></extra>\", \"hovertext\": [20.0, 21.0, 22.0, 23.0, 24.0], \"ids\": [20.0, 21.0, 22.0, 23.0, 24.0], \"legendgroup\": \"\", \"marker\": {\"color\": \"#636efa\", \"symbol\": \"circle\"}, \"mode\": \"markers\", \"name\": \"\", \"orientation\": \"v\", \"showlegend\": false, \"x\": [485.857, 393.191, 208.864, 43.2628, -514.996], \"xaxis\": \"x\", \"y\": [-83.8215, -5.49871, 47.7748, 60.6809, -174.566], \"yaxis\": \"y\", \"type\": \"scatter\"}], \"name\": \"470.0\"}, {\"data\": [{\"hovertemplate\": \"<b>%{hovertext}</b><br><br>f=480.0<br>x=%{x}<br>y=%{y}<extra></extra>\", \"hovertext\": [20.0, 21.0, 22.0, 23.0, 24.0], \"ids\": [20.0, 21.0, 22.0, 23.0, 24.0], \"legendgroup\": \"\", \"marker\": {\"color\": \"#636efa\", \"symbol\": \"circle\"}, \"mode\": \"markers\", \"name\": \"\", \"orientation\": \"v\", \"showlegend\": false, \"x\": [523.559, 460.866, 303.389, 137.303, -494.279], \"xaxis\": \"x\", \"y\": [-160.975, -63.3089, 31.3396, 58.2187, -104.243], \"yaxis\": \"y\", \"type\": \"scatter\"}], \"name\": \"480.0\"}, {\"data\": [{\"hovertemplate\": \"<b>%{hovertext}</b><br><br>f=490.0<br>x=%{x}<br>y=%{y}<extra></extra>\", \"hovertext\": [21.0, 22.0, 23.0, 24.0], \"ids\": [21.0, 22.0, 23.0, 24.0], \"legendgroup\": \"\", \"marker\": {\"color\": \"#636efa\", \"symbol\": \"circle\"}, \"mode\": \"markers\", \"name\": \"\", \"orientation\": \"v\", \"showlegend\": false, \"x\": [504.804, 392.266, 230.578, -459.467], \"xaxis\": \"x\", \"y\": [-141.025, -5.92758, 53.6326, -37.6493], \"yaxis\": \"y\", \"type\": \"scatter\"}], \"name\": \"490.0\"}, {\"data\": [{\"hovertemplate\": \"<b>%{hovertext}</b><br><br>f=500.0<br>x=%{x}<br>y=%{y}<extra></extra>\", \"hovertext\": [22.0, 23.0, 24.0, 25.0], \"ids\": [22.0, 23.0, 24.0, 25.0], \"legendgroup\": \"\", \"marker\": {\"color\": \"#636efa\", \"symbol\": \"circle\"}, \"mode\": \"markers\", \"name\": \"\", \"orientation\": \"v\", \"showlegend\": false, \"x\": [460.91, 322.706, -402.211, -500.952], \"xaxis\": \"x\", \"y\": [-64.8948, 28.5977, 10.9297, -172.025], \"yaxis\": \"y\", \"type\": \"scatter\"}], \"name\": \"500.0\"}, {\"data\": [{\"hovertemplate\": \"<b>%{hovertext}</b><br><br>f=510.0<br>x=%{x}<br>y=%{y}<extra></extra>\", \"hovertext\": [22.0, 23.0, 24.0, 25.0], \"ids\": [22.0, 23.0, 24.0, 25.0], \"legendgroup\": \"\", \"marker\": {\"color\": \"#636efa\", \"symbol\": \"circle\"}, \"mode\": \"markers\", \"name\": \"\", \"orientation\": \"v\", \"showlegend\": false, \"x\": [504.932, 404.461, -330.494, -493.999], \"xaxis\": \"x\", \"y\": [-145.658, -6.64427, 34.2022, -99.8879], \"yaxis\": \"y\", \"type\": \"scatter\"}], \"name\": \"510.0\"}, {\"data\": [{\"hovertemplate\": \"<b>%{hovertext}</b><br><br>f=520.0<br>x=%{x}<br>y=%{y}<extra></extra>\", \"hovertext\": [23.0, 24.0, 25.0, 26.0], \"ids\": [23.0, 24.0, 25.0, 26.0], \"legendgroup\": \"\", \"marker\": {\"color\": \"#636efa\", \"symbol\": \"circle\"}, \"mode\": \"markers\", \"name\": \"\", \"orientation\": \"v\", \"showlegend\": false, \"x\": [470.397, -247.38, -446.24, -530.244], \"xaxis\": \"x\", \"y\": [-73.5251, 49.7963, -38.709, -133.355], \"yaxis\": \"y\", \"type\": \"scatter\"}], \"name\": \"520.0\"}, {\"data\": [{\"hovertemplate\": \"<b>%{hovertext}</b><br><br>f=530.0<br>x=%{x}<br>y=%{y}<extra></extra>\", \"hovertext\": [23.0, 24.0, 25.0, 26.0], \"ids\": [23.0, 24.0, 25.0, 26.0], \"legendgroup\": \"\", \"marker\": {\"color\": \"#636efa\", \"symbol\": \"circle\"}, \"mode\": \"markers\", \"name\": \"\", \"orientation\": \"v\", \"showlegend\": false, \"x\": [502.506, -160.035, -386.229, -493.745], \"xaxis\": \"x\", \"y\": [-166.0, 45.2581, 12.0407, -62.0721], \"yaxis\": \"y\", \"type\": \"scatter\"}], \"name\": \"530.0\"}, {\"data\": [{\"hovertemplate\": \"<b>%{hovertext}</b><br><br>f=540.0<br>x=%{x}<br>y=%{y}<extra></extra>\", \"hovertext\": [24.0, 25.0, 26.0, 27.0], \"ids\": [24.0, 25.0, 26.0, 27.0], \"legendgroup\": \"\", \"marker\": {\"color\": \"#636efa\", \"symbol\": \"circle\"}, \"mode\": \"markers\", \"name\": \"\", \"orientation\": \"v\", \"showlegend\": false, \"x\": [-74.0579, -309.373, -436.454, -521.883], \"xaxis\": \"x\", \"y\": [48.4588, 39.3609, -7.871289999999999, -142.032], \"yaxis\": \"y\", \"type\": \"scatter\"}], \"name\": \"540.0\"}, {\"data\": [{\"hovertemplate\": \"<b>%{hovertext}</b><br><br>f=550.0<br>x=%{x}<br>y=%{y}<extra></extra>\", \"hovertext\": [24.0, 25.0, 26.0, 27.0, 28.0], \"ids\": [24.0, 25.0, 26.0, 27.0, 28.0], \"legendgroup\": \"\", \"marker\": {\"color\": \"#636efa\", \"symbol\": \"circle\"}, \"mode\": \"markers\", \"name\": \"\", \"orientation\": \"v\", \"showlegend\": false, \"x\": [11.99, -230.273, -361.373, -491.83, -538.194], \"xaxis\": \"x\", \"y\": [53.1309, 58.3877, 23.8175, -70.0236, -182.517], \"yaxis\": \"y\", \"type\": \"scatter\"}], \"name\": \"550.0\"}, {\"data\": [{\"hovertemplate\": \"<b>%{hovertext}</b><br><br>f=560.0<br>x=%{x}<br>y=%{y}<extra></extra>\", \"hovertext\": [24.0, 25.0, 26.0, 27.0, 28.0, 29.0], \"ids\": [24.0, 25.0, 26.0, 27.0, 28.0, 29.0], \"legendgroup\": \"\", \"marker\": {\"color\": \"#636efa\", \"symbol\": \"circle\"}, \"mode\": \"markers\", \"name\": \"\", \"orientation\": \"v\", \"showlegend\": false, \"x\": [102.494, -145.629, -284.847, -446.294, -512.896, -530.817], \"xaxis\": \"x\", \"y\": [52.5674, 69.5286, 47.0059, -7.753239999999999, -108.037, -208.658], \"yaxis\": \"y\", \"type\": \"scatter\"}], \"name\": \"560.0\"}, {\"data\": [{\"hovertemplate\": \"<b>%{hovertext}</b><br><br>f=570.0<br>x=%{x}<br>y=%{y}<extra></extra>\", \"hovertext\": [24.0, 25.0, 26.0, 27.0, 28.0, 29.0], \"ids\": [24.0, 25.0, 26.0, 27.0, 28.0, 29.0], \"legendgroup\": \"\", \"marker\": {\"color\": \"#636efa\", \"symbol\": \"circle\"}, \"mode\": \"markers\", \"name\": \"\", \"orientation\": \"v\", \"showlegend\": false, \"x\": [191.677, -63.9395, -203.714, -379.435, -479.165, -514.694], \"xaxis\": \"x\", \"y\": [59.1504, 64.6659, 53.8826, 32.3058, -37.6189, -129.827], \"yaxis\": \"y\", \"type\": \"scatter\"}], \"name\": \"570.0\"}, {\"data\": [{\"hovertemplate\": \"<b>%{hovertext}</b><br><br>f=580.0<br>x=%{x}<br>y=%{y}<extra></extra>\", \"hovertext\": [24.0, 25.0, 26.0, 27.0, 28.0, 29.0, 30.0], \"ids\": [24.0, 25.0, 26.0, 27.0, 28.0, 29.0, 30.0], \"legendgroup\": \"\", \"marker\": {\"color\": \"#636efa\", \"symbol\": \"circle\"}, \"mode\": \"markers\", \"name\": \"\", \"orientation\": \"v\", \"showlegend\": false, \"x\": [276.14, 17.1891, -120.863, -302.065, -417.096, -478.404, -539.21], \"xaxis\": \"x\", \"y\": [47.1664, 71.6882, 58.604, 53.9227, 9.92719, -63.7208, -180.797], \"yaxis\": \"y\", \"type\": \"scatter\"}], \"name\": \"580.0\"}, {\"data\": [{\"hovertemplate\": \"<b>%{hovertext}</b><br><br>f=590.0<br>x=%{x}<br>y=%{y}<extra></extra>\", \"hovertext\": [24.0, 25.0, 26.0, 27.0, 28.0, 29.0, 30.0], \"ids\": [24.0, 25.0, 26.0, 27.0, 28.0, 29.0, 30.0], \"legendgroup\": \"\", \"marker\": {\"color\": \"#636efa\", \"symbol\": \"circle\"}, \"mode\": \"markers\", \"name\": \"\", \"orientation\": \"v\", \"showlegend\": false, \"x\": [354.831, 96.9133, -42.0815, -218.853, -347.742, -427.515, -512.22], \"xaxis\": \"x\", \"y\": [29.1883, 67.4254, 60.4053, 61.5156, 42.0002, -12.8915, -106.405], \"yaxis\": \"y\", \"type\": \"scatter\"}], \"name\": \"590.0\"}, {\"data\": [{\"hovertemplate\": \"<b>%{hovertext}</b><br><br>f=600.0<br>x=%{x}<br>y=%{y}<extra></extra>\", \"hovertext\": [24.0, 25.0, 26.0, 27.0, 28.0, 29.0, 30.0, 31.0], \"ids\": [24.0, 25.0, 26.0, 27.0, 28.0, 29.0, 30.0, 31.0], \"legendgroup\": \"\", \"marker\": {\"color\": \"#636efa\", \"symbol\": \"circle\"}, \"mode\": \"markers\", \"name\": \"\", \"orientation\": \"v\", \"showlegend\": false, \"x\": [425.034, 178.195, 34.3223, -135.0, -269.874, -360.685, -476.96, -519.747], \"xaxis\": \"x\", \"y\": [-7.77698, 71.1911, 59.3797, 59.7835, 56.6462, 25.9804, -38.639, -133.355], \"yaxis\": \"y\", \"type\": \"scatter\"}], \"name\": \"600.0\"}, {\"data\": [{\"hovertemplate\": \"<b>%{hovertext}</b><br><br>f=610.0<br>x=%{x}<br>y=%{y}<extra></extra>\", \"hovertext\": [24.0, 25.0, 26.0, 27.0, 28.0, 29.0, 30.0, 31.0, 32.0], \"ids\": [24.0, 25.0, 26.0, 27.0, 28.0, 29.0, 30.0, 31.0, 32.0], \"legendgroup\": \"\", \"marker\": {\"color\": \"#636efa\", \"symbol\": \"circle\"}, \"mode\": \"markers\", \"name\": \"\", \"orientation\": \"v\", \"showlegend\": false, \"x\": [475.62, 263.32, 114.536, -54.1422, -184.877, -287.182, -413.975, -489.097, -523.754], \"xaxis\": \"x\", \"y\": [-69.7624, 56.5192, 62.2095, 63.3877, 52.3568, 39.7015, 6.31628, -60.6238, -148.138], \"yaxis\": \"y\", \"type\": \"scatter\"}], \"name\": \"610.0\"}, {\"data\": [{\"hovertemplate\": \"<b>%{hovertext}</b><br><br>f=620.0<br>x=%{x}<br>y=%{y}<extra></extra>\", \"hovertext\": [24.0, 25.0, 26.0, 27.0, 28.0, 29.0, 30.0, 31.0, 32.0, 33.0], \"ids\": [24.0, 25.0, 26.0, 27.0, 28.0, 29.0, 30.0, 31.0, 32.0, 33.0], \"legendgroup\": \"\", \"marker\": {\"color\": \"#636efa\", \"symbol\": \"circle\"}, \"mode\": \"markers\", \"name\": \"\", \"orientation\": \"v\", \"showlegend\": false, \"x\": [511.311, 339.986, 194.154, 34.5251, -102.463, -202.485, -338.676, -438.069, -497.128, -530.204], \"xaxis\": \"x\", \"y\": [-140.839, 35.7229, 55.5312, 63.0784, 60.6316, 45.3587, 41.6127, -13.5063, -78.0675, -202.119], \"yaxis\": \"y\", \"type\": \"scatter\"}], \"name\": \"620.0\"}, {\"data\": [{\"hovertemplate\": \"<b>%{hovertext}</b><br><br>f=630.0<br>x=%{x}<br>y=%{y}<extra></extra>\", \"hovertext\": [24.0, 25.0, 26.0, 27.0, 28.0, 29.0, 30.0, 31.0, 32.0, 33.0], \"ids\": [24.0, 25.0, 26.0, 27.0, 28.0, 29.0, 30.0, 31.0, 32.0, 33.0], \"legendgroup\": \"\", \"marker\": {\"color\": \"#636efa\", \"symbol\": \"circle\"}, \"mode\": \"markers\", \"name\": \"\", \"orientation\": \"v\", \"showlegend\": false, \"x\": [513.195, 413.48, 279.8, 126.546, -20.7396, -118.786, -254.17, -375.314, -448.303, -516.606], \"xaxis\": \"x\", \"y\": [-215.502, -2.95526, 45.7216, 71.801, 55.6264, 44.6882, 49.1399, 25.9917, -23.5716, -127.938], \"yaxis\": \"y\", \"type\": \"scatter\"}], \"name\": \"630.0\"}, {\"data\": [{\"hovertemplate\": \"<b>%{hovertext}</b><br><br>f=640.0<br>x=%{x}<br>y=%{y}<extra></extra>\", \"hovertext\": [25.0, 26.0, 27.0, 28.0, 29.0, 30.0, 31.0, 32.0, 33.0, 34.0], \"ids\": [25.0, 26.0, 27.0, 28.0, 29.0, 30.0, 31.0, 32.0, 33.0, 34.0], \"legendgroup\": \"\", \"marker\": {\"color\": \"#636efa\", \"symbol\": \"circle\"}, \"mode\": \"markers\", \"name\": \"\", \"orientation\": \"v\", \"showlegend\": false, \"x\": [467.396, 367.076, 210.792, 65.8539, -37.8862, -168.544, -295.889, -388.655, -482.888, -510.781], \"xaxis\": \"x\", \"y\": [-62.6031, 30.6123, 57.4162, 64.5186, 44.2771, 52.1768, 38.2179, 16.3082, -59.8833, -145.743], \"yaxis\": \"y\", \"type\": \"scatter\"}], \"name\": \"640.0\"}, {\"data\": [{\"hovertemplate\": \"<b>%{hovertext}</b><br><br>f=650.0<br>x=%{x}<br>y=%{y}<extra></extra>\", \"hovertext\": [25.0, 26.0, 27.0, 28.0, 29.0, 30.0, 31.0, 32.0, 33.0, 34.0, 35.0], \"ids\": [25.0, 26.0, 27.0, 28.0, 29.0, 30.0, 31.0, 32.0, 33.0, 34.0, 35.0], \"legendgroup\": \"\", \"marker\": {\"color\": \"#636efa\", \"symbol\": \"circle\"}, \"mode\": \"markers\", \"name\": \"\", \"orientation\": \"v\", \"showlegend\": false, \"x\": [509.876, 435.91, 296.226, 153.68, 42.4365, -83.8468, -214.154, -317.355, -426.587, -481.857, -535.287], \"xaxis\": \"x\", \"y\": [-132.309, -20.1969, 49.7911, 63.0104, 43.0197, 50.2968, 45.9568, 35.7779, -13.629, -77.2646, -187.273], \"yaxis\": \"y\", \"type\": \"scatter\"}], \"name\": \"650.0\"}, {\"data\": [{\"hovertemplate\": \"<b>%{hovertext}</b><br><br>f=660.0<br>x=%{x}<br>y=%{y}<extra></extra>\", \"hovertext\": [25.0, 26.0, 27.0, 28.0, 29.0, 30.0, 31.0, 32.0, 33.0, 34.0, 35.0], \"ids\": [25.0, 26.0, 27.0, 28.0, 29.0, 30.0, 31.0, 32.0, 33.0, 34.0, 35.0], \"legendgroup\": \"\", \"marker\": {\"color\": \"#636efa\", \"symbol\": \"circle\"}, \"mode\": \"markers\", \"name\": \"\", \"orientation\": \"v\", \"showlegend\": false, \"x\": [510.96, 494.278, 369.734, 240.638, 129.044, -3.62185, -131.502, -239.597, -360.089, -427.891, -521.93], \"xaxis\": \"x\", \"y\": [-206.622, -78.3503, 16.5397, 53.6883, 41.1544, 48.078, 50.1248, 42.8518, 14.1006, -28.602, -111.542], \"yaxis\": \"y\", \"type\": \"scatter\"}], \"name\": \"660.0\"}, {\"data\": [{\"hovertemplate\": \"<b>%{hovertext}</b><br><br>f=670.0<br>x=%{x}<br>y=%{y}<extra></extra>\", \"hovertext\": [26.0, 27.0, 28.0, 29.0, 30.0, 31.0, 32.0, 33.0, 34.0, 35.0, 36.0], \"ids\": [26.0, 27.0, 28.0, 29.0, 30.0, 31.0, 32.0, 33.0, 34.0, 35.0, 36.0], \"legendgroup\": \"\", \"marker\": {\"color\": \"#636efa\", \"symbol\": \"circle\"}, \"mode\": \"markers\", \"name\": \"\", \"orientation\": \"v\", \"showlegend\": false, \"x\": [526.057, 448.813, 327.585, 210.122, 82.4955, -50.8942, -156.63, -286.53, -372.407, -475.745, -525.201], \"xaxis\": \"x\", \"y\": [-157.515, -12.0264, 48.9258, 45.3107, 51.5175, 46.7552, 46.2682, 37.1288, 15.2741, -48.0306, -129.393], \"yaxis\": \"y\", \"type\": \"scatter\"}], \"name\": \"670.0\"}, {\"data\": [{\"hovertemplate\": \"<b>%{hovertext}</b><br><br>f=680.0<br>x=%{x}<br>y=%{y}<extra></extra>\", \"hovertext\": [27.0, 28.0, 29.0, 30.0, 31.0, 32.0, 33.0, 34.0, 35.0, 36.0, 37.0], \"ids\": [27.0, 28.0, 29.0, 30.0, 31.0, 32.0, 33.0, 34.0, 35.0, 36.0, 37.0], \"legendgroup\": \"\", \"marker\": {\"color\": \"#636efa\", \"symbol\": \"circle\"}, \"mode\": \"markers\", \"name\": \"\", \"orientation\": \"v\", \"showlegend\": false, \"x\": [496.006, 404.739, 292.631, 161.159, 31.7428, -73.095, -209.305, -298.999, -418.347, -489.766, -510.349], \"xaxis\": \"x\", \"y\": [-74.3361, 12.9357, 40.9793, 46.7064, 54.9553, 44.6707, 40.2671, 34.4369, 4.776730000000001, -55.7985, -148.596], \"yaxis\": \"y\", \"type\": \"scatter\"}], \"name\": \"680.0\"}, {\"data\": [{\"hovertemplate\": \"<b>%{hovertext}</b><br><br>f=690.0<br>x=%{x}<br>y=%{y}<extra></extra>\", \"hovertext\": [27.0, 28.0, 29.0, 30.0, 31.0, 32.0, 33.0, 34.0, 35.0, 36.0, 37.0], \"ids\": [27.0, 28.0, 29.0, 30.0, 31.0, 32.0, 33.0, 34.0, 35.0, 36.0, 37.0], \"legendgroup\": \"\", \"marker\": {\"color\": \"#636efa\", \"symbol\": \"circle\"}, \"mode\": \"markers\", \"name\": \"\", \"orientation\": \"v\", \"showlegend\": false, \"x\": [534.448, 473.859, 375.222, 242.723, 114.914, 9.1794, -130.083, -216.613, -346.574, -431.03, -484.524], \"xaxis\": \"x\", \"y\": [-140.089, -33.3439, 21.9818, 49.1545, 50.6065, 46.2423, 44.4426, 49.6427, 33.2372, -2.57155, -82.9044], \"yaxis\": \"y\", \"type\": \"scatter\"}], \"name\": \"690.0\"}, {\"data\": [{\"hovertemplate\": \"<b>%{hovertext}</b><br><br>f=700.0<br>x=%{x}<br>y=%{y}<extra></extra>\", \"hovertext\": [28.0, 29.0, 30.0, 31.0, 32.0, 33.0, 34.0, 35.0, 36.0, 37.0, 38.0], \"ids\": [28.0, 29.0, 30.0, 31.0, 32.0, 33.0, 34.0, 35.0, 36.0, 37.0, 38.0], \"legendgroup\": \"\", \"marker\": {\"color\": \"#636efa\", \"symbol\": \"circle\"}, \"mode\": \"markers\", \"name\": \"\", \"orientation\": \"v\", \"showlegend\": false, \"x\": [525.77, 447.799, 319.978, 196.326, 91.982, -49.9422, -133.001, -268.293, -362.826, -444.478, -526.023], \"xaxis\": \"x\", \"y\": [-104.901, -22.1063, 34.0479, 51.3703, 44.7373, 47.3691, 52.4942, 49.5811, 34.499, -27.4781, -155.713], \"yaxis\": \"y\", \"type\": \"scatter\"}], \"name\": \"700.0\"}, {\"data\": [{\"hovertemplate\": \"<b>%{hovertext}</b><br><br>f=710.0<br>x=%{x}<br>y=%{y}<extra></extra>\", \"hovertext\": [28.0, 29.0, 30.0, 31.0, 32.0, 33.0, 34.0, 35.0, 36.0, 37.0, 38.0], \"ids\": [28.0, 29.0, 30.0, 31.0, 32.0, 33.0, 34.0, 35.0, 36.0, 37.0, 38.0], \"legendgroup\": \"\", \"marker\": {\"color\": \"#636efa\", \"symbol\": \"circle\"}, \"mode\": \"markers\", \"name\": \"\", \"orientation\": \"v\", \"showlegend\": false, \"x\": [534.502, 498.793, 398.51, 277.525, 173.188, 30.8594, -46.5901, -186.273, -287.166, -388.508, -500.6], \"xaxis\": \"x\", \"y\": [-186.118, -87.2634, 14.2804, 43.5097, 41.3701, 46.0315, 52.2057, 50.0365, 40.2122, 8.830869999999999, -78.9143], \"yaxis\": \"y\", \"type\": \"scatter\"}], \"name\": \"710.0\"}, {\"data\": [{\"hovertemplate\": \"<b>%{hovertext}</b><br><br>f=720.0<br>x=%{x}<br>y=%{y}<extra></extra>\", \"hovertext\": [29.0, 30.0, 31.0, 32.0, 33.0, 34.0, 35.0, 36.0, 37.0, 38.0], \"ids\": [29.0, 30.0, 31.0, 32.0, 33.0, 34.0, 35.0, 36.0, 37.0, 38.0], \"legendgroup\": \"\", \"marker\": {\"color\": \"#636efa\", \"symbol\": \"circle\"}, \"mode\": \"markers\", \"name\": \"\", \"orientation\": \"v\", \"showlegend\": false, \"x\": [533.459, 461.724, 355.847, 254.669, 109.668, 36.4276, -102.923, -208.009, -318.035, -443.976], \"xaxis\": \"x\", \"y\": [-160.089, -39.9187, 21.9284, 45.7109, 51.7704, 59.7568, 38.975, 51.8676, 32.7771, -20.8478], \"yaxis\": \"y\", \"type\": \"scatter\"}], \"name\": \"720.0\"}, {\"data\": [{\"hovertemplate\": \"<b>%{hovertext}</b><br><br>f=730.0<br>x=%{x}<br>y=%{y}<extra></extra>\", \"hovertext\": [30.0, 31.0, 32.0, 33.0, 34.0, 35.0, 36.0, 37.0, 38.0], \"ids\": [30.0, 31.0, 32.0, 33.0, 34.0, 35.0, 36.0, 37.0, 38.0], \"legendgroup\": \"\", \"marker\": {\"color\": \"#636efa\", \"symbol\": \"circle\"}, \"mode\": \"markers\", \"name\": \"\", \"orientation\": \"v\", \"showlegend\": false, \"x\": [512.271, 434.873, 335.313, 190.91, 116.362, -16.5477, -127.86, -236.97, -374.859], \"xaxis\": \"x\", \"y\": [-105.453, -4.34684, 32.4878, 46.446, 50.7924, 42.038, 45.3225, 39.8438, 19.2267], \"yaxis\": \"y\", \"type\": \"scatter\"}], \"name\": \"730.0\"}, {\"data\": [{\"hovertemplate\": \"<b>%{hovertext}</b><br><br>f=740.0<br>x=%{x}<br>y=%{y}<extra></extra>\", \"hovertext\": [30.0, 31.0, 32.0, 33.0, 34.0, 35.0, 36.0, 37.0, 38.0], \"ids\": [30.0, 31.0, 32.0, 33.0, 34.0, 35.0, 36.0, 37.0, 38.0], \"legendgroup\": \"\", \"marker\": {\"color\": \"#636efa\", \"symbol\": \"circle\"}, \"mode\": \"markers\", \"name\": \"\", \"orientation\": \"v\", \"showlegend\": false, \"x\": [524.259, 493.353, 413.447, 272.82, 195.676, 66.7027, -45.5407, -156.191, -291.659], \"xaxis\": \"x\", \"y\": [-186.231, -63.8579, 3.39855, 40.1516, 53.1033, 43.4715, 51.8772, 51.3158, 37.9943], \"yaxis\": \"y\", \"type\": \"scatter\"}], \"name\": \"740.0\"}, {\"data\": [{\"hovertemplate\": \"<b>%{hovertext}</b><br><br>f=750.0<br>x=%{x}<br>y=%{y}<extra></extra>\", \"hovertext\": [31.0, 32.0, 33.0, 34.0, 35.0, 36.0, 37.0, 38.0], \"ids\": [31.0, 32.0, 33.0, 34.0, 35.0, 36.0, 37.0, 38.0], \"legendgroup\": \"\", \"marker\": {\"color\": \"#636efa\", \"symbol\": \"circle\"}, \"mode\": \"markers\", \"name\": \"\", \"orientation\": \"v\", \"showlegend\": false, \"x\": [529.593, 478.62, 354.53, 271.888, 148.156, 38.5805, -71.8806, -205.327], \"xaxis\": \"x\", \"y\": [-139.684, -53.2198, 16.6164, 43.191, 51.9765, 50.1209, 48.5644, 39.7198], \"yaxis\": \"y\", \"type\": \"scatter\"}], \"name\": \"750.0\"}, {\"data\": [{\"hovertemplate\": \"<b>%{hovertext}</b><br><br>f=760.0<br>x=%{x}<br>y=%{y}<extra></extra>\", \"hovertext\": [32.0, 33.0, 34.0, 35.0, 36.0, 37.0, 38.0], \"ids\": [32.0, 33.0, 34.0, 35.0, 36.0, 37.0, 38.0], \"legendgroup\": \"\", \"marker\": {\"color\": \"#636efa\", \"symbol\": \"circle\"}, \"mode\": \"markers\", \"name\": \"\", \"orientation\": \"v\", \"showlegend\": false, \"x\": [516.143, 424.88, 349.1, 226.255, 120.129, 8.98424, -119.862], \"xaxis\": \"x\", \"y\": [-132.064, -31.273, 23.5424, 52.882, 52.895, 48.5051, 41.7792], \"yaxis\": \"y\", \"type\": \"scatter\"}], \"name\": \"760.0\"}, {\"data\": [{\"hovertemplate\": \"<b>%{hovertext}</b><br><br>f=770.0<br>x=%{x}<br>y=%{y}<extra></extra>\", \"hovertext\": [33.0, 34.0, 35.0, 36.0, 37.0, 38.0], \"ids\": [33.0, 34.0, 35.0, 36.0, 37.0, 38.0], \"legendgroup\": \"\", \"marker\": {\"color\": \"#636efa\", \"symbol\": \"circle\"}, \"mode\": \"markers\", \"name\": \"\", \"orientation\": \"v\", \"showlegend\": false, \"x\": [481.972, 424.957, 306.053, 197.424, 87.9262, -34.4119], \"xaxis\": \"x\", \"y\": [-92.6887, 19.4859, 40.3389, 51.7253, 52.0133, 40.4383], \"yaxis\": \"y\", \"type\": \"scatter\"}], \"name\": \"770.0\"}, {\"data\": [{\"hovertemplate\": \"<b>%{hovertext}</b><br><br>f=780.0<br>x=%{x}<br>y=%{y}<extra></extra>\", \"hovertext\": [33.0, 34.0, 35.0, 36.0, 37.0, 38.0], \"ids\": [33.0, 34.0, 35.0, 36.0, 37.0, 38.0], \"legendgroup\": \"\", \"marker\": {\"color\": \"#636efa\", \"symbol\": \"circle\"}, \"mode\": \"markers\", \"name\": \"\", \"orientation\": \"v\", \"showlegend\": false, \"x\": [509.012, 499.396, 378.932, 277.853, 161.695, 47.1719], \"xaxis\": \"x\", \"y\": [-168.156, 36.3552, 21.9411, 52.9344, 52.8351, 44.4997], \"yaxis\": \"y\", \"type\": \"scatter\"}], \"name\": \"780.0\"}]);\n",
       "                        }).then(function(){\n",
       "                            \n",
       "var gd = document.getElementById('00118548-331f-4073-a1eb-52847bb4916f');\n",
       "var x = new MutationObserver(function (mutations, observer) {{\n",
       "        var display = window.getComputedStyle(gd).display;\n",
       "        if (!display || display === 'none') {{\n",
       "            console.log([gd, 'removed!']);\n",
       "            Plotly.purge(gd);\n",
       "            observer.disconnect();\n",
       "        }}\n",
       "}});\n",
       "\n",
       "// Listen for the removal of the full notebook cells\n",
       "var notebookContainer = gd.closest('#notebook-container');\n",
       "if (notebookContainer) {{\n",
       "    x.observe(notebookContainer, {childList: true});\n",
       "}}\n",
       "\n",
       "// Listen for the clearing of the current output cell\n",
       "var outputEl = gd.closest('.output');\n",
       "if (outputEl) {{\n",
       "    x.observe(outputEl, {childList: true});\n",
       "}}\n",
       "\n",
       "                        })                };                });            </script>        </div>"
      ]
     },
     "metadata": {},
     "output_type": "display_data"
    }
   ],
   "source": [
    "animatePreview(dp, boundaries=[-600, 600, -250, 150], step=5)"
   ]
  },
  {
   "cell_type": "code",
   "execution_count": 89,
   "metadata": {},
   "outputs": [
    {
     "data": {
      "application/javascript": [
       "/* Put everything inside the global mpl namespace */\n",
       "window.mpl = {};\n",
       "\n",
       "\n",
       "mpl.get_websocket_type = function() {\n",
       "    if (typeof(WebSocket) !== 'undefined') {\n",
       "        return WebSocket;\n",
       "    } else if (typeof(MozWebSocket) !== 'undefined') {\n",
       "        return MozWebSocket;\n",
       "    } else {\n",
       "        alert('Your browser does not have WebSocket support. ' +\n",
       "              'Please try Chrome, Safari or Firefox ≥ 6. ' +\n",
       "              'Firefox 4 and 5 are also supported but you ' +\n",
       "              'have to enable WebSockets in about:config.');\n",
       "    };\n",
       "}\n",
       "\n",
       "mpl.figure = function(figure_id, websocket, ondownload, parent_element) {\n",
       "    this.id = figure_id;\n",
       "\n",
       "    this.ws = websocket;\n",
       "\n",
       "    this.supports_binary = (this.ws.binaryType != undefined);\n",
       "\n",
       "    if (!this.supports_binary) {\n",
       "        var warnings = document.getElementById(\"mpl-warnings\");\n",
       "        if (warnings) {\n",
       "            warnings.style.display = 'block';\n",
       "            warnings.textContent = (\n",
       "                \"This browser does not support binary websocket messages. \" +\n",
       "                    \"Performance may be slow.\");\n",
       "        }\n",
       "    }\n",
       "\n",
       "    this.imageObj = new Image();\n",
       "\n",
       "    this.context = undefined;\n",
       "    this.message = undefined;\n",
       "    this.canvas = undefined;\n",
       "    this.rubberband_canvas = undefined;\n",
       "    this.rubberband_context = undefined;\n",
       "    this.format_dropdown = undefined;\n",
       "\n",
       "    this.image_mode = 'full';\n",
       "\n",
       "    this.root = $('<div/>');\n",
       "    this._root_extra_style(this.root)\n",
       "    this.root.attr('style', 'display: inline-block');\n",
       "\n",
       "    $(parent_element).append(this.root);\n",
       "\n",
       "    this._init_header(this);\n",
       "    this._init_canvas(this);\n",
       "    this._init_toolbar(this);\n",
       "\n",
       "    var fig = this;\n",
       "\n",
       "    this.waiting = false;\n",
       "\n",
       "    this.ws.onopen =  function () {\n",
       "            fig.send_message(\"supports_binary\", {value: fig.supports_binary});\n",
       "            fig.send_message(\"send_image_mode\", {});\n",
       "            if (mpl.ratio != 1) {\n",
       "                fig.send_message(\"set_dpi_ratio\", {'dpi_ratio': mpl.ratio});\n",
       "            }\n",
       "            fig.send_message(\"refresh\", {});\n",
       "        }\n",
       "\n",
       "    this.imageObj.onload = function() {\n",
       "            if (fig.image_mode == 'full') {\n",
       "                // Full images could contain transparency (where diff images\n",
       "                // almost always do), so we need to clear the canvas so that\n",
       "                // there is no ghosting.\n",
       "                fig.context.clearRect(0, 0, fig.canvas.width, fig.canvas.height);\n",
       "            }\n",
       "            fig.context.drawImage(fig.imageObj, 0, 0);\n",
       "        };\n",
       "\n",
       "    this.imageObj.onunload = function() {\n",
       "        fig.ws.close();\n",
       "    }\n",
       "\n",
       "    this.ws.onmessage = this._make_on_message_function(this);\n",
       "\n",
       "    this.ondownload = ondownload;\n",
       "}\n",
       "\n",
       "mpl.figure.prototype._init_header = function() {\n",
       "    var titlebar = $(\n",
       "        '<div class=\"ui-dialog-titlebar ui-widget-header ui-corner-all ' +\n",
       "        'ui-helper-clearfix\"/>');\n",
       "    var titletext = $(\n",
       "        '<div class=\"ui-dialog-title\" style=\"width: 100%; ' +\n",
       "        'text-align: center; padding: 3px;\"/>');\n",
       "    titlebar.append(titletext)\n",
       "    this.root.append(titlebar);\n",
       "    this.header = titletext[0];\n",
       "}\n",
       "\n",
       "\n",
       "\n",
       "mpl.figure.prototype._canvas_extra_style = function(canvas_div) {\n",
       "\n",
       "}\n",
       "\n",
       "\n",
       "mpl.figure.prototype._root_extra_style = function(canvas_div) {\n",
       "\n",
       "}\n",
       "\n",
       "mpl.figure.prototype._init_canvas = function() {\n",
       "    var fig = this;\n",
       "\n",
       "    var canvas_div = $('<div/>');\n",
       "\n",
       "    canvas_div.attr('style', 'position: relative; clear: both; outline: 0');\n",
       "\n",
       "    function canvas_keyboard_event(event) {\n",
       "        return fig.key_event(event, event['data']);\n",
       "    }\n",
       "\n",
       "    canvas_div.keydown('key_press', canvas_keyboard_event);\n",
       "    canvas_div.keyup('key_release', canvas_keyboard_event);\n",
       "    this.canvas_div = canvas_div\n",
       "    this._canvas_extra_style(canvas_div)\n",
       "    this.root.append(canvas_div);\n",
       "\n",
       "    var canvas = $('<canvas/>');\n",
       "    canvas.addClass('mpl-canvas');\n",
       "    canvas.attr('style', \"left: 0; top: 0; z-index: 0; outline: 0\")\n",
       "\n",
       "    this.canvas = canvas[0];\n",
       "    this.context = canvas[0].getContext(\"2d\");\n",
       "\n",
       "    var backingStore = this.context.backingStorePixelRatio ||\n",
       "\tthis.context.webkitBackingStorePixelRatio ||\n",
       "\tthis.context.mozBackingStorePixelRatio ||\n",
       "\tthis.context.msBackingStorePixelRatio ||\n",
       "\tthis.context.oBackingStorePixelRatio ||\n",
       "\tthis.context.backingStorePixelRatio || 1;\n",
       "\n",
       "    mpl.ratio = (window.devicePixelRatio || 1) / backingStore;\n",
       "\n",
       "    var rubberband = $('<canvas/>');\n",
       "    rubberband.attr('style', \"position: absolute; left: 0; top: 0; z-index: 1;\")\n",
       "\n",
       "    var pass_mouse_events = true;\n",
       "\n",
       "    canvas_div.resizable({\n",
       "        start: function(event, ui) {\n",
       "            pass_mouse_events = false;\n",
       "        },\n",
       "        resize: function(event, ui) {\n",
       "            fig.request_resize(ui.size.width, ui.size.height);\n",
       "        },\n",
       "        stop: function(event, ui) {\n",
       "            pass_mouse_events = true;\n",
       "            fig.request_resize(ui.size.width, ui.size.height);\n",
       "        },\n",
       "    });\n",
       "\n",
       "    function mouse_event_fn(event) {\n",
       "        if (pass_mouse_events)\n",
       "            return fig.mouse_event(event, event['data']);\n",
       "    }\n",
       "\n",
       "    rubberband.mousedown('button_press', mouse_event_fn);\n",
       "    rubberband.mouseup('button_release', mouse_event_fn);\n",
       "    // Throttle sequential mouse events to 1 every 20ms.\n",
       "    rubberband.mousemove('motion_notify', mouse_event_fn);\n",
       "\n",
       "    rubberband.mouseenter('figure_enter', mouse_event_fn);\n",
       "    rubberband.mouseleave('figure_leave', mouse_event_fn);\n",
       "\n",
       "    canvas_div.on(\"wheel\", function (event) {\n",
       "        event = event.originalEvent;\n",
       "        event['data'] = 'scroll'\n",
       "        if (event.deltaY < 0) {\n",
       "            event.step = 1;\n",
       "        } else {\n",
       "            event.step = -1;\n",
       "        }\n",
       "        mouse_event_fn(event);\n",
       "    });\n",
       "\n",
       "    canvas_div.append(canvas);\n",
       "    canvas_div.append(rubberband);\n",
       "\n",
       "    this.rubberband = rubberband;\n",
       "    this.rubberband_canvas = rubberband[0];\n",
       "    this.rubberband_context = rubberband[0].getContext(\"2d\");\n",
       "    this.rubberband_context.strokeStyle = \"#000000\";\n",
       "\n",
       "    this._resize_canvas = function(width, height) {\n",
       "        // Keep the size of the canvas, canvas container, and rubber band\n",
       "        // canvas in synch.\n",
       "        canvas_div.css('width', width)\n",
       "        canvas_div.css('height', height)\n",
       "\n",
       "        canvas.attr('width', width * mpl.ratio);\n",
       "        canvas.attr('height', height * mpl.ratio);\n",
       "        canvas.attr('style', 'width: ' + width + 'px; height: ' + height + 'px;');\n",
       "\n",
       "        rubberband.attr('width', width);\n",
       "        rubberband.attr('height', height);\n",
       "    }\n",
       "\n",
       "    // Set the figure to an initial 600x600px, this will subsequently be updated\n",
       "    // upon first draw.\n",
       "    this._resize_canvas(600, 600);\n",
       "\n",
       "    // Disable right mouse context menu.\n",
       "    $(this.rubberband_canvas).bind(\"contextmenu\",function(e){\n",
       "        return false;\n",
       "    });\n",
       "\n",
       "    function set_focus () {\n",
       "        canvas.focus();\n",
       "        canvas_div.focus();\n",
       "    }\n",
       "\n",
       "    window.setTimeout(set_focus, 100);\n",
       "}\n",
       "\n",
       "mpl.figure.prototype._init_toolbar = function() {\n",
       "    var fig = this;\n",
       "\n",
       "    var nav_element = $('<div/>');\n",
       "    nav_element.attr('style', 'width: 100%');\n",
       "    this.root.append(nav_element);\n",
       "\n",
       "    // Define a callback function for later on.\n",
       "    function toolbar_event(event) {\n",
       "        return fig.toolbar_button_onclick(event['data']);\n",
       "    }\n",
       "    function toolbar_mouse_event(event) {\n",
       "        return fig.toolbar_button_onmouseover(event['data']);\n",
       "    }\n",
       "\n",
       "    for(var toolbar_ind in mpl.toolbar_items) {\n",
       "        var name = mpl.toolbar_items[toolbar_ind][0];\n",
       "        var tooltip = mpl.toolbar_items[toolbar_ind][1];\n",
       "        var image = mpl.toolbar_items[toolbar_ind][2];\n",
       "        var method_name = mpl.toolbar_items[toolbar_ind][3];\n",
       "\n",
       "        if (!name) {\n",
       "            // put a spacer in here.\n",
       "            continue;\n",
       "        }\n",
       "        var button = $('<button/>');\n",
       "        button.addClass('ui-button ui-widget ui-state-default ui-corner-all ' +\n",
       "                        'ui-button-icon-only');\n",
       "        button.attr('role', 'button');\n",
       "        button.attr('aria-disabled', 'false');\n",
       "        button.click(method_name, toolbar_event);\n",
       "        button.mouseover(tooltip, toolbar_mouse_event);\n",
       "\n",
       "        var icon_img = $('<span/>');\n",
       "        icon_img.addClass('ui-button-icon-primary ui-icon');\n",
       "        icon_img.addClass(image);\n",
       "        icon_img.addClass('ui-corner-all');\n",
       "\n",
       "        var tooltip_span = $('<span/>');\n",
       "        tooltip_span.addClass('ui-button-text');\n",
       "        tooltip_span.html(tooltip);\n",
       "\n",
       "        button.append(icon_img);\n",
       "        button.append(tooltip_span);\n",
       "\n",
       "        nav_element.append(button);\n",
       "    }\n",
       "\n",
       "    var fmt_picker_span = $('<span/>');\n",
       "\n",
       "    var fmt_picker = $('<select/>');\n",
       "    fmt_picker.addClass('mpl-toolbar-option ui-widget ui-widget-content');\n",
       "    fmt_picker_span.append(fmt_picker);\n",
       "    nav_element.append(fmt_picker_span);\n",
       "    this.format_dropdown = fmt_picker[0];\n",
       "\n",
       "    for (var ind in mpl.extensions) {\n",
       "        var fmt = mpl.extensions[ind];\n",
       "        var option = $(\n",
       "            '<option/>', {selected: fmt === mpl.default_extension}).html(fmt);\n",
       "        fmt_picker.append(option);\n",
       "    }\n",
       "\n",
       "    // Add hover states to the ui-buttons\n",
       "    $( \".ui-button\" ).hover(\n",
       "        function() { $(this).addClass(\"ui-state-hover\");},\n",
       "        function() { $(this).removeClass(\"ui-state-hover\");}\n",
       "    );\n",
       "\n",
       "    var status_bar = $('<span class=\"mpl-message\"/>');\n",
       "    nav_element.append(status_bar);\n",
       "    this.message = status_bar[0];\n",
       "}\n",
       "\n",
       "mpl.figure.prototype.request_resize = function(x_pixels, y_pixels) {\n",
       "    // Request matplotlib to resize the figure. Matplotlib will then trigger a resize in the client,\n",
       "    // which will in turn request a refresh of the image.\n",
       "    this.send_message('resize', {'width': x_pixels, 'height': y_pixels});\n",
       "}\n",
       "\n",
       "mpl.figure.prototype.send_message = function(type, properties) {\n",
       "    properties['type'] = type;\n",
       "    properties['figure_id'] = this.id;\n",
       "    this.ws.send(JSON.stringify(properties));\n",
       "}\n",
       "\n",
       "mpl.figure.prototype.send_draw_message = function() {\n",
       "    if (!this.waiting) {\n",
       "        this.waiting = true;\n",
       "        this.ws.send(JSON.stringify({type: \"draw\", figure_id: this.id}));\n",
       "    }\n",
       "}\n",
       "\n",
       "\n",
       "mpl.figure.prototype.handle_save = function(fig, msg) {\n",
       "    var format_dropdown = fig.format_dropdown;\n",
       "    var format = format_dropdown.options[format_dropdown.selectedIndex].value;\n",
       "    fig.ondownload(fig, format);\n",
       "}\n",
       "\n",
       "\n",
       "mpl.figure.prototype.handle_resize = function(fig, msg) {\n",
       "    var size = msg['size'];\n",
       "    if (size[0] != fig.canvas.width || size[1] != fig.canvas.height) {\n",
       "        fig._resize_canvas(size[0], size[1]);\n",
       "        fig.send_message(\"refresh\", {});\n",
       "    };\n",
       "}\n",
       "\n",
       "mpl.figure.prototype.handle_rubberband = function(fig, msg) {\n",
       "    var x0 = msg['x0'] / mpl.ratio;\n",
       "    var y0 = (fig.canvas.height - msg['y0']) / mpl.ratio;\n",
       "    var x1 = msg['x1'] / mpl.ratio;\n",
       "    var y1 = (fig.canvas.height - msg['y1']) / mpl.ratio;\n",
       "    x0 = Math.floor(x0) + 0.5;\n",
       "    y0 = Math.floor(y0) + 0.5;\n",
       "    x1 = Math.floor(x1) + 0.5;\n",
       "    y1 = Math.floor(y1) + 0.5;\n",
       "    var min_x = Math.min(x0, x1);\n",
       "    var min_y = Math.min(y0, y1);\n",
       "    var width = Math.abs(x1 - x0);\n",
       "    var height = Math.abs(y1 - y0);\n",
       "\n",
       "    fig.rubberband_context.clearRect(\n",
       "        0, 0, fig.canvas.width / mpl.ratio, fig.canvas.height / mpl.ratio);\n",
       "\n",
       "    fig.rubberband_context.strokeRect(min_x, min_y, width, height);\n",
       "}\n",
       "\n",
       "mpl.figure.prototype.handle_figure_label = function(fig, msg) {\n",
       "    // Updates the figure title.\n",
       "    fig.header.textContent = msg['label'];\n",
       "}\n",
       "\n",
       "mpl.figure.prototype.handle_cursor = function(fig, msg) {\n",
       "    var cursor = msg['cursor'];\n",
       "    switch(cursor)\n",
       "    {\n",
       "    case 0:\n",
       "        cursor = 'pointer';\n",
       "        break;\n",
       "    case 1:\n",
       "        cursor = 'default';\n",
       "        break;\n",
       "    case 2:\n",
       "        cursor = 'crosshair';\n",
       "        break;\n",
       "    case 3:\n",
       "        cursor = 'move';\n",
       "        break;\n",
       "    }\n",
       "    fig.rubberband_canvas.style.cursor = cursor;\n",
       "}\n",
       "\n",
       "mpl.figure.prototype.handle_message = function(fig, msg) {\n",
       "    fig.message.textContent = msg['message'];\n",
       "}\n",
       "\n",
       "mpl.figure.prototype.handle_draw = function(fig, msg) {\n",
       "    // Request the server to send over a new figure.\n",
       "    fig.send_draw_message();\n",
       "}\n",
       "\n",
       "mpl.figure.prototype.handle_image_mode = function(fig, msg) {\n",
       "    fig.image_mode = msg['mode'];\n",
       "}\n",
       "\n",
       "mpl.figure.prototype.updated_canvas_event = function() {\n",
       "    // Called whenever the canvas gets updated.\n",
       "    this.send_message(\"ack\", {});\n",
       "}\n",
       "\n",
       "// A function to construct a web socket function for onmessage handling.\n",
       "// Called in the figure constructor.\n",
       "mpl.figure.prototype._make_on_message_function = function(fig) {\n",
       "    return function socket_on_message(evt) {\n",
       "        if (evt.data instanceof Blob) {\n",
       "            /* FIXME: We get \"Resource interpreted as Image but\n",
       "             * transferred with MIME type text/plain:\" errors on\n",
       "             * Chrome.  But how to set the MIME type?  It doesn't seem\n",
       "             * to be part of the websocket stream */\n",
       "            evt.data.type = \"image/png\";\n",
       "\n",
       "            /* Free the memory for the previous frames */\n",
       "            if (fig.imageObj.src) {\n",
       "                (window.URL || window.webkitURL).revokeObjectURL(\n",
       "                    fig.imageObj.src);\n",
       "            }\n",
       "\n",
       "            fig.imageObj.src = (window.URL || window.webkitURL).createObjectURL(\n",
       "                evt.data);\n",
       "            fig.updated_canvas_event();\n",
       "            fig.waiting = false;\n",
       "            return;\n",
       "        }\n",
       "        else if (typeof evt.data === 'string' && evt.data.slice(0, 21) == \"data:image/png;base64\") {\n",
       "            fig.imageObj.src = evt.data;\n",
       "            fig.updated_canvas_event();\n",
       "            fig.waiting = false;\n",
       "            return;\n",
       "        }\n",
       "\n",
       "        var msg = JSON.parse(evt.data);\n",
       "        var msg_type = msg['type'];\n",
       "\n",
       "        // Call the  \"handle_{type}\" callback, which takes\n",
       "        // the figure and JSON message as its only arguments.\n",
       "        try {\n",
       "            var callback = fig[\"handle_\" + msg_type];\n",
       "        } catch (e) {\n",
       "            console.log(\"No handler for the '\" + msg_type + \"' message type: \", msg);\n",
       "            return;\n",
       "        }\n",
       "\n",
       "        if (callback) {\n",
       "            try {\n",
       "                // console.log(\"Handling '\" + msg_type + \"' message: \", msg);\n",
       "                callback(fig, msg);\n",
       "            } catch (e) {\n",
       "                console.log(\"Exception inside the 'handler_\" + msg_type + \"' callback:\", e, e.stack, msg);\n",
       "            }\n",
       "        }\n",
       "    };\n",
       "}\n",
       "\n",
       "// from http://stackoverflow.com/questions/1114465/getting-mouse-location-in-canvas\n",
       "mpl.findpos = function(e) {\n",
       "    //this section is from http://www.quirksmode.org/js/events_properties.html\n",
       "    var targ;\n",
       "    if (!e)\n",
       "        e = window.event;\n",
       "    if (e.target)\n",
       "        targ = e.target;\n",
       "    else if (e.srcElement)\n",
       "        targ = e.srcElement;\n",
       "    if (targ.nodeType == 3) // defeat Safari bug\n",
       "        targ = targ.parentNode;\n",
       "\n",
       "    // jQuery normalizes the pageX and pageY\n",
       "    // pageX,Y are the mouse positions relative to the document\n",
       "    // offset() returns the position of the element relative to the document\n",
       "    var x = e.pageX - $(targ).offset().left;\n",
       "    var y = e.pageY - $(targ).offset().top;\n",
       "\n",
       "    return {\"x\": x, \"y\": y};\n",
       "};\n",
       "\n",
       "/*\n",
       " * return a copy of an object with only non-object keys\n",
       " * we need this to avoid circular references\n",
       " * http://stackoverflow.com/a/24161582/3208463\n",
       " */\n",
       "function simpleKeys (original) {\n",
       "  return Object.keys(original).reduce(function (obj, key) {\n",
       "    if (typeof original[key] !== 'object')\n",
       "        obj[key] = original[key]\n",
       "    return obj;\n",
       "  }, {});\n",
       "}\n",
       "\n",
       "mpl.figure.prototype.mouse_event = function(event, name) {\n",
       "    var canvas_pos = mpl.findpos(event)\n",
       "\n",
       "    if (name === 'button_press')\n",
       "    {\n",
       "        this.canvas.focus();\n",
       "        this.canvas_div.focus();\n",
       "    }\n",
       "\n",
       "    var x = canvas_pos.x * mpl.ratio;\n",
       "    var y = canvas_pos.y * mpl.ratio;\n",
       "\n",
       "    this.send_message(name, {x: x, y: y, button: event.button,\n",
       "                             step: event.step,\n",
       "                             guiEvent: simpleKeys(event)});\n",
       "\n",
       "    /* This prevents the web browser from automatically changing to\n",
       "     * the text insertion cursor when the button is pressed.  We want\n",
       "     * to control all of the cursor setting manually through the\n",
       "     * 'cursor' event from matplotlib */\n",
       "    event.preventDefault();\n",
       "    return false;\n",
       "}\n",
       "\n",
       "mpl.figure.prototype._key_event_extra = function(event, name) {\n",
       "    // Handle any extra behaviour associated with a key event\n",
       "}\n",
       "\n",
       "mpl.figure.prototype.key_event = function(event, name) {\n",
       "\n",
       "    // Prevent repeat events\n",
       "    if (name == 'key_press')\n",
       "    {\n",
       "        if (event.which === this._key)\n",
       "            return;\n",
       "        else\n",
       "            this._key = event.which;\n",
       "    }\n",
       "    if (name == 'key_release')\n",
       "        this._key = null;\n",
       "\n",
       "    var value = '';\n",
       "    if (event.ctrlKey && event.which != 17)\n",
       "        value += \"ctrl+\";\n",
       "    if (event.altKey && event.which != 18)\n",
       "        value += \"alt+\";\n",
       "    if (event.shiftKey && event.which != 16)\n",
       "        value += \"shift+\";\n",
       "\n",
       "    value += 'k';\n",
       "    value += event.which.toString();\n",
       "\n",
       "    this._key_event_extra(event, name);\n",
       "\n",
       "    this.send_message(name, {key: value,\n",
       "                             guiEvent: simpleKeys(event)});\n",
       "    return false;\n",
       "}\n",
       "\n",
       "mpl.figure.prototype.toolbar_button_onclick = function(name) {\n",
       "    if (name == 'download') {\n",
       "        this.handle_save(this, null);\n",
       "    } else {\n",
       "        this.send_message(\"toolbar_button\", {name: name});\n",
       "    }\n",
       "};\n",
       "\n",
       "mpl.figure.prototype.toolbar_button_onmouseover = function(tooltip) {\n",
       "    this.message.textContent = tooltip;\n",
       "};\n",
       "mpl.toolbar_items = [[\"Home\", \"Reset original view\", \"fa fa-home icon-home\", \"home\"], [\"Back\", \"Back to previous view\", \"fa fa-arrow-left icon-arrow-left\", \"back\"], [\"Forward\", \"Forward to next view\", \"fa fa-arrow-right icon-arrow-right\", \"forward\"], [\"\", \"\", \"\", \"\"], [\"Pan\", \"Pan axes with left mouse, zoom with right\", \"fa fa-arrows icon-move\", \"pan\"], [\"Zoom\", \"Zoom to rectangle\", \"fa fa-square-o icon-check-empty\", \"zoom\"], [\"\", \"\", \"\", \"\"], [\"Download\", \"Download plot\", \"fa fa-floppy-o icon-save\", \"download\"]];\n",
       "\n",
       "mpl.extensions = [\"eps\", \"jpeg\", \"pdf\", \"png\", \"ps\", \"raw\", \"svg\", \"tif\"];\n",
       "\n",
       "mpl.default_extension = \"png\";var comm_websocket_adapter = function(comm) {\n",
       "    // Create a \"websocket\"-like object which calls the given IPython comm\n",
       "    // object with the appropriate methods. Currently this is a non binary\n",
       "    // socket, so there is still some room for performance tuning.\n",
       "    var ws = {};\n",
       "\n",
       "    ws.close = function() {\n",
       "        comm.close()\n",
       "    };\n",
       "    ws.send = function(m) {\n",
       "        //console.log('sending', m);\n",
       "        comm.send(m);\n",
       "    };\n",
       "    // Register the callback with on_msg.\n",
       "    comm.on_msg(function(msg) {\n",
       "        //console.log('receiving', msg['content']['data'], msg);\n",
       "        // Pass the mpl event to the overridden (by mpl) onmessage function.\n",
       "        ws.onmessage(msg['content']['data'])\n",
       "    });\n",
       "    return ws;\n",
       "}\n",
       "\n",
       "mpl.mpl_figure_comm = function(comm, msg) {\n",
       "    // This is the function which gets called when the mpl process\n",
       "    // starts-up an IPython Comm through the \"matplotlib\" channel.\n",
       "\n",
       "    var id = msg.content.data.id;\n",
       "    // Get hold of the div created by the display call when the Comm\n",
       "    // socket was opened in Python.\n",
       "    var element = $(\"#\" + id);\n",
       "    var ws_proxy = comm_websocket_adapter(comm)\n",
       "\n",
       "    function ondownload(figure, format) {\n",
       "        window.open(figure.imageObj.src);\n",
       "    }\n",
       "\n",
       "    var fig = new mpl.figure(id, ws_proxy,\n",
       "                           ondownload,\n",
       "                           element.get(0));\n",
       "\n",
       "    // Call onopen now - mpl needs it, as it is assuming we've passed it a real\n",
       "    // web socket which is closed, not our websocket->open comm proxy.\n",
       "    ws_proxy.onopen();\n",
       "\n",
       "    fig.parent_element = element.get(0);\n",
       "    fig.cell_info = mpl.find_output_cell(\"<div id='\" + id + \"'></div>\");\n",
       "    if (!fig.cell_info) {\n",
       "        console.error(\"Failed to find cell for figure\", id, fig);\n",
       "        return;\n",
       "    }\n",
       "\n",
       "    var output_index = fig.cell_info[2]\n",
       "    var cell = fig.cell_info[0];\n",
       "\n",
       "};\n",
       "\n",
       "mpl.figure.prototype.handle_close = function(fig, msg) {\n",
       "    var width = fig.canvas.width/mpl.ratio\n",
       "    fig.root.unbind('remove')\n",
       "\n",
       "    // Update the output cell to use the data from the current canvas.\n",
       "    fig.push_to_output();\n",
       "    var dataURL = fig.canvas.toDataURL();\n",
       "    // Re-enable the keyboard manager in IPython - without this line, in FF,\n",
       "    // the notebook keyboard shortcuts fail.\n",
       "    IPython.keyboard_manager.enable()\n",
       "    $(fig.parent_element).html('<img src=\"' + dataURL + '\" width=\"' + width + '\">');\n",
       "    fig.close_ws(fig, msg);\n",
       "}\n",
       "\n",
       "mpl.figure.prototype.close_ws = function(fig, msg){\n",
       "    fig.send_message('closing', msg);\n",
       "    // fig.ws.close()\n",
       "}\n",
       "\n",
       "mpl.figure.prototype.push_to_output = function(remove_interactive) {\n",
       "    // Turn the data on the canvas into data in the output cell.\n",
       "    var width = this.canvas.width/mpl.ratio\n",
       "    var dataURL = this.canvas.toDataURL();\n",
       "    this.cell_info[1]['text/html'] = '<img src=\"' + dataURL + '\" width=\"' + width + '\">';\n",
       "}\n",
       "\n",
       "mpl.figure.prototype.updated_canvas_event = function() {\n",
       "    // Tell IPython that the notebook contents must change.\n",
       "    IPython.notebook.set_dirty(true);\n",
       "    this.send_message(\"ack\", {});\n",
       "    var fig = this;\n",
       "    // Wait a second, then push the new image to the DOM so\n",
       "    // that it is saved nicely (might be nice to debounce this).\n",
       "    setTimeout(function () { fig.push_to_output() }, 1000);\n",
       "}\n",
       "\n",
       "mpl.figure.prototype._init_toolbar = function() {\n",
       "    var fig = this;\n",
       "\n",
       "    var nav_element = $('<div/>');\n",
       "    nav_element.attr('style', 'width: 100%');\n",
       "    this.root.append(nav_element);\n",
       "\n",
       "    // Define a callback function for later on.\n",
       "    function toolbar_event(event) {\n",
       "        return fig.toolbar_button_onclick(event['data']);\n",
       "    }\n",
       "    function toolbar_mouse_event(event) {\n",
       "        return fig.toolbar_button_onmouseover(event['data']);\n",
       "    }\n",
       "\n",
       "    for(var toolbar_ind in mpl.toolbar_items){\n",
       "        var name = mpl.toolbar_items[toolbar_ind][0];\n",
       "        var tooltip = mpl.toolbar_items[toolbar_ind][1];\n",
       "        var image = mpl.toolbar_items[toolbar_ind][2];\n",
       "        var method_name = mpl.toolbar_items[toolbar_ind][3];\n",
       "\n",
       "        if (!name) { continue; };\n",
       "\n",
       "        var button = $('<button class=\"btn btn-default\" href=\"#\" title=\"' + name + '\"><i class=\"fa ' + image + ' fa-lg\"></i></button>');\n",
       "        button.click(method_name, toolbar_event);\n",
       "        button.mouseover(tooltip, toolbar_mouse_event);\n",
       "        nav_element.append(button);\n",
       "    }\n",
       "\n",
       "    // Add the status bar.\n",
       "    var status_bar = $('<span class=\"mpl-message\" style=\"text-align:right; float: right;\"/>');\n",
       "    nav_element.append(status_bar);\n",
       "    this.message = status_bar[0];\n",
       "\n",
       "    // Add the close button to the window.\n",
       "    var buttongrp = $('<div class=\"btn-group inline pull-right\"></div>');\n",
       "    var button = $('<button class=\"btn btn-mini btn-primary\" href=\"#\" title=\"Stop Interaction\"><i class=\"fa fa-power-off icon-remove icon-large\"></i></button>');\n",
       "    button.click(function (evt) { fig.handle_close(fig, {}); } );\n",
       "    button.mouseover('Stop Interaction', toolbar_mouse_event);\n",
       "    buttongrp.append(button);\n",
       "    var titlebar = this.root.find($('.ui-dialog-titlebar'));\n",
       "    titlebar.prepend(buttongrp);\n",
       "}\n",
       "\n",
       "mpl.figure.prototype._root_extra_style = function(el){\n",
       "    var fig = this\n",
       "    el.on(\"remove\", function(){\n",
       "\tfig.close_ws(fig, {});\n",
       "    });\n",
       "}\n",
       "\n",
       "mpl.figure.prototype._canvas_extra_style = function(el){\n",
       "    // this is important to make the div 'focusable\n",
       "    el.attr('tabindex', 0)\n",
       "    // reach out to IPython and tell the keyboard manager to turn it's self\n",
       "    // off when our div gets focus\n",
       "\n",
       "    // location in version 3\n",
       "    if (IPython.notebook.keyboard_manager) {\n",
       "        IPython.notebook.keyboard_manager.register_events(el);\n",
       "    }\n",
       "    else {\n",
       "        // location in version 2\n",
       "        IPython.keyboard_manager.register_events(el);\n",
       "    }\n",
       "\n",
       "}\n",
       "\n",
       "mpl.figure.prototype._key_event_extra = function(event, name) {\n",
       "    var manager = IPython.notebook.keyboard_manager;\n",
       "    if (!manager)\n",
       "        manager = IPython.keyboard_manager;\n",
       "\n",
       "    // Check for shift+enter\n",
       "    if (event.shiftKey && event.which == 13) {\n",
       "        this.canvas_div.blur();\n",
       "        // select the cell after this one\n",
       "        var index = IPython.notebook.find_cell_index(this.cell_info[0]);\n",
       "        IPython.notebook.select(index + 1);\n",
       "    }\n",
       "}\n",
       "\n",
       "mpl.figure.prototype.handle_save = function(fig, msg) {\n",
       "    fig.ondownload(fig, null);\n",
       "}\n",
       "\n",
       "\n",
       "mpl.find_output_cell = function(html_output) {\n",
       "    // Return the cell and output element which can be found *uniquely* in the notebook.\n",
       "    // Note - this is a bit hacky, but it is done because the \"notebook_saving.Notebook\"\n",
       "    // IPython event is triggered only after the cells have been serialised, which for\n",
       "    // our purposes (turning an active figure into a static one), is too late.\n",
       "    var cells = IPython.notebook.get_cells();\n",
       "    var ncells = cells.length;\n",
       "    for (var i=0; i<ncells; i++) {\n",
       "        var cell = cells[i];\n",
       "        if (cell.cell_type === 'code'){\n",
       "            for (var j=0; j<cell.output_area.outputs.length; j++) {\n",
       "                var data = cell.output_area.outputs[j];\n",
       "                if (data.data) {\n",
       "                    // IPython >= 3 moved mimebundle to data attribute of output\n",
       "                    data = data.data;\n",
       "                }\n",
       "                if (data['text/html'] == html_output) {\n",
       "                    return [cell, data, j];\n",
       "                }\n",
       "            }\n",
       "        }\n",
       "    }\n",
       "}\n",
       "\n",
       "// Register the function which deals with the matplotlib target/channel.\n",
       "// The kernel may be null if the page has been refreshed.\n",
       "if (IPython.notebook.kernel != null) {\n",
       "    IPython.notebook.kernel.comm_manager.register_target('matplotlib', mpl.mpl_figure_comm);\n",
       "}\n"
      ],
      "text/plain": [
       "<IPython.core.display.Javascript object>"
      ]
     },
     "metadata": {},
     "output_type": "display_data"
    },
    {
     "data": {
      "text/html": [
       "<img src=\"data:image/png;base64,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\" width=\"1000\">"
      ],
      "text/plain": [
       "<IPython.core.display.HTML object>"
      ]
     },
     "metadata": {},
     "output_type": "display_data"
    },
    {
     "ename": "ZeroDivisionError",
     "evalue": "float division by zero",
     "output_type": "error",
     "traceback": [
      "\u001b[0;31m---------------------------------------------------------------------------\u001b[0m",
      "\u001b[0;31mZeroDivisionError\u001b[0m                         Traceback (most recent call last)",
      "\u001b[0;32m~/anaconda3/lib/python3.8/site-packages/IPython/core/formatters.py\u001b[0m in \u001b[0;36m__call__\u001b[0;34m(self, obj)\u001b[0m\n\u001b[1;32m    343\u001b[0m             \u001b[0mmethod\u001b[0m \u001b[0;34m=\u001b[0m \u001b[0mget_real_method\u001b[0m\u001b[0;34m(\u001b[0m\u001b[0mobj\u001b[0m\u001b[0;34m,\u001b[0m \u001b[0mself\u001b[0m\u001b[0;34m.\u001b[0m\u001b[0mprint_method\u001b[0m\u001b[0;34m)\u001b[0m\u001b[0;34m\u001b[0m\u001b[0;34m\u001b[0m\u001b[0m\n\u001b[1;32m    344\u001b[0m             \u001b[0;32mif\u001b[0m \u001b[0mmethod\u001b[0m \u001b[0;32mis\u001b[0m \u001b[0;32mnot\u001b[0m \u001b[0;32mNone\u001b[0m\u001b[0;34m:\u001b[0m\u001b[0;34m\u001b[0m\u001b[0;34m\u001b[0m\u001b[0m\n\u001b[0;32m--> 345\u001b[0;31m                 \u001b[0;32mreturn\u001b[0m \u001b[0mmethod\u001b[0m\u001b[0;34m(\u001b[0m\u001b[0;34m)\u001b[0m\u001b[0;34m\u001b[0m\u001b[0;34m\u001b[0m\u001b[0m\n\u001b[0m\u001b[1;32m    346\u001b[0m             \u001b[0;32mreturn\u001b[0m \u001b[0;32mNone\u001b[0m\u001b[0;34m\u001b[0m\u001b[0;34m\u001b[0m\u001b[0m\n\u001b[1;32m    347\u001b[0m         \u001b[0;32melse\u001b[0m\u001b[0;34m:\u001b[0m\u001b[0;34m\u001b[0m\u001b[0;34m\u001b[0m\u001b[0m\n",
      "\u001b[0;32m~/anaconda3/lib/python3.8/site-packages/matplotlib/animation.py\u001b[0m in \u001b[0;36m_repr_html_\u001b[0;34m(self)\u001b[0m\n\u001b[1;32m   1389\u001b[0m         \u001b[0mfmt\u001b[0m \u001b[0;34m=\u001b[0m \u001b[0mrcParams\u001b[0m\u001b[0;34m[\u001b[0m\u001b[0;34m'animation.html'\u001b[0m\u001b[0;34m]\u001b[0m\u001b[0;34m\u001b[0m\u001b[0;34m\u001b[0m\u001b[0m\n\u001b[1;32m   1390\u001b[0m         \u001b[0;32mif\u001b[0m \u001b[0mfmt\u001b[0m \u001b[0;34m==\u001b[0m \u001b[0;34m'html5'\u001b[0m\u001b[0;34m:\u001b[0m\u001b[0;34m\u001b[0m\u001b[0;34m\u001b[0m\u001b[0m\n\u001b[0;32m-> 1391\u001b[0;31m             \u001b[0;32mreturn\u001b[0m \u001b[0mself\u001b[0m\u001b[0;34m.\u001b[0m\u001b[0mto_html5_video\u001b[0m\u001b[0;34m(\u001b[0m\u001b[0;34m)\u001b[0m\u001b[0;34m\u001b[0m\u001b[0;34m\u001b[0m\u001b[0m\n\u001b[0m\u001b[1;32m   1392\u001b[0m         \u001b[0;32melif\u001b[0m \u001b[0mfmt\u001b[0m \u001b[0;34m==\u001b[0m \u001b[0;34m'jshtml'\u001b[0m\u001b[0;34m:\u001b[0m\u001b[0;34m\u001b[0m\u001b[0;34m\u001b[0m\u001b[0m\n\u001b[1;32m   1393\u001b[0m             \u001b[0;32mreturn\u001b[0m \u001b[0mself\u001b[0m\u001b[0;34m.\u001b[0m\u001b[0mto_jshtml\u001b[0m\u001b[0;34m(\u001b[0m\u001b[0;34m)\u001b[0m\u001b[0;34m\u001b[0m\u001b[0;34m\u001b[0m\u001b[0m\n",
      "\u001b[0;32m~/anaconda3/lib/python3.8/site-packages/matplotlib/animation.py\u001b[0m in \u001b[0;36mto_html5_video\u001b[0;34m(self, embed_limit)\u001b[0m\n\u001b[1;32m   1329\u001b[0m                 writer = Writer(codec='h264',\n\u001b[1;32m   1330\u001b[0m                                 \u001b[0mbitrate\u001b[0m\u001b[0;34m=\u001b[0m\u001b[0mrcParams\u001b[0m\u001b[0;34m[\u001b[0m\u001b[0;34m'animation.bitrate'\u001b[0m\u001b[0;34m]\u001b[0m\u001b[0;34m,\u001b[0m\u001b[0;34m\u001b[0m\u001b[0;34m\u001b[0m\u001b[0m\n\u001b[0;32m-> 1331\u001b[0;31m                                 fps=1000. / self._interval)\n\u001b[0m\u001b[1;32m   1332\u001b[0m                 \u001b[0mself\u001b[0m\u001b[0;34m.\u001b[0m\u001b[0msave\u001b[0m\u001b[0;34m(\u001b[0m\u001b[0mstr\u001b[0m\u001b[0;34m(\u001b[0m\u001b[0mpath\u001b[0m\u001b[0;34m)\u001b[0m\u001b[0;34m,\u001b[0m \u001b[0mwriter\u001b[0m\u001b[0;34m=\u001b[0m\u001b[0mwriter\u001b[0m\u001b[0;34m)\u001b[0m\u001b[0;34m\u001b[0m\u001b[0;34m\u001b[0m\u001b[0m\n\u001b[1;32m   1333\u001b[0m                 \u001b[0;31m# Now open and base64 encode.\u001b[0m\u001b[0;34m\u001b[0m\u001b[0;34m\u001b[0m\u001b[0;34m\u001b[0m\u001b[0m\n",
      "\u001b[0;31mZeroDivisionError\u001b[0m: float division by zero"
     ]
    },
    {
     "data": {
      "text/plain": [
       "<matplotlib.animation.FuncAnimation at 0x7f76c1916f70>"
      ]
     },
     "execution_count": 89,
     "metadata": {},
     "output_type": "execute_result"
    }
   ],
   "source": [
    "ani = animateTraj(dp, frame_start=frames[0], frame_stop=frames[-1], boundaries=[-600, 600, -250, 150], step=1, fps=16, title=\"Trajectory Animation\")\n",
    "ani"
   ]
  },
  {
   "cell_type": "code",
   "execution_count": null,
   "metadata": {},
   "outputs": [],
   "source": []
  },
  {
   "cell_type": "code",
   "execution_count": null,
   "metadata": {},
   "outputs": [],
   "source": []
  },
  {
   "cell_type": "code",
   "execution_count": 195,
   "metadata": {},
   "outputs": [],
   "source": [
    "id_s, trajs = da.get_trajectories(number_nei)"
   ]
  },
  {
   "cell_type": "code",
   "execution_count": 153,
   "metadata": {
    "scrolled": false
   },
   "outputs": [
    {
     "name": "stdout",
     "output_type": "stream",
     "text": [
      "20\n",
      "[-345.14      22.2402    93.344     12.0832  -323.657     64.8914\n",
      "   92.064     -2.5328  -221.87      69.827    104.848      2.3088\n",
      " -171.486     36.0655    79.488     -6.72     -97.364     63.5577\n",
      "   98.5568    33.7248    -6.96508   47.7021   110.14782  -25.784\n",
      "   80.7723    71.9978    89.48     -18.112    111.545     32.5479\n",
      "   91.696    -10.3392   165.975     51.2898    86.592     -0.6096\n",
      "  255.127     44.6652    76.768    -17.4432   283.081     65.2898\n",
      "   76.048    -17.2      348.452     42.9507    66.96     -20.496\n",
      "    0.         0.         0.         0.     ] (52,)\n",
      "(52,) float32\n"
     ]
    },
    {
     "ename": "RuntimeError",
     "evalue": "expected scalar type Double but found Float",
     "output_type": "error",
     "traceback": [
      "\u001b[0;31m---------------------------------------------------------------------------\u001b[0m",
      "\u001b[0;31mRuntimeError\u001b[0m                              Traceback (most recent call last)",
      "\u001b[0;32m<ipython-input-153-e8810f59ee5d>\u001b[0m in \u001b[0;36m<module>\u001b[0;34m\u001b[0m\n\u001b[1;32m     23\u001b[0m     \u001b[0my_sim\u001b[0m \u001b[0;34m=\u001b[0m \u001b[0mmodel\u001b[0m\u001b[0;34m(\u001b[0m\u001b[0mx_sim\u001b[0m\u001b[0;34m)\u001b[0m\u001b[0;34m\u001b[0m\u001b[0;34m\u001b[0m\u001b[0m\n\u001b[1;32m     24\u001b[0m \u001b[0;34m\u001b[0m\u001b[0m\n\u001b[0;32m---> 25\u001b[0;31m     \u001b[0magent\u001b[0m\u001b[0;34m.\u001b[0m\u001b[0mstep\u001b[0m\u001b[0;34m(\u001b[0m\u001b[0mtraj\u001b[0m\u001b[0;34m[\u001b[0m\u001b[0mi\u001b[0m\u001b[0;34m]\u001b[0m\u001b[0;34m)\u001b[0m\u001b[0;34m\u001b[0m\u001b[0;34m\u001b[0m\u001b[0m\n\u001b[0m\u001b[1;32m     26\u001b[0m \u001b[0;34m\u001b[0m\u001b[0m\n\u001b[1;32m     27\u001b[0m     \u001b[0mv_sim\u001b[0m \u001b[0;34m=\u001b[0m \u001b[0;34m(\u001b[0m\u001b[0my_sim\u001b[0m\u001b[0;34m[\u001b[0m\u001b[0;34m:\u001b[0m\u001b[0;36m2\u001b[0m\u001b[0;34m]\u001b[0m\u001b[0;34m-\u001b[0m\u001b[0mx_sim\u001b[0m\u001b[0;34m[\u001b[0m\u001b[0;34m:\u001b[0m\u001b[0;36m2\u001b[0m\u001b[0;34m]\u001b[0m\u001b[0;34m)\u001b[0m\u001b[0;34m/\u001b[0m\u001b[0mFPS\u001b[0m\u001b[0;34m\u001b[0m\u001b[0;34m\u001b[0m\u001b[0m\n",
      "\u001b[0;32m<ipython-input-149-8138593a2e1c>\u001b[0m in \u001b[0;36mstep\u001b[0;34m(self, neighbors)\u001b[0m\n\u001b[1;32m     32\u001b[0m         \u001b[0mx_sim\u001b[0m \u001b[0;34m=\u001b[0m \u001b[0mtorch\u001b[0m\u001b[0;34m.\u001b[0m\u001b[0mfrom_numpy\u001b[0m\u001b[0;34m(\u001b[0m\u001b[0mneighbors\u001b[0m\u001b[0;34m)\u001b[0m\u001b[0;34m.\u001b[0m\u001b[0mto\u001b[0m\u001b[0;34m(\u001b[0m\u001b[0mself\u001b[0m\u001b[0;34m.\u001b[0m\u001b[0mdevice\u001b[0m\u001b[0;34m)\u001b[0m\u001b[0;34m\u001b[0m\u001b[0;34m\u001b[0m\u001b[0m\n\u001b[1;32m     33\u001b[0m \u001b[0;34m\u001b[0m\u001b[0m\n\u001b[0;32m---> 34\u001b[0;31m         \u001b[0my_sim\u001b[0m \u001b[0;34m=\u001b[0m \u001b[0mmodel\u001b[0m\u001b[0;34m(\u001b[0m\u001b[0mx_sim\u001b[0m\u001b[0;34m.\u001b[0m\u001b[0mdouble\u001b[0m\u001b[0;34m(\u001b[0m\u001b[0;34m)\u001b[0m\u001b[0;34m)\u001b[0m\u001b[0;34m\u001b[0m\u001b[0;34m\u001b[0m\u001b[0m\n\u001b[0m\u001b[1;32m     35\u001b[0m \u001b[0;34m\u001b[0m\u001b[0m\n\u001b[1;32m     36\u001b[0m         \u001b[0mv_sim\u001b[0m \u001b[0;34m=\u001b[0m \u001b[0;34m(\u001b[0m\u001b[0my_sim\u001b[0m\u001b[0;34m[\u001b[0m\u001b[0;34m:\u001b[0m\u001b[0;36m2\u001b[0m\u001b[0;34m]\u001b[0m\u001b[0;34m-\u001b[0m\u001b[0mx_sim\u001b[0m\u001b[0;34m[\u001b[0m\u001b[0;34m:\u001b[0m\u001b[0;36m2\u001b[0m\u001b[0;34m]\u001b[0m\u001b[0;34m)\u001b[0m\u001b[0;34m/\u001b[0m\u001b[0mself\u001b[0m\u001b[0;34m.\u001b[0m\u001b[0mT\u001b[0m\u001b[0;34m\u001b[0m\u001b[0;34m\u001b[0m\u001b[0m\n",
      "\u001b[0;32m~/anaconda3/lib/python3.8/site-packages/torch/nn/modules/module.py\u001b[0m in \u001b[0;36m_call_impl\u001b[0;34m(self, *input, **kwargs)\u001b[0m\n\u001b[1;32m    725\u001b[0m             \u001b[0mresult\u001b[0m \u001b[0;34m=\u001b[0m \u001b[0mself\u001b[0m\u001b[0;34m.\u001b[0m\u001b[0m_slow_forward\u001b[0m\u001b[0;34m(\u001b[0m\u001b[0;34m*\u001b[0m\u001b[0minput\u001b[0m\u001b[0;34m,\u001b[0m \u001b[0;34m**\u001b[0m\u001b[0mkwargs\u001b[0m\u001b[0;34m)\u001b[0m\u001b[0;34m\u001b[0m\u001b[0;34m\u001b[0m\u001b[0m\n\u001b[1;32m    726\u001b[0m         \u001b[0;32melse\u001b[0m\u001b[0;34m:\u001b[0m\u001b[0;34m\u001b[0m\u001b[0;34m\u001b[0m\u001b[0m\n\u001b[0;32m--> 727\u001b[0;31m             \u001b[0mresult\u001b[0m \u001b[0;34m=\u001b[0m \u001b[0mself\u001b[0m\u001b[0;34m.\u001b[0m\u001b[0mforward\u001b[0m\u001b[0;34m(\u001b[0m\u001b[0;34m*\u001b[0m\u001b[0minput\u001b[0m\u001b[0;34m,\u001b[0m \u001b[0;34m**\u001b[0m\u001b[0mkwargs\u001b[0m\u001b[0;34m)\u001b[0m\u001b[0;34m\u001b[0m\u001b[0;34m\u001b[0m\u001b[0m\n\u001b[0m\u001b[1;32m    728\u001b[0m         for hook in itertools.chain(\n\u001b[1;32m    729\u001b[0m                 \u001b[0m_global_forward_hooks\u001b[0m\u001b[0;34m.\u001b[0m\u001b[0mvalues\u001b[0m\u001b[0;34m(\u001b[0m\u001b[0;34m)\u001b[0m\u001b[0;34m,\u001b[0m\u001b[0;34m\u001b[0m\u001b[0;34m\u001b[0m\u001b[0m\n",
      "\u001b[0;32m~/anaconda3/lib/python3.8/site-packages/torch/nn/modules/container.py\u001b[0m in \u001b[0;36mforward\u001b[0;34m(self, input)\u001b[0m\n\u001b[1;32m    115\u001b[0m     \u001b[0;32mdef\u001b[0m \u001b[0mforward\u001b[0m\u001b[0;34m(\u001b[0m\u001b[0mself\u001b[0m\u001b[0;34m,\u001b[0m \u001b[0minput\u001b[0m\u001b[0;34m)\u001b[0m\u001b[0;34m:\u001b[0m\u001b[0;34m\u001b[0m\u001b[0;34m\u001b[0m\u001b[0m\n\u001b[1;32m    116\u001b[0m         \u001b[0;32mfor\u001b[0m \u001b[0mmodule\u001b[0m \u001b[0;32min\u001b[0m \u001b[0mself\u001b[0m\u001b[0;34m:\u001b[0m\u001b[0;34m\u001b[0m\u001b[0;34m\u001b[0m\u001b[0m\n\u001b[0;32m--> 117\u001b[0;31m             \u001b[0minput\u001b[0m \u001b[0;34m=\u001b[0m \u001b[0mmodule\u001b[0m\u001b[0;34m(\u001b[0m\u001b[0minput\u001b[0m\u001b[0;34m)\u001b[0m\u001b[0;34m\u001b[0m\u001b[0;34m\u001b[0m\u001b[0m\n\u001b[0m\u001b[1;32m    118\u001b[0m         \u001b[0;32mreturn\u001b[0m \u001b[0minput\u001b[0m\u001b[0;34m\u001b[0m\u001b[0;34m\u001b[0m\u001b[0m\n\u001b[1;32m    119\u001b[0m \u001b[0;34m\u001b[0m\u001b[0m\n",
      "\u001b[0;32m~/anaconda3/lib/python3.8/site-packages/torch/nn/modules/module.py\u001b[0m in \u001b[0;36m_call_impl\u001b[0;34m(self, *input, **kwargs)\u001b[0m\n\u001b[1;32m    725\u001b[0m             \u001b[0mresult\u001b[0m \u001b[0;34m=\u001b[0m \u001b[0mself\u001b[0m\u001b[0;34m.\u001b[0m\u001b[0m_slow_forward\u001b[0m\u001b[0;34m(\u001b[0m\u001b[0;34m*\u001b[0m\u001b[0minput\u001b[0m\u001b[0;34m,\u001b[0m \u001b[0;34m**\u001b[0m\u001b[0mkwargs\u001b[0m\u001b[0;34m)\u001b[0m\u001b[0;34m\u001b[0m\u001b[0;34m\u001b[0m\u001b[0m\n\u001b[1;32m    726\u001b[0m         \u001b[0;32melse\u001b[0m\u001b[0;34m:\u001b[0m\u001b[0;34m\u001b[0m\u001b[0;34m\u001b[0m\u001b[0m\n\u001b[0;32m--> 727\u001b[0;31m             \u001b[0mresult\u001b[0m \u001b[0;34m=\u001b[0m \u001b[0mself\u001b[0m\u001b[0;34m.\u001b[0m\u001b[0mforward\u001b[0m\u001b[0;34m(\u001b[0m\u001b[0;34m*\u001b[0m\u001b[0minput\u001b[0m\u001b[0;34m,\u001b[0m \u001b[0;34m**\u001b[0m\u001b[0mkwargs\u001b[0m\u001b[0;34m)\u001b[0m\u001b[0;34m\u001b[0m\u001b[0;34m\u001b[0m\u001b[0m\n\u001b[0m\u001b[1;32m    728\u001b[0m         for hook in itertools.chain(\n\u001b[1;32m    729\u001b[0m                 \u001b[0m_global_forward_hooks\u001b[0m\u001b[0;34m.\u001b[0m\u001b[0mvalues\u001b[0m\u001b[0;34m(\u001b[0m\u001b[0;34m)\u001b[0m\u001b[0;34m,\u001b[0m\u001b[0;34m\u001b[0m\u001b[0;34m\u001b[0m\u001b[0m\n",
      "\u001b[0;32m~/anaconda3/lib/python3.8/site-packages/torch/nn/modules/linear.py\u001b[0m in \u001b[0;36mforward\u001b[0;34m(self, input)\u001b[0m\n\u001b[1;32m     91\u001b[0m \u001b[0;34m\u001b[0m\u001b[0m\n\u001b[1;32m     92\u001b[0m     \u001b[0;32mdef\u001b[0m \u001b[0mforward\u001b[0m\u001b[0;34m(\u001b[0m\u001b[0mself\u001b[0m\u001b[0;34m,\u001b[0m \u001b[0minput\u001b[0m\u001b[0;34m:\u001b[0m \u001b[0mTensor\u001b[0m\u001b[0;34m)\u001b[0m \u001b[0;34m->\u001b[0m \u001b[0mTensor\u001b[0m\u001b[0;34m:\u001b[0m\u001b[0;34m\u001b[0m\u001b[0;34m\u001b[0m\u001b[0m\n\u001b[0;32m---> 93\u001b[0;31m         \u001b[0;32mreturn\u001b[0m \u001b[0mF\u001b[0m\u001b[0;34m.\u001b[0m\u001b[0mlinear\u001b[0m\u001b[0;34m(\u001b[0m\u001b[0minput\u001b[0m\u001b[0;34m,\u001b[0m \u001b[0mself\u001b[0m\u001b[0;34m.\u001b[0m\u001b[0mweight\u001b[0m\u001b[0;34m,\u001b[0m \u001b[0mself\u001b[0m\u001b[0;34m.\u001b[0m\u001b[0mbias\u001b[0m\u001b[0;34m)\u001b[0m\u001b[0;34m\u001b[0m\u001b[0;34m\u001b[0m\u001b[0m\n\u001b[0m\u001b[1;32m     94\u001b[0m \u001b[0;34m\u001b[0m\u001b[0m\n\u001b[1;32m     95\u001b[0m     \u001b[0;32mdef\u001b[0m \u001b[0mextra_repr\u001b[0m\u001b[0;34m(\u001b[0m\u001b[0mself\u001b[0m\u001b[0;34m)\u001b[0m \u001b[0;34m->\u001b[0m \u001b[0mstr\u001b[0m\u001b[0;34m:\u001b[0m\u001b[0;34m\u001b[0m\u001b[0;34m\u001b[0m\u001b[0m\n",
      "\u001b[0;32m~/anaconda3/lib/python3.8/site-packages/torch/nn/functional.py\u001b[0m in \u001b[0;36mlinear\u001b[0;34m(input, weight, bias)\u001b[0m\n\u001b[1;32m   1690\u001b[0m         \u001b[0mret\u001b[0m \u001b[0;34m=\u001b[0m \u001b[0mtorch\u001b[0m\u001b[0;34m.\u001b[0m\u001b[0maddmm\u001b[0m\u001b[0;34m(\u001b[0m\u001b[0mbias\u001b[0m\u001b[0;34m,\u001b[0m \u001b[0minput\u001b[0m\u001b[0;34m,\u001b[0m \u001b[0mweight\u001b[0m\u001b[0;34m.\u001b[0m\u001b[0mt\u001b[0m\u001b[0;34m(\u001b[0m\u001b[0;34m)\u001b[0m\u001b[0;34m)\u001b[0m\u001b[0;34m\u001b[0m\u001b[0;34m\u001b[0m\u001b[0m\n\u001b[1;32m   1691\u001b[0m     \u001b[0;32melse\u001b[0m\u001b[0;34m:\u001b[0m\u001b[0;34m\u001b[0m\u001b[0;34m\u001b[0m\u001b[0m\n\u001b[0;32m-> 1692\u001b[0;31m         \u001b[0moutput\u001b[0m \u001b[0;34m=\u001b[0m \u001b[0minput\u001b[0m\u001b[0;34m.\u001b[0m\u001b[0mmatmul\u001b[0m\u001b[0;34m(\u001b[0m\u001b[0mweight\u001b[0m\u001b[0;34m.\u001b[0m\u001b[0mt\u001b[0m\u001b[0;34m(\u001b[0m\u001b[0;34m)\u001b[0m\u001b[0;34m)\u001b[0m\u001b[0;34m\u001b[0m\u001b[0;34m\u001b[0m\u001b[0m\n\u001b[0m\u001b[1;32m   1693\u001b[0m         \u001b[0;32mif\u001b[0m \u001b[0mbias\u001b[0m \u001b[0;32mis\u001b[0m \u001b[0;32mnot\u001b[0m \u001b[0;32mNone\u001b[0m\u001b[0;34m:\u001b[0m\u001b[0;34m\u001b[0m\u001b[0;34m\u001b[0m\u001b[0m\n\u001b[1;32m   1694\u001b[0m             \u001b[0moutput\u001b[0m \u001b[0;34m+=\u001b[0m \u001b[0mbias\u001b[0m\u001b[0;34m\u001b[0m\u001b[0;34m\u001b[0m\u001b[0m\n",
      "\u001b[0;31mRuntimeError\u001b[0m: expected scalar type Double but found Float"
     ]
    }
   ],
   "source": [
    "\n",
    "\n",
    "\n",
    "id = 15\n",
    "mask = np.zeros_like(id_s, dtype=np.bool)\n",
    "\n",
    "\n",
    "\n",
    "\n",
    "j, traj = id_s[id], trajs[id]\n",
    "   \n",
    "print(j)\n",
    "\n",
    "frames, pos_vel =da.person(j) \n",
    "\n",
    "frames, _ = da.grab_roi(frames, pos_vel )\n",
    "\n",
    "\n",
    "\n",
    "for i in range(len(traj)-1):\n",
    "    print(traj[i], traj[i].shape)\n",
    "    x_sim = torch.from_numpy(traj[i]).to(device)\n",
    "    \n",
    "    \n",
    "    \n",
    "    y_sim = model(x_sim)\n",
    "    \n",
    "    agent.step(traj[i])\n",
    "    \n",
    "    v_sim = (y_sim[:2]-x_sim[:2])/FPS\n",
    "    traj[i+1, :2] = y_sim.cpu().detach().numpy()\n",
    "    traj[i+1, 2:4] = v_sim.cpu().detach().numpy()\n",
    "\n",
    "\n",
    "\n",
    "da.append_person(100+j,frames,  traj[:,:2])"
   ]
  },
  {
   "cell_type": "code",
   "execution_count": null,
   "metadata": {},
   "outputs": [],
   "source": [
    "animatePreview(da, boundaries=[-600, 600, -250, 150], step=10)"
   ]
  },
  {
   "cell_type": "code",
   "execution_count": null,
   "metadata": {},
   "outputs": [],
   "source": [
    "plotTraj(da,  boundaries=[-600, 600, -250, 150],\n",
    "         people=None,\n",
    "         ai=[20, 120],\n",
    "         legend=False,\n",
    "         title=\"Trajectories\",\n",
    "         path=\"trajectories.png\",\n",
    "         save=False)"
   ]
  },
  {
   "cell_type": "code",
   "execution_count": 129,
   "metadata": {},
   "outputs": [],
   "source": [
    "torch.save(model.state_dict(), \"model.dat\")"
   ]
  },
  {
   "cell_type": "code",
   "execution_count": null,
   "metadata": {},
   "outputs": [],
   "source": [
    "ani = animateTraj(da, frame_start=220, frame_stop=370, boundaries=[-600, 600, -250, 150], step=5, fps=16, title=\"Trajectory Animation\")\n",
    "ani"
   ]
  },
  {
   "cell_type": "code",
   "execution_count": 103,
   "metadata": {},
   "outputs": [],
   "source": []
  },
  {
   "cell_type": "code",
   "execution_count": 62,
   "metadata": {},
   "outputs": [
    {
     "data": {
      "text/plain": [
       "array([1, 2, 3, 0, 5, 6])"
      ]
     },
     "execution_count": 62,
     "metadata": {},
     "output_type": "execute_result"
    }
   ],
   "source": [
    "np.concatenate ([[1,2,3],[0],[5,6]])"
   ]
  },
  {
   "cell_type": "code",
   "execution_count": 53,
   "metadata": {},
   "outputs": [],
   "source": [
    "class Model(torch.nn.Module):\n",
    "\n",
    "    def __init__(self):\n",
    "        super().__init__()\n",
    "        self.model = torch.nn.ModuleDict({\n",
    "            'lstm': torch.nn.LSTM(\n",
    "                input_size=D_in,    # 45, see the data definition\n",
    "                hidden_size=l_o,  # Can vary\n",
    "            ),\n",
    "            'linear1': torch.nn.Linear(\n",
    "                in_features=l_o,\n",
    "                out_features=D_out)\n",
    "        })\n",
    "        \n",
    "    def forward(self, x):\n",
    "\n",
    "        # From [batches, seqs, seq len, features]\n",
    "        # to [seq len, batch data, features]\n",
    "        x = x.view(x_seq_len, -1, x_features)\n",
    "       \n",
    "        # Data is fed to the LSTM\n",
    "        out, _ = self.model['lstm'](x)\n",
    "        \n",
    "\n",
    "        # From [seq len, batch, num_directions * hidden_size]\n",
    "        # to [batches, seqs, seq_len,prediction]\n",
    "        out = out.view(x_batches, x_seqs, x_seq_len, -1)\n",
    "      \n",
    "\n",
    "        # Data is fed to the Linear layer\n",
    "        out = self.model['linear1'](out)\n",
    "       \n",
    "\n",
    "        # The prediction utilizing the whole sequence is the last one\n",
    "        y_pred = out[:, :, -1].unsqueeze(-1)\n",
    "       \n",
    "\n",
    "        return y_pred\n",
    "\n",
    "\n",
    "model = Model()"
   ]
  }
 ],
 "metadata": {
  "kernelspec": {
   "display_name": "Python 3",
   "language": "python",
   "name": "python3"
  },
  "language_info": {
   "codemirror_mode": {
    "name": "ipython",
    "version": 3
   },
   "file_extension": ".py",
   "mimetype": "text/x-python",
   "name": "python",
   "nbconvert_exporter": "python",
   "pygments_lexer": "ipython3",
   "version": "3.8.3"
  }
 },
 "nbformat": 4,
 "nbformat_minor": 4
}
